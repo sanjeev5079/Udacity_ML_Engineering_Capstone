{
 "cells": [
  {
   "cell_type": "markdown",
   "metadata": {},
   "source": [
    "# Capstone Project - Starbucks\n",
    "## 1. Pre-processing\n",
    "\n",
    "Feature Engineering is the process of determining which features might be useful in training a model, and then converting raw data from log files and other sources into said features."
   ]
  },
  {
   "cell_type": "code",
   "execution_count": 81,
   "metadata": {},
   "outputs": [],
   "source": [
    "import pandas as pd\n",
    "import numpy as np\n",
    "import math\n",
    "import json\n",
    "import boto3\n",
    "import sagemaker\n",
    "from sklearn.svm import LinearSVC\n",
    "from sklearn.metrics import plot_roc_curve\n",
    "from sklearn.model_selection import train_test_split\n",
    "%matplotlib inline"
   ]
  },
  {
   "cell_type": "markdown",
   "metadata": {},
   "source": [
    "### Load the data"
   ]
  },
  {
   "cell_type": "code",
   "execution_count": 3,
   "metadata": {},
   "outputs": [],
   "source": [
    "# read in the json files\n",
    "portfolio = pd.read_json('data/portfolio.json', orient='records', lines=True)\n",
    "profile = pd.read_json('data/profile.json', orient='records', lines=True)\n",
    "transcript = pd.read_json('data/transcript.json', orient='records', lines=True)"
   ]
  },
  {
   "cell_type": "markdown",
   "metadata": {},
   "source": [
    "## portfolio\n",
    "\n",
    "\n",
    "### Overview"
   ]
  },
  {
   "cell_type": "code",
   "execution_count": 4,
   "metadata": {},
   "outputs": [
    {
     "name": "stdout",
     "output_type": "stream",
     "text": [
      "Shape of portfolio: (10, 6)\n",
      "\n"
     ]
    },
    {
     "data": {
      "text/html": [
       "<div>\n",
       "<style scoped>\n",
       "    .dataframe tbody tr th:only-of-type {\n",
       "        vertical-align: middle;\n",
       "    }\n",
       "\n",
       "    .dataframe tbody tr th {\n",
       "        vertical-align: top;\n",
       "    }\n",
       "\n",
       "    .dataframe thead th {\n",
       "        text-align: right;\n",
       "    }\n",
       "</style>\n",
       "<table border=\"1\" class=\"dataframe\">\n",
       "  <thead>\n",
       "    <tr style=\"text-align: right;\">\n",
       "      <th></th>\n",
       "      <th>reward</th>\n",
       "      <th>channels</th>\n",
       "      <th>difficulty</th>\n",
       "      <th>duration</th>\n",
       "      <th>offer_type</th>\n",
       "      <th>id</th>\n",
       "    </tr>\n",
       "  </thead>\n",
       "  <tbody>\n",
       "    <tr>\n",
       "      <th>0</th>\n",
       "      <td>10</td>\n",
       "      <td>[email, mobile, social]</td>\n",
       "      <td>10</td>\n",
       "      <td>7</td>\n",
       "      <td>bogo</td>\n",
       "      <td>ae264e3637204a6fb9bb56bc8210ddfd</td>\n",
       "    </tr>\n",
       "    <tr>\n",
       "      <th>1</th>\n",
       "      <td>10</td>\n",
       "      <td>[web, email, mobile, social]</td>\n",
       "      <td>10</td>\n",
       "      <td>5</td>\n",
       "      <td>bogo</td>\n",
       "      <td>4d5c57ea9a6940dd891ad53e9dbe8da0</td>\n",
       "    </tr>\n",
       "    <tr>\n",
       "      <th>2</th>\n",
       "      <td>0</td>\n",
       "      <td>[web, email, mobile]</td>\n",
       "      <td>0</td>\n",
       "      <td>4</td>\n",
       "      <td>informational</td>\n",
       "      <td>3f207df678b143eea3cee63160fa8bed</td>\n",
       "    </tr>\n",
       "    <tr>\n",
       "      <th>3</th>\n",
       "      <td>5</td>\n",
       "      <td>[web, email, mobile]</td>\n",
       "      <td>5</td>\n",
       "      <td>7</td>\n",
       "      <td>bogo</td>\n",
       "      <td>9b98b8c7a33c4b65b9aebfe6a799e6d9</td>\n",
       "    </tr>\n",
       "    <tr>\n",
       "      <th>4</th>\n",
       "      <td>5</td>\n",
       "      <td>[web, email]</td>\n",
       "      <td>20</td>\n",
       "      <td>10</td>\n",
       "      <td>discount</td>\n",
       "      <td>0b1e1539f2cc45b7b9fa7c272da2e1d7</td>\n",
       "    </tr>\n",
       "    <tr>\n",
       "      <th>5</th>\n",
       "      <td>3</td>\n",
       "      <td>[web, email, mobile, social]</td>\n",
       "      <td>7</td>\n",
       "      <td>7</td>\n",
       "      <td>discount</td>\n",
       "      <td>2298d6c36e964ae4a3e7e9706d1fb8c2</td>\n",
       "    </tr>\n",
       "    <tr>\n",
       "      <th>6</th>\n",
       "      <td>2</td>\n",
       "      <td>[web, email, mobile, social]</td>\n",
       "      <td>10</td>\n",
       "      <td>10</td>\n",
       "      <td>discount</td>\n",
       "      <td>fafdcd668e3743c1bb461111dcafc2a4</td>\n",
       "    </tr>\n",
       "    <tr>\n",
       "      <th>7</th>\n",
       "      <td>0</td>\n",
       "      <td>[email, mobile, social]</td>\n",
       "      <td>0</td>\n",
       "      <td>3</td>\n",
       "      <td>informational</td>\n",
       "      <td>5a8bc65990b245e5a138643cd4eb9837</td>\n",
       "    </tr>\n",
       "    <tr>\n",
       "      <th>8</th>\n",
       "      <td>5</td>\n",
       "      <td>[web, email, mobile, social]</td>\n",
       "      <td>5</td>\n",
       "      <td>5</td>\n",
       "      <td>bogo</td>\n",
       "      <td>f19421c1d4aa40978ebb69ca19b0e20d</td>\n",
       "    </tr>\n",
       "    <tr>\n",
       "      <th>9</th>\n",
       "      <td>2</td>\n",
       "      <td>[web, email, mobile]</td>\n",
       "      <td>10</td>\n",
       "      <td>7</td>\n",
       "      <td>discount</td>\n",
       "      <td>2906b810c7d4411798c6938adc9daaa5</td>\n",
       "    </tr>\n",
       "  </tbody>\n",
       "</table>\n",
       "</div>"
      ],
      "text/plain": [
       "   reward                      channels  difficulty  duration     offer_type  \\\n",
       "0      10       [email, mobile, social]          10         7           bogo   \n",
       "1      10  [web, email, mobile, social]          10         5           bogo   \n",
       "2       0          [web, email, mobile]           0         4  informational   \n",
       "3       5          [web, email, mobile]           5         7           bogo   \n",
       "4       5                  [web, email]          20        10       discount   \n",
       "5       3  [web, email, mobile, social]           7         7       discount   \n",
       "6       2  [web, email, mobile, social]          10        10       discount   \n",
       "7       0       [email, mobile, social]           0         3  informational   \n",
       "8       5  [web, email, mobile, social]           5         5           bogo   \n",
       "9       2          [web, email, mobile]          10         7       discount   \n",
       "\n",
       "                                 id  \n",
       "0  ae264e3637204a6fb9bb56bc8210ddfd  \n",
       "1  4d5c57ea9a6940dd891ad53e9dbe8da0  \n",
       "2  3f207df678b143eea3cee63160fa8bed  \n",
       "3  9b98b8c7a33c4b65b9aebfe6a799e6d9  \n",
       "4  0b1e1539f2cc45b7b9fa7c272da2e1d7  \n",
       "5  2298d6c36e964ae4a3e7e9706d1fb8c2  \n",
       "6  fafdcd668e3743c1bb461111dcafc2a4  \n",
       "7  5a8bc65990b245e5a138643cd4eb9837  \n",
       "8  f19421c1d4aa40978ebb69ca19b0e20d  \n",
       "9  2906b810c7d4411798c6938adc9daaa5  "
      ]
     },
     "execution_count": 4,
     "metadata": {},
     "output_type": "execute_result"
    }
   ],
   "source": [
    "print(\"Shape of portfolio: \" + str(portfolio.shape))\n",
    "print(\"\")\n",
    "portfolio"
   ]
  },
  {
   "cell_type": "markdown",
   "metadata": {},
   "source": [
    "## profile\n",
    "\n",
    "\n",
    "### Overview"
   ]
  },
  {
   "cell_type": "code",
   "execution_count": 5,
   "metadata": {
    "scrolled": true
   },
   "outputs": [
    {
     "name": "stdout",
     "output_type": "stream",
     "text": [
      "Shape of profile: (17000, 5)\n",
      "\n"
     ]
    },
    {
     "data": {
      "text/html": [
       "<div>\n",
       "<style scoped>\n",
       "    .dataframe tbody tr th:only-of-type {\n",
       "        vertical-align: middle;\n",
       "    }\n",
       "\n",
       "    .dataframe tbody tr th {\n",
       "        vertical-align: top;\n",
       "    }\n",
       "\n",
       "    .dataframe thead th {\n",
       "        text-align: right;\n",
       "    }\n",
       "</style>\n",
       "<table border=\"1\" class=\"dataframe\">\n",
       "  <thead>\n",
       "    <tr style=\"text-align: right;\">\n",
       "      <th></th>\n",
       "      <th>gender</th>\n",
       "      <th>age</th>\n",
       "      <th>id</th>\n",
       "      <th>became_member_on</th>\n",
       "      <th>income</th>\n",
       "    </tr>\n",
       "  </thead>\n",
       "  <tbody>\n",
       "    <tr>\n",
       "      <th>0</th>\n",
       "      <td>None</td>\n",
       "      <td>118</td>\n",
       "      <td>68be06ca386d4c31939f3a4f0e3dd783</td>\n",
       "      <td>20170212</td>\n",
       "      <td>NaN</td>\n",
       "    </tr>\n",
       "    <tr>\n",
       "      <th>1</th>\n",
       "      <td>F</td>\n",
       "      <td>55</td>\n",
       "      <td>0610b486422d4921ae7d2bf64640c50b</td>\n",
       "      <td>20170715</td>\n",
       "      <td>112000.0</td>\n",
       "    </tr>\n",
       "    <tr>\n",
       "      <th>2</th>\n",
       "      <td>None</td>\n",
       "      <td>118</td>\n",
       "      <td>38fe809add3b4fcf9315a9694bb96ff5</td>\n",
       "      <td>20180712</td>\n",
       "      <td>NaN</td>\n",
       "    </tr>\n",
       "    <tr>\n",
       "      <th>3</th>\n",
       "      <td>F</td>\n",
       "      <td>75</td>\n",
       "      <td>78afa995795e4d85b5d9ceeca43f5fef</td>\n",
       "      <td>20170509</td>\n",
       "      <td>100000.0</td>\n",
       "    </tr>\n",
       "    <tr>\n",
       "      <th>4</th>\n",
       "      <td>None</td>\n",
       "      <td>118</td>\n",
       "      <td>a03223e636434f42ac4c3df47e8bac43</td>\n",
       "      <td>20170804</td>\n",
       "      <td>NaN</td>\n",
       "    </tr>\n",
       "    <tr>\n",
       "      <th>...</th>\n",
       "      <td>...</td>\n",
       "      <td>...</td>\n",
       "      <td>...</td>\n",
       "      <td>...</td>\n",
       "      <td>...</td>\n",
       "    </tr>\n",
       "    <tr>\n",
       "      <th>16995</th>\n",
       "      <td>F</td>\n",
       "      <td>45</td>\n",
       "      <td>6d5f3a774f3d4714ab0c092238f3a1d7</td>\n",
       "      <td>20180604</td>\n",
       "      <td>54000.0</td>\n",
       "    </tr>\n",
       "    <tr>\n",
       "      <th>16996</th>\n",
       "      <td>M</td>\n",
       "      <td>61</td>\n",
       "      <td>2cb4f97358b841b9a9773a7aa05a9d77</td>\n",
       "      <td>20180713</td>\n",
       "      <td>72000.0</td>\n",
       "    </tr>\n",
       "    <tr>\n",
       "      <th>16997</th>\n",
       "      <td>M</td>\n",
       "      <td>49</td>\n",
       "      <td>01d26f638c274aa0b965d24cefe3183f</td>\n",
       "      <td>20170126</td>\n",
       "      <td>73000.0</td>\n",
       "    </tr>\n",
       "    <tr>\n",
       "      <th>16998</th>\n",
       "      <td>F</td>\n",
       "      <td>83</td>\n",
       "      <td>9dc1421481194dcd9400aec7c9ae6366</td>\n",
       "      <td>20160307</td>\n",
       "      <td>50000.0</td>\n",
       "    </tr>\n",
       "    <tr>\n",
       "      <th>16999</th>\n",
       "      <td>F</td>\n",
       "      <td>62</td>\n",
       "      <td>e4052622e5ba45a8b96b59aba68cf068</td>\n",
       "      <td>20170722</td>\n",
       "      <td>82000.0</td>\n",
       "    </tr>\n",
       "  </tbody>\n",
       "</table>\n",
       "<p>17000 rows × 5 columns</p>\n",
       "</div>"
      ],
      "text/plain": [
       "      gender  age                                id  became_member_on  \\\n",
       "0       None  118  68be06ca386d4c31939f3a4f0e3dd783          20170212   \n",
       "1          F   55  0610b486422d4921ae7d2bf64640c50b          20170715   \n",
       "2       None  118  38fe809add3b4fcf9315a9694bb96ff5          20180712   \n",
       "3          F   75  78afa995795e4d85b5d9ceeca43f5fef          20170509   \n",
       "4       None  118  a03223e636434f42ac4c3df47e8bac43          20170804   \n",
       "...      ...  ...                               ...               ...   \n",
       "16995      F   45  6d5f3a774f3d4714ab0c092238f3a1d7          20180604   \n",
       "16996      M   61  2cb4f97358b841b9a9773a7aa05a9d77          20180713   \n",
       "16997      M   49  01d26f638c274aa0b965d24cefe3183f          20170126   \n",
       "16998      F   83  9dc1421481194dcd9400aec7c9ae6366          20160307   \n",
       "16999      F   62  e4052622e5ba45a8b96b59aba68cf068          20170722   \n",
       "\n",
       "         income  \n",
       "0           NaN  \n",
       "1      112000.0  \n",
       "2           NaN  \n",
       "3      100000.0  \n",
       "4           NaN  \n",
       "...         ...  \n",
       "16995   54000.0  \n",
       "16996   72000.0  \n",
       "16997   73000.0  \n",
       "16998   50000.0  \n",
       "16999   82000.0  \n",
       "\n",
       "[17000 rows x 5 columns]"
      ]
     },
     "execution_count": 5,
     "metadata": {},
     "output_type": "execute_result"
    }
   ],
   "source": [
    "print(\"Shape of profile: \" + str(profile.shape))\n",
    "print(\"\")\n",
    "profile"
   ]
  },
  {
   "cell_type": "markdown",
   "metadata": {},
   "source": [
    "### Transformation\n",
    "\n",
    "Index the profile data using id feature. \n",
    "\n",
    "This will help later in joining it with portfolio and transcript to enrich the data."
   ]
  },
  {
   "cell_type": "code",
   "execution_count": 6,
   "metadata": {
    "scrolled": false
   },
   "outputs": [],
   "source": [
    "# make profile id the index\n",
    "profile_id_as_index = profile.copy()\n",
    "profile_id_as_index.set_index('id', inplace=True)\n"
   ]
  },
  {
   "cell_type": "markdown",
   "metadata": {},
   "source": [
    "### Resultant dataset"
   ]
  },
  {
   "cell_type": "code",
   "execution_count": 7,
   "metadata": {},
   "outputs": [
    {
     "data": {
      "text/html": [
       "<div>\n",
       "<style scoped>\n",
       "    .dataframe tbody tr th:only-of-type {\n",
       "        vertical-align: middle;\n",
       "    }\n",
       "\n",
       "    .dataframe tbody tr th {\n",
       "        vertical-align: top;\n",
       "    }\n",
       "\n",
       "    .dataframe thead th {\n",
       "        text-align: right;\n",
       "    }\n",
       "</style>\n",
       "<table border=\"1\" class=\"dataframe\">\n",
       "  <thead>\n",
       "    <tr style=\"text-align: right;\">\n",
       "      <th></th>\n",
       "      <th>gender</th>\n",
       "      <th>age</th>\n",
       "      <th>became_member_on</th>\n",
       "      <th>income</th>\n",
       "    </tr>\n",
       "    <tr>\n",
       "      <th>id</th>\n",
       "      <th></th>\n",
       "      <th></th>\n",
       "      <th></th>\n",
       "      <th></th>\n",
       "    </tr>\n",
       "  </thead>\n",
       "  <tbody>\n",
       "    <tr>\n",
       "      <th>68be06ca386d4c31939f3a4f0e3dd783</th>\n",
       "      <td>None</td>\n",
       "      <td>118</td>\n",
       "      <td>20170212</td>\n",
       "      <td>NaN</td>\n",
       "    </tr>\n",
       "    <tr>\n",
       "      <th>0610b486422d4921ae7d2bf64640c50b</th>\n",
       "      <td>F</td>\n",
       "      <td>55</td>\n",
       "      <td>20170715</td>\n",
       "      <td>112000.0</td>\n",
       "    </tr>\n",
       "    <tr>\n",
       "      <th>38fe809add3b4fcf9315a9694bb96ff5</th>\n",
       "      <td>None</td>\n",
       "      <td>118</td>\n",
       "      <td>20180712</td>\n",
       "      <td>NaN</td>\n",
       "    </tr>\n",
       "    <tr>\n",
       "      <th>78afa995795e4d85b5d9ceeca43f5fef</th>\n",
       "      <td>F</td>\n",
       "      <td>75</td>\n",
       "      <td>20170509</td>\n",
       "      <td>100000.0</td>\n",
       "    </tr>\n",
       "    <tr>\n",
       "      <th>a03223e636434f42ac4c3df47e8bac43</th>\n",
       "      <td>None</td>\n",
       "      <td>118</td>\n",
       "      <td>20170804</td>\n",
       "      <td>NaN</td>\n",
       "    </tr>\n",
       "    <tr>\n",
       "      <th>...</th>\n",
       "      <td>...</td>\n",
       "      <td>...</td>\n",
       "      <td>...</td>\n",
       "      <td>...</td>\n",
       "    </tr>\n",
       "    <tr>\n",
       "      <th>6d5f3a774f3d4714ab0c092238f3a1d7</th>\n",
       "      <td>F</td>\n",
       "      <td>45</td>\n",
       "      <td>20180604</td>\n",
       "      <td>54000.0</td>\n",
       "    </tr>\n",
       "    <tr>\n",
       "      <th>2cb4f97358b841b9a9773a7aa05a9d77</th>\n",
       "      <td>M</td>\n",
       "      <td>61</td>\n",
       "      <td>20180713</td>\n",
       "      <td>72000.0</td>\n",
       "    </tr>\n",
       "    <tr>\n",
       "      <th>01d26f638c274aa0b965d24cefe3183f</th>\n",
       "      <td>M</td>\n",
       "      <td>49</td>\n",
       "      <td>20170126</td>\n",
       "      <td>73000.0</td>\n",
       "    </tr>\n",
       "    <tr>\n",
       "      <th>9dc1421481194dcd9400aec7c9ae6366</th>\n",
       "      <td>F</td>\n",
       "      <td>83</td>\n",
       "      <td>20160307</td>\n",
       "      <td>50000.0</td>\n",
       "    </tr>\n",
       "    <tr>\n",
       "      <th>e4052622e5ba45a8b96b59aba68cf068</th>\n",
       "      <td>F</td>\n",
       "      <td>62</td>\n",
       "      <td>20170722</td>\n",
       "      <td>82000.0</td>\n",
       "    </tr>\n",
       "  </tbody>\n",
       "</table>\n",
       "<p>17000 rows × 4 columns</p>\n",
       "</div>"
      ],
      "text/plain": [
       "                                 gender  age  became_member_on    income\n",
       "id                                                                      \n",
       "68be06ca386d4c31939f3a4f0e3dd783   None  118          20170212       NaN\n",
       "0610b486422d4921ae7d2bf64640c50b      F   55          20170715  112000.0\n",
       "38fe809add3b4fcf9315a9694bb96ff5   None  118          20180712       NaN\n",
       "78afa995795e4d85b5d9ceeca43f5fef      F   75          20170509  100000.0\n",
       "a03223e636434f42ac4c3df47e8bac43   None  118          20170804       NaN\n",
       "...                                 ...  ...               ...       ...\n",
       "6d5f3a774f3d4714ab0c092238f3a1d7      F   45          20180604   54000.0\n",
       "2cb4f97358b841b9a9773a7aa05a9d77      M   61          20180713   72000.0\n",
       "01d26f638c274aa0b965d24cefe3183f      M   49          20170126   73000.0\n",
       "9dc1421481194dcd9400aec7c9ae6366      F   83          20160307   50000.0\n",
       "e4052622e5ba45a8b96b59aba68cf068      F   62          20170722   82000.0\n",
       "\n",
       "[17000 rows x 4 columns]"
      ]
     },
     "execution_count": 7,
     "metadata": {},
     "output_type": "execute_result"
    }
   ],
   "source": [
    "profile_id_as_index"
   ]
  },
  {
   "cell_type": "markdown",
   "metadata": {},
   "source": [
    "## transcript\n",
    "\n",
    "### Overview"
   ]
  },
  {
   "cell_type": "code",
   "execution_count": 8,
   "metadata": {
    "scrolled": true
   },
   "outputs": [
    {
     "name": "stdout",
     "output_type": "stream",
     "text": [
      "Shape of transcript: (306534, 4)\n",
      "\n"
     ]
    },
    {
     "data": {
      "text/html": [
       "<div>\n",
       "<style scoped>\n",
       "    .dataframe tbody tr th:only-of-type {\n",
       "        vertical-align: middle;\n",
       "    }\n",
       "\n",
       "    .dataframe tbody tr th {\n",
       "        vertical-align: top;\n",
       "    }\n",
       "\n",
       "    .dataframe thead th {\n",
       "        text-align: right;\n",
       "    }\n",
       "</style>\n",
       "<table border=\"1\" class=\"dataframe\">\n",
       "  <thead>\n",
       "    <tr style=\"text-align: right;\">\n",
       "      <th></th>\n",
       "      <th>person</th>\n",
       "      <th>event</th>\n",
       "      <th>value</th>\n",
       "      <th>time</th>\n",
       "    </tr>\n",
       "  </thead>\n",
       "  <tbody>\n",
       "    <tr>\n",
       "      <th>0</th>\n",
       "      <td>78afa995795e4d85b5d9ceeca43f5fef</td>\n",
       "      <td>offer received</td>\n",
       "      <td>{'offer id': '9b98b8c7a33c4b65b9aebfe6a799e6d9'}</td>\n",
       "      <td>0</td>\n",
       "    </tr>\n",
       "    <tr>\n",
       "      <th>1</th>\n",
       "      <td>a03223e636434f42ac4c3df47e8bac43</td>\n",
       "      <td>offer received</td>\n",
       "      <td>{'offer id': '0b1e1539f2cc45b7b9fa7c272da2e1d7'}</td>\n",
       "      <td>0</td>\n",
       "    </tr>\n",
       "    <tr>\n",
       "      <th>2</th>\n",
       "      <td>e2127556f4f64592b11af22de27a7932</td>\n",
       "      <td>offer received</td>\n",
       "      <td>{'offer id': '2906b810c7d4411798c6938adc9daaa5'}</td>\n",
       "      <td>0</td>\n",
       "    </tr>\n",
       "    <tr>\n",
       "      <th>3</th>\n",
       "      <td>8ec6ce2a7e7949b1bf142def7d0e0586</td>\n",
       "      <td>offer received</td>\n",
       "      <td>{'offer id': 'fafdcd668e3743c1bb461111dcafc2a4'}</td>\n",
       "      <td>0</td>\n",
       "    </tr>\n",
       "    <tr>\n",
       "      <th>4</th>\n",
       "      <td>68617ca6246f4fbc85e91a2a49552598</td>\n",
       "      <td>offer received</td>\n",
       "      <td>{'offer id': '4d5c57ea9a6940dd891ad53e9dbe8da0'}</td>\n",
       "      <td>0</td>\n",
       "    </tr>\n",
       "    <tr>\n",
       "      <th>...</th>\n",
       "      <td>...</td>\n",
       "      <td>...</td>\n",
       "      <td>...</td>\n",
       "      <td>...</td>\n",
       "    </tr>\n",
       "    <tr>\n",
       "      <th>306529</th>\n",
       "      <td>b3a1272bc9904337b331bf348c3e8c17</td>\n",
       "      <td>transaction</td>\n",
       "      <td>{'amount': 1.5899999999999999}</td>\n",
       "      <td>714</td>\n",
       "    </tr>\n",
       "    <tr>\n",
       "      <th>306530</th>\n",
       "      <td>68213b08d99a4ae1b0dcb72aebd9aa35</td>\n",
       "      <td>transaction</td>\n",
       "      <td>{'amount': 9.53}</td>\n",
       "      <td>714</td>\n",
       "    </tr>\n",
       "    <tr>\n",
       "      <th>306531</th>\n",
       "      <td>a00058cf10334a308c68e7631c529907</td>\n",
       "      <td>transaction</td>\n",
       "      <td>{'amount': 3.61}</td>\n",
       "      <td>714</td>\n",
       "    </tr>\n",
       "    <tr>\n",
       "      <th>306532</th>\n",
       "      <td>76ddbd6576844afe811f1a3c0fbb5bec</td>\n",
       "      <td>transaction</td>\n",
       "      <td>{'amount': 3.5300000000000002}</td>\n",
       "      <td>714</td>\n",
       "    </tr>\n",
       "    <tr>\n",
       "      <th>306533</th>\n",
       "      <td>c02b10e8752c4d8e9b73f918558531f7</td>\n",
       "      <td>transaction</td>\n",
       "      <td>{'amount': 4.05}</td>\n",
       "      <td>714</td>\n",
       "    </tr>\n",
       "  </tbody>\n",
       "</table>\n",
       "<p>306534 rows × 4 columns</p>\n",
       "</div>"
      ],
      "text/plain": [
       "                                  person           event  \\\n",
       "0       78afa995795e4d85b5d9ceeca43f5fef  offer received   \n",
       "1       a03223e636434f42ac4c3df47e8bac43  offer received   \n",
       "2       e2127556f4f64592b11af22de27a7932  offer received   \n",
       "3       8ec6ce2a7e7949b1bf142def7d0e0586  offer received   \n",
       "4       68617ca6246f4fbc85e91a2a49552598  offer received   \n",
       "...                                  ...             ...   \n",
       "306529  b3a1272bc9904337b331bf348c3e8c17     transaction   \n",
       "306530  68213b08d99a4ae1b0dcb72aebd9aa35     transaction   \n",
       "306531  a00058cf10334a308c68e7631c529907     transaction   \n",
       "306532  76ddbd6576844afe811f1a3c0fbb5bec     transaction   \n",
       "306533  c02b10e8752c4d8e9b73f918558531f7     transaction   \n",
       "\n",
       "                                                   value  time  \n",
       "0       {'offer id': '9b98b8c7a33c4b65b9aebfe6a799e6d9'}     0  \n",
       "1       {'offer id': '0b1e1539f2cc45b7b9fa7c272da2e1d7'}     0  \n",
       "2       {'offer id': '2906b810c7d4411798c6938adc9daaa5'}     0  \n",
       "3       {'offer id': 'fafdcd668e3743c1bb461111dcafc2a4'}     0  \n",
       "4       {'offer id': '4d5c57ea9a6940dd891ad53e9dbe8da0'}     0  \n",
       "...                                                  ...   ...  \n",
       "306529                    {'amount': 1.5899999999999999}   714  \n",
       "306530                                  {'amount': 9.53}   714  \n",
       "306531                                  {'amount': 3.61}   714  \n",
       "306532                    {'amount': 3.5300000000000002}   714  \n",
       "306533                                  {'amount': 4.05}   714  \n",
       "\n",
       "[306534 rows x 4 columns]"
      ]
     },
     "execution_count": 8,
     "metadata": {},
     "output_type": "execute_result"
    }
   ],
   "source": [
    "print(\"Shape of transcript: \" + str(transcript.shape))\n",
    "print(\"\")\n",
    "transcript"
   ]
  },
  {
   "cell_type": "markdown",
   "metadata": {},
   "source": [
    "### Transformation\n",
    "\n",
    "#### Filter out the customer who have completed the offers. \n",
    "\n",
    "This is important as we are intersted in customers completing their offers."
   ]
  },
  {
   "cell_type": "code",
   "execution_count": 9,
   "metadata": {},
   "outputs": [],
   "source": [
    "# Filter out the customer who have completed the offers.\n",
    "completed_offers = transcript[transcript['event'] == 'offer completed'].copy()\n"
   ]
  },
  {
   "cell_type": "markdown",
   "metadata": {},
   "source": [
    "Add a new column offer_id. \n",
    "\n",
    "This extracts the value from the key:value parin in the feater called 'value'. As in current form its unusable."
   ]
  },
  {
   "cell_type": "code",
   "execution_count": 10,
   "metadata": {
    "scrolled": true
   },
   "outputs": [
    {
     "data": {
      "text/html": [
       "<div>\n",
       "<style scoped>\n",
       "    .dataframe tbody tr th:only-of-type {\n",
       "        vertical-align: middle;\n",
       "    }\n",
       "\n",
       "    .dataframe tbody tr th {\n",
       "        vertical-align: top;\n",
       "    }\n",
       "\n",
       "    .dataframe thead th {\n",
       "        text-align: right;\n",
       "    }\n",
       "</style>\n",
       "<table border=\"1\" class=\"dataframe\">\n",
       "  <thead>\n",
       "    <tr style=\"text-align: right;\">\n",
       "      <th></th>\n",
       "      <th>person</th>\n",
       "      <th>event</th>\n",
       "      <th>value</th>\n",
       "      <th>time</th>\n",
       "      <th>offer_id</th>\n",
       "    </tr>\n",
       "  </thead>\n",
       "  <tbody>\n",
       "    <tr>\n",
       "      <th>12658</th>\n",
       "      <td>9fa9ae8f57894cc9a3b8a9bbe0fc1b2f</td>\n",
       "      <td>offer completed</td>\n",
       "      <td>{'offer_id': '2906b810c7d4411798c6938adc9daaa5...</td>\n",
       "      <td>0</td>\n",
       "      <td>2906b810c7d4411798c6938adc9daaa5</td>\n",
       "    </tr>\n",
       "    <tr>\n",
       "      <th>12672</th>\n",
       "      <td>fe97aa22dd3e48c8b143116a8403dd52</td>\n",
       "      <td>offer completed</td>\n",
       "      <td>{'offer_id': 'fafdcd668e3743c1bb461111dcafc2a4...</td>\n",
       "      <td>0</td>\n",
       "      <td>fafdcd668e3743c1bb461111dcafc2a4</td>\n",
       "    </tr>\n",
       "    <tr>\n",
       "      <th>12679</th>\n",
       "      <td>629fc02d56414d91bca360decdfa9288</td>\n",
       "      <td>offer completed</td>\n",
       "      <td>{'offer_id': '9b98b8c7a33c4b65b9aebfe6a799e6d9...</td>\n",
       "      <td>0</td>\n",
       "      <td>9b98b8c7a33c4b65b9aebfe6a799e6d9</td>\n",
       "    </tr>\n",
       "    <tr>\n",
       "      <th>12692</th>\n",
       "      <td>676506bad68e4161b9bbaffeb039626b</td>\n",
       "      <td>offer completed</td>\n",
       "      <td>{'offer_id': 'ae264e3637204a6fb9bb56bc8210ddfd...</td>\n",
       "      <td>0</td>\n",
       "      <td>ae264e3637204a6fb9bb56bc8210ddfd</td>\n",
       "    </tr>\n",
       "    <tr>\n",
       "      <th>12697</th>\n",
       "      <td>8f7dd3b2afe14c078eb4f6e6fe4ba97d</td>\n",
       "      <td>offer completed</td>\n",
       "      <td>{'offer_id': '4d5c57ea9a6940dd891ad53e9dbe8da0...</td>\n",
       "      <td>0</td>\n",
       "      <td>4d5c57ea9a6940dd891ad53e9dbe8da0</td>\n",
       "    </tr>\n",
       "    <tr>\n",
       "      <th>...</th>\n",
       "      <td>...</td>\n",
       "      <td>...</td>\n",
       "      <td>...</td>\n",
       "      <td>...</td>\n",
       "      <td>...</td>\n",
       "    </tr>\n",
       "    <tr>\n",
       "      <th>306475</th>\n",
       "      <td>0c027f5f34dd4b9eba0a25785c611273</td>\n",
       "      <td>offer completed</td>\n",
       "      <td>{'offer_id': '2298d6c36e964ae4a3e7e9706d1fb8c2...</td>\n",
       "      <td>714</td>\n",
       "      <td>2298d6c36e964ae4a3e7e9706d1fb8c2</td>\n",
       "    </tr>\n",
       "    <tr>\n",
       "      <th>306497</th>\n",
       "      <td>a6f84f4e976f44508c358cc9aba6d2b3</td>\n",
       "      <td>offer completed</td>\n",
       "      <td>{'offer_id': '2298d6c36e964ae4a3e7e9706d1fb8c2...</td>\n",
       "      <td>714</td>\n",
       "      <td>2298d6c36e964ae4a3e7e9706d1fb8c2</td>\n",
       "    </tr>\n",
       "    <tr>\n",
       "      <th>306506</th>\n",
       "      <td>b895c57e8cd047a8872ce02aa54759d6</td>\n",
       "      <td>offer completed</td>\n",
       "      <td>{'offer_id': 'fafdcd668e3743c1bb461111dcafc2a4...</td>\n",
       "      <td>714</td>\n",
       "      <td>fafdcd668e3743c1bb461111dcafc2a4</td>\n",
       "    </tr>\n",
       "    <tr>\n",
       "      <th>306509</th>\n",
       "      <td>8431c16f8e1d440880db371a68f82dd0</td>\n",
       "      <td>offer completed</td>\n",
       "      <td>{'offer_id': 'fafdcd668e3743c1bb461111dcafc2a4...</td>\n",
       "      <td>714</td>\n",
       "      <td>fafdcd668e3743c1bb461111dcafc2a4</td>\n",
       "    </tr>\n",
       "    <tr>\n",
       "      <th>306527</th>\n",
       "      <td>24f56b5e1849462093931b164eb803b5</td>\n",
       "      <td>offer completed</td>\n",
       "      <td>{'offer_id': 'fafdcd668e3743c1bb461111dcafc2a4...</td>\n",
       "      <td>714</td>\n",
       "      <td>fafdcd668e3743c1bb461111dcafc2a4</td>\n",
       "    </tr>\n",
       "  </tbody>\n",
       "</table>\n",
       "<p>33579 rows × 5 columns</p>\n",
       "</div>"
      ],
      "text/plain": [
       "                                  person            event  \\\n",
       "12658   9fa9ae8f57894cc9a3b8a9bbe0fc1b2f  offer completed   \n",
       "12672   fe97aa22dd3e48c8b143116a8403dd52  offer completed   \n",
       "12679   629fc02d56414d91bca360decdfa9288  offer completed   \n",
       "12692   676506bad68e4161b9bbaffeb039626b  offer completed   \n",
       "12697   8f7dd3b2afe14c078eb4f6e6fe4ba97d  offer completed   \n",
       "...                                  ...              ...   \n",
       "306475  0c027f5f34dd4b9eba0a25785c611273  offer completed   \n",
       "306497  a6f84f4e976f44508c358cc9aba6d2b3  offer completed   \n",
       "306506  b895c57e8cd047a8872ce02aa54759d6  offer completed   \n",
       "306509  8431c16f8e1d440880db371a68f82dd0  offer completed   \n",
       "306527  24f56b5e1849462093931b164eb803b5  offer completed   \n",
       "\n",
       "                                                    value  time  \\\n",
       "12658   {'offer_id': '2906b810c7d4411798c6938adc9daaa5...     0   \n",
       "12672   {'offer_id': 'fafdcd668e3743c1bb461111dcafc2a4...     0   \n",
       "12679   {'offer_id': '9b98b8c7a33c4b65b9aebfe6a799e6d9...     0   \n",
       "12692   {'offer_id': 'ae264e3637204a6fb9bb56bc8210ddfd...     0   \n",
       "12697   {'offer_id': '4d5c57ea9a6940dd891ad53e9dbe8da0...     0   \n",
       "...                                                   ...   ...   \n",
       "306475  {'offer_id': '2298d6c36e964ae4a3e7e9706d1fb8c2...   714   \n",
       "306497  {'offer_id': '2298d6c36e964ae4a3e7e9706d1fb8c2...   714   \n",
       "306506  {'offer_id': 'fafdcd668e3743c1bb461111dcafc2a4...   714   \n",
       "306509  {'offer_id': 'fafdcd668e3743c1bb461111dcafc2a4...   714   \n",
       "306527  {'offer_id': 'fafdcd668e3743c1bb461111dcafc2a4...   714   \n",
       "\n",
       "                                offer_id  \n",
       "12658   2906b810c7d4411798c6938adc9daaa5  \n",
       "12672   fafdcd668e3743c1bb461111dcafc2a4  \n",
       "12679   9b98b8c7a33c4b65b9aebfe6a799e6d9  \n",
       "12692   ae264e3637204a6fb9bb56bc8210ddfd  \n",
       "12697   4d5c57ea9a6940dd891ad53e9dbe8da0  \n",
       "...                                  ...  \n",
       "306475  2298d6c36e964ae4a3e7e9706d1fb8c2  \n",
       "306497  2298d6c36e964ae4a3e7e9706d1fb8c2  \n",
       "306506  fafdcd668e3743c1bb461111dcafc2a4  \n",
       "306509  fafdcd668e3743c1bb461111dcafc2a4  \n",
       "306527  fafdcd668e3743c1bb461111dcafc2a4  \n",
       "\n",
       "[33579 rows x 5 columns]"
      ]
     },
     "execution_count": 10,
     "metadata": {},
     "output_type": "execute_result"
    }
   ],
   "source": [
    "completed_offers['offer_id'] = completed_offers.apply(lambda row: row.value['offer_id'], axis=1)\n",
    "completed_offers"
   ]
  },
  {
   "cell_type": "markdown",
   "metadata": {},
   "source": [
    "#### Filter out the customer who have viewed the offers.\n",
    "\n",
    "This is needed as we will be joining it with the the customer who have completed the offers."
   ]
  },
  {
   "cell_type": "code",
   "execution_count": 11,
   "metadata": {
    "scrolled": true
   },
   "outputs": [
    {
     "data": {
      "text/html": [
       "<div>\n",
       "<style scoped>\n",
       "    .dataframe tbody tr th:only-of-type {\n",
       "        vertical-align: middle;\n",
       "    }\n",
       "\n",
       "    .dataframe tbody tr th {\n",
       "        vertical-align: top;\n",
       "    }\n",
       "\n",
       "    .dataframe thead th {\n",
       "        text-align: right;\n",
       "    }\n",
       "</style>\n",
       "<table border=\"1\" class=\"dataframe\">\n",
       "  <thead>\n",
       "    <tr style=\"text-align: right;\">\n",
       "      <th></th>\n",
       "      <th>person</th>\n",
       "      <th>event</th>\n",
       "      <th>value</th>\n",
       "      <th>time</th>\n",
       "    </tr>\n",
       "  </thead>\n",
       "  <tbody>\n",
       "    <tr>\n",
       "      <th>12650</th>\n",
       "      <td>389bc3fa690240e798340f5a15918d5c</td>\n",
       "      <td>offer viewed</td>\n",
       "      <td>{'offer id': 'f19421c1d4aa40978ebb69ca19b0e20d'}</td>\n",
       "      <td>0</td>\n",
       "    </tr>\n",
       "    <tr>\n",
       "      <th>12651</th>\n",
       "      <td>d1ede868e29245ea91818a903fec04c6</td>\n",
       "      <td>offer viewed</td>\n",
       "      <td>{'offer id': '5a8bc65990b245e5a138643cd4eb9837'}</td>\n",
       "      <td>0</td>\n",
       "    </tr>\n",
       "    <tr>\n",
       "      <th>12652</th>\n",
       "      <td>102e9454054946fda62242d2e176fdce</td>\n",
       "      <td>offer viewed</td>\n",
       "      <td>{'offer id': '4d5c57ea9a6940dd891ad53e9dbe8da0'}</td>\n",
       "      <td>0</td>\n",
       "    </tr>\n",
       "    <tr>\n",
       "      <th>12653</th>\n",
       "      <td>02c083884c7d45b39cc68e1314fec56c</td>\n",
       "      <td>offer viewed</td>\n",
       "      <td>{'offer id': 'ae264e3637204a6fb9bb56bc8210ddfd'}</td>\n",
       "      <td>0</td>\n",
       "    </tr>\n",
       "    <tr>\n",
       "      <th>12655</th>\n",
       "      <td>be8a5d1981a2458d90b255ddc7e0d174</td>\n",
       "      <td>offer viewed</td>\n",
       "      <td>{'offer id': '5a8bc65990b245e5a138643cd4eb9837'}</td>\n",
       "      <td>0</td>\n",
       "    </tr>\n",
       "    <tr>\n",
       "      <th>...</th>\n",
       "      <td>...</td>\n",
       "      <td>...</td>\n",
       "      <td>...</td>\n",
       "      <td>...</td>\n",
       "    </tr>\n",
       "    <tr>\n",
       "      <th>14048</th>\n",
       "      <td>7f370edef8ae471bb1e3067f84f5a9d0</td>\n",
       "      <td>offer viewed</td>\n",
       "      <td>{'offer id': '4d5c57ea9a6940dd891ad53e9dbe8da0'}</td>\n",
       "      <td>0</td>\n",
       "    </tr>\n",
       "    <tr>\n",
       "      <th>14049</th>\n",
       "      <td>a9c89c0882154db68a99adcf81eac27e</td>\n",
       "      <td>offer viewed</td>\n",
       "      <td>{'offer id': '9b98b8c7a33c4b65b9aebfe6a799e6d9'}</td>\n",
       "      <td>0</td>\n",
       "    </tr>\n",
       "    <tr>\n",
       "      <th>14050</th>\n",
       "      <td>798d915dfb6a4477adf06802ba29477e</td>\n",
       "      <td>offer viewed</td>\n",
       "      <td>{'offer id': '2298d6c36e964ae4a3e7e9706d1fb8c2'}</td>\n",
       "      <td>0</td>\n",
       "    </tr>\n",
       "    <tr>\n",
       "      <th>14051</th>\n",
       "      <td>e4c38c75c12f4bec9fb35546b14c5fd5</td>\n",
       "      <td>offer viewed</td>\n",
       "      <td>{'offer id': 'fafdcd668e3743c1bb461111dcafc2a4'}</td>\n",
       "      <td>0</td>\n",
       "    </tr>\n",
       "    <tr>\n",
       "      <th>14052</th>\n",
       "      <td>31bf20236dda4f92b15153c439352a25</td>\n",
       "      <td>offer viewed</td>\n",
       "      <td>{'offer id': '2298d6c36e964ae4a3e7e9706d1fb8c2'}</td>\n",
       "      <td>0</td>\n",
       "    </tr>\n",
       "  </tbody>\n",
       "</table>\n",
       "<p>1000 rows × 4 columns</p>\n",
       "</div>"
      ],
      "text/plain": [
       "                                 person         event  \\\n",
       "12650  389bc3fa690240e798340f5a15918d5c  offer viewed   \n",
       "12651  d1ede868e29245ea91818a903fec04c6  offer viewed   \n",
       "12652  102e9454054946fda62242d2e176fdce  offer viewed   \n",
       "12653  02c083884c7d45b39cc68e1314fec56c  offer viewed   \n",
       "12655  be8a5d1981a2458d90b255ddc7e0d174  offer viewed   \n",
       "...                                 ...           ...   \n",
       "14048  7f370edef8ae471bb1e3067f84f5a9d0  offer viewed   \n",
       "14049  a9c89c0882154db68a99adcf81eac27e  offer viewed   \n",
       "14050  798d915dfb6a4477adf06802ba29477e  offer viewed   \n",
       "14051  e4c38c75c12f4bec9fb35546b14c5fd5  offer viewed   \n",
       "14052  31bf20236dda4f92b15153c439352a25  offer viewed   \n",
       "\n",
       "                                                  value  time  \n",
       "12650  {'offer id': 'f19421c1d4aa40978ebb69ca19b0e20d'}     0  \n",
       "12651  {'offer id': '5a8bc65990b245e5a138643cd4eb9837'}     0  \n",
       "12652  {'offer id': '4d5c57ea9a6940dd891ad53e9dbe8da0'}     0  \n",
       "12653  {'offer id': 'ae264e3637204a6fb9bb56bc8210ddfd'}     0  \n",
       "12655  {'offer id': '5a8bc65990b245e5a138643cd4eb9837'}     0  \n",
       "...                                                 ...   ...  \n",
       "14048  {'offer id': '4d5c57ea9a6940dd891ad53e9dbe8da0'}     0  \n",
       "14049  {'offer id': '9b98b8c7a33c4b65b9aebfe6a799e6d9'}     0  \n",
       "14050  {'offer id': '2298d6c36e964ae4a3e7e9706d1fb8c2'}     0  \n",
       "14051  {'offer id': 'fafdcd668e3743c1bb461111dcafc2a4'}     0  \n",
       "14052  {'offer id': '2298d6c36e964ae4a3e7e9706d1fb8c2'}     0  \n",
       "\n",
       "[1000 rows x 4 columns]"
      ]
     },
     "execution_count": 11,
     "metadata": {},
     "output_type": "execute_result"
    }
   ],
   "source": [
    "# Filer out all the customers who have viewed the offer.\n",
    "viewed_offers_df = transcript[transcript['event'] == 'offer viewed'].iloc[0:1000].copy()\n",
    "viewed_offers_df"
   ]
  },
  {
   "cell_type": "markdown",
   "metadata": {},
   "source": [
    "#### Finding customer who have viewed and also complted the offers.\n",
    "\n",
    "Below methods tabkes the:\n",
    "    * person_id\n",
    "    * offer_id\n",
    "    * cpmplted_offers data\n",
    "\n",
    "    Returns: dataframe with customer who have viewed offers and also complted them."
   ]
  },
  {
   "cell_type": "code",
   "execution_count": 12,
   "metadata": {},
   "outputs": [],
   "source": [
    "# method will find out all the cutomers whoi have completed the offers.\n",
    "def is_offer_used(person_id, offer_id, completed_offers):\n",
    "    offer_used = completed_offers[(completed_offers['person'] == person_id) & (completed_offers['offer_id'] == offer_id)]\n",
    "    return int(not offer_used.empty)"
   ]
  },
  {
   "cell_type": "markdown",
   "metadata": {},
   "source": [
    "Using method 'is_offer_used', create 'offer_used_label'. \n",
    "\n",
    "* Label 1: Customers who have viewed and completed the offers.\n",
    "* Label 0: Customer who have only viewed the offers but never completed them."
   ]
  },
  {
   "cell_type": "code",
   "execution_count": 13,
   "metadata": {
    "scrolled": true
   },
   "outputs": [
    {
     "data": {
      "text/html": [
       "<div>\n",
       "<style scoped>\n",
       "    .dataframe tbody tr th:only-of-type {\n",
       "        vertical-align: middle;\n",
       "    }\n",
       "\n",
       "    .dataframe tbody tr th {\n",
       "        vertical-align: top;\n",
       "    }\n",
       "\n",
       "    .dataframe thead th {\n",
       "        text-align: right;\n",
       "    }\n",
       "</style>\n",
       "<table border=\"1\" class=\"dataframe\">\n",
       "  <thead>\n",
       "    <tr style=\"text-align: right;\">\n",
       "      <th></th>\n",
       "      <th>person</th>\n",
       "      <th>event</th>\n",
       "      <th>value</th>\n",
       "      <th>time</th>\n",
       "      <th>offer_used_label</th>\n",
       "    </tr>\n",
       "  </thead>\n",
       "  <tbody>\n",
       "    <tr>\n",
       "      <th>12650</th>\n",
       "      <td>389bc3fa690240e798340f5a15918d5c</td>\n",
       "      <td>offer viewed</td>\n",
       "      <td>{'offer id': 'f19421c1d4aa40978ebb69ca19b0e20d'}</td>\n",
       "      <td>0</td>\n",
       "      <td>1</td>\n",
       "    </tr>\n",
       "    <tr>\n",
       "      <th>12651</th>\n",
       "      <td>d1ede868e29245ea91818a903fec04c6</td>\n",
       "      <td>offer viewed</td>\n",
       "      <td>{'offer id': '5a8bc65990b245e5a138643cd4eb9837'}</td>\n",
       "      <td>0</td>\n",
       "      <td>0</td>\n",
       "    </tr>\n",
       "    <tr>\n",
       "      <th>12652</th>\n",
       "      <td>102e9454054946fda62242d2e176fdce</td>\n",
       "      <td>offer viewed</td>\n",
       "      <td>{'offer id': '4d5c57ea9a6940dd891ad53e9dbe8da0'}</td>\n",
       "      <td>0</td>\n",
       "      <td>1</td>\n",
       "    </tr>\n",
       "    <tr>\n",
       "      <th>12653</th>\n",
       "      <td>02c083884c7d45b39cc68e1314fec56c</td>\n",
       "      <td>offer viewed</td>\n",
       "      <td>{'offer id': 'ae264e3637204a6fb9bb56bc8210ddfd'}</td>\n",
       "      <td>0</td>\n",
       "      <td>0</td>\n",
       "    </tr>\n",
       "    <tr>\n",
       "      <th>12655</th>\n",
       "      <td>be8a5d1981a2458d90b255ddc7e0d174</td>\n",
       "      <td>offer viewed</td>\n",
       "      <td>{'offer id': '5a8bc65990b245e5a138643cd4eb9837'}</td>\n",
       "      <td>0</td>\n",
       "      <td>0</td>\n",
       "    </tr>\n",
       "    <tr>\n",
       "      <th>...</th>\n",
       "      <td>...</td>\n",
       "      <td>...</td>\n",
       "      <td>...</td>\n",
       "      <td>...</td>\n",
       "      <td>...</td>\n",
       "    </tr>\n",
       "    <tr>\n",
       "      <th>14048</th>\n",
       "      <td>7f370edef8ae471bb1e3067f84f5a9d0</td>\n",
       "      <td>offer viewed</td>\n",
       "      <td>{'offer id': '4d5c57ea9a6940dd891ad53e9dbe8da0'}</td>\n",
       "      <td>0</td>\n",
       "      <td>0</td>\n",
       "    </tr>\n",
       "    <tr>\n",
       "      <th>14049</th>\n",
       "      <td>a9c89c0882154db68a99adcf81eac27e</td>\n",
       "      <td>offer viewed</td>\n",
       "      <td>{'offer id': '9b98b8c7a33c4b65b9aebfe6a799e6d9'}</td>\n",
       "      <td>0</td>\n",
       "      <td>0</td>\n",
       "    </tr>\n",
       "    <tr>\n",
       "      <th>14050</th>\n",
       "      <td>798d915dfb6a4477adf06802ba29477e</td>\n",
       "      <td>offer viewed</td>\n",
       "      <td>{'offer id': '2298d6c36e964ae4a3e7e9706d1fb8c2'}</td>\n",
       "      <td>0</td>\n",
       "      <td>1</td>\n",
       "    </tr>\n",
       "    <tr>\n",
       "      <th>14051</th>\n",
       "      <td>e4c38c75c12f4bec9fb35546b14c5fd5</td>\n",
       "      <td>offer viewed</td>\n",
       "      <td>{'offer id': 'fafdcd668e3743c1bb461111dcafc2a4'}</td>\n",
       "      <td>0</td>\n",
       "      <td>1</td>\n",
       "    </tr>\n",
       "    <tr>\n",
       "      <th>14052</th>\n",
       "      <td>31bf20236dda4f92b15153c439352a25</td>\n",
       "      <td>offer viewed</td>\n",
       "      <td>{'offer id': '2298d6c36e964ae4a3e7e9706d1fb8c2'}</td>\n",
       "      <td>0</td>\n",
       "      <td>0</td>\n",
       "    </tr>\n",
       "  </tbody>\n",
       "</table>\n",
       "<p>1000 rows × 5 columns</p>\n",
       "</div>"
      ],
      "text/plain": [
       "                                 person         event  \\\n",
       "12650  389bc3fa690240e798340f5a15918d5c  offer viewed   \n",
       "12651  d1ede868e29245ea91818a903fec04c6  offer viewed   \n",
       "12652  102e9454054946fda62242d2e176fdce  offer viewed   \n",
       "12653  02c083884c7d45b39cc68e1314fec56c  offer viewed   \n",
       "12655  be8a5d1981a2458d90b255ddc7e0d174  offer viewed   \n",
       "...                                 ...           ...   \n",
       "14048  7f370edef8ae471bb1e3067f84f5a9d0  offer viewed   \n",
       "14049  a9c89c0882154db68a99adcf81eac27e  offer viewed   \n",
       "14050  798d915dfb6a4477adf06802ba29477e  offer viewed   \n",
       "14051  e4c38c75c12f4bec9fb35546b14c5fd5  offer viewed   \n",
       "14052  31bf20236dda4f92b15153c439352a25  offer viewed   \n",
       "\n",
       "                                                  value  time  \\\n",
       "12650  {'offer id': 'f19421c1d4aa40978ebb69ca19b0e20d'}     0   \n",
       "12651  {'offer id': '5a8bc65990b245e5a138643cd4eb9837'}     0   \n",
       "12652  {'offer id': '4d5c57ea9a6940dd891ad53e9dbe8da0'}     0   \n",
       "12653  {'offer id': 'ae264e3637204a6fb9bb56bc8210ddfd'}     0   \n",
       "12655  {'offer id': '5a8bc65990b245e5a138643cd4eb9837'}     0   \n",
       "...                                                 ...   ...   \n",
       "14048  {'offer id': '4d5c57ea9a6940dd891ad53e9dbe8da0'}     0   \n",
       "14049  {'offer id': '9b98b8c7a33c4b65b9aebfe6a799e6d9'}     0   \n",
       "14050  {'offer id': '2298d6c36e964ae4a3e7e9706d1fb8c2'}     0   \n",
       "14051  {'offer id': 'fafdcd668e3743c1bb461111dcafc2a4'}     0   \n",
       "14052  {'offer id': '2298d6c36e964ae4a3e7e9706d1fb8c2'}     0   \n",
       "\n",
       "       offer_used_label  \n",
       "12650                 1  \n",
       "12651                 0  \n",
       "12652                 1  \n",
       "12653                 0  \n",
       "12655                 0  \n",
       "...                 ...  \n",
       "14048                 0  \n",
       "14049                 0  \n",
       "14050                 1  \n",
       "14051                 1  \n",
       "14052                 0  \n",
       "\n",
       "[1000 rows x 5 columns]"
      ]
     },
     "execution_count": 13,
     "metadata": {},
     "output_type": "execute_result"
    }
   ],
   "source": [
    "# Label 1 if a customer view the offer and also completed the offer.\n",
    "# Label 0 if a customer view the offer but did not complete the offer.\n",
    "viewed_offers_df['offer_used_label'] = viewed_offers_df.apply(lambda row: is_offer_used(row['person'], row['value']['offer id'], completed_offers), axis=1)\n",
    "viewed_offers_df"
   ]
  },
  {
   "cell_type": "markdown",
   "metadata": {},
   "source": [
    "#### Analysis \n",
    "\n",
    "Total offers viewed but not completed.\n",
    "\n",
    "Total count:                    502"
   ]
  },
  {
   "cell_type": "code",
   "execution_count": 14,
   "metadata": {
    "scrolled": false
   },
   "outputs": [
    {
     "data": {
      "text/plain": [
       "person              502\n",
       "event               502\n",
       "value               502\n",
       "time                502\n",
       "offer_used_label    502\n",
       "dtype: int64"
      ]
     },
     "execution_count": 14,
     "metadata": {},
     "output_type": "execute_result"
    }
   ],
   "source": [
    "# total offers viewed but not completed\n",
    "viewed_offers_df[viewed_offers_df['offer_used_label'] == 0].count()"
   ]
  },
  {
   "cell_type": "markdown",
   "metadata": {},
   "source": [
    "Total offers viewed and completed.\n",
    "\n",
    "Total count: 498"
   ]
  },
  {
   "cell_type": "code",
   "execution_count": 15,
   "metadata": {
    "scrolled": true
   },
   "outputs": [
    {
     "data": {
      "text/plain": [
       "person              498\n",
       "event               498\n",
       "value               498\n",
       "time                498\n",
       "offer_used_label    498\n",
       "dtype: int64"
      ]
     },
     "execution_count": 15,
     "metadata": {},
     "output_type": "execute_result"
    }
   ],
   "source": [
    "# total offers viewed and completed\n",
    "viewed_offers_df[viewed_offers_df['offer_used_label'] == 1].count()\n",
    "\n",
    "# From above 2 cells we find that data set is balanced as \n",
    "# count for label 0 = 28269\n",
    "# count for label 1 = 29456"
   ]
  },
  {
   "cell_type": "markdown",
   "metadata": {},
   "source": [
    "#### Create valid offers data\n",
    "\n",
    "Create a new dataframe and enrigh it with more infomration.\n",
    "\n",
    "Done by joining 'profile_id_as_index' and 'viewed_offer' dataframes."
   ]
  },
  {
   "cell_type": "code",
   "execution_count": 16,
   "metadata": {
    "scrolled": true
   },
   "outputs": [
    {
     "data": {
      "text/html": [
       "<div>\n",
       "<style scoped>\n",
       "    .dataframe tbody tr th:only-of-type {\n",
       "        vertical-align: middle;\n",
       "    }\n",
       "\n",
       "    .dataframe tbody tr th {\n",
       "        vertical-align: top;\n",
       "    }\n",
       "\n",
       "    .dataframe thead th {\n",
       "        text-align: right;\n",
       "    }\n",
       "</style>\n",
       "<table border=\"1\" class=\"dataframe\">\n",
       "  <thead>\n",
       "    <tr style=\"text-align: right;\">\n",
       "      <th></th>\n",
       "      <th>age</th>\n",
       "      <th>became_member_on</th>\n",
       "      <th>gender</th>\n",
       "      <th>income</th>\n",
       "      <th>event</th>\n",
       "      <th>person</th>\n",
       "      <th>time</th>\n",
       "      <th>value</th>\n",
       "      <th>offer_used_label</th>\n",
       "    </tr>\n",
       "  </thead>\n",
       "  <tbody>\n",
       "    <tr>\n",
       "      <th>12650</th>\n",
       "      <td>65</td>\n",
       "      <td>20180209</td>\n",
       "      <td>M</td>\n",
       "      <td>53000.0</td>\n",
       "      <td>offer viewed</td>\n",
       "      <td>389bc3fa690240e798340f5a15918d5c</td>\n",
       "      <td>0</td>\n",
       "      <td>{'offer id': 'f19421c1d4aa40978ebb69ca19b0e20d'}</td>\n",
       "      <td>1</td>\n",
       "    </tr>\n",
       "    <tr>\n",
       "      <th>12651</th>\n",
       "      <td>53</td>\n",
       "      <td>20170916</td>\n",
       "      <td>O</td>\n",
       "      <td>52000.0</td>\n",
       "      <td>offer viewed</td>\n",
       "      <td>d1ede868e29245ea91818a903fec04c6</td>\n",
       "      <td>0</td>\n",
       "      <td>{'offer id': '5a8bc65990b245e5a138643cd4eb9837'}</td>\n",
       "      <td>0</td>\n",
       "    </tr>\n",
       "    <tr>\n",
       "      <th>12652</th>\n",
       "      <td>69</td>\n",
       "      <td>20160814</td>\n",
       "      <td>F</td>\n",
       "      <td>57000.0</td>\n",
       "      <td>offer viewed</td>\n",
       "      <td>102e9454054946fda62242d2e176fdce</td>\n",
       "      <td>0</td>\n",
       "      <td>{'offer id': '4d5c57ea9a6940dd891ad53e9dbe8da0'}</td>\n",
       "      <td>1</td>\n",
       "    </tr>\n",
       "    <tr>\n",
       "      <th>12653</th>\n",
       "      <td>20</td>\n",
       "      <td>20160711</td>\n",
       "      <td>F</td>\n",
       "      <td>30000.0</td>\n",
       "      <td>offer viewed</td>\n",
       "      <td>02c083884c7d45b39cc68e1314fec56c</td>\n",
       "      <td>0</td>\n",
       "      <td>{'offer id': 'ae264e3637204a6fb9bb56bc8210ddfd'}</td>\n",
       "      <td>0</td>\n",
       "    </tr>\n",
       "    <tr>\n",
       "      <th>12655</th>\n",
       "      <td>39</td>\n",
       "      <td>20140527</td>\n",
       "      <td>M</td>\n",
       "      <td>51000.0</td>\n",
       "      <td>offer viewed</td>\n",
       "      <td>be8a5d1981a2458d90b255ddc7e0d174</td>\n",
       "      <td>0</td>\n",
       "      <td>{'offer id': '5a8bc65990b245e5a138643cd4eb9837'}</td>\n",
       "      <td>0</td>\n",
       "    </tr>\n",
       "    <tr>\n",
       "      <th>...</th>\n",
       "      <td>...</td>\n",
       "      <td>...</td>\n",
       "      <td>...</td>\n",
       "      <td>...</td>\n",
       "      <td>...</td>\n",
       "      <td>...</td>\n",
       "      <td>...</td>\n",
       "      <td>...</td>\n",
       "      <td>...</td>\n",
       "    </tr>\n",
       "    <tr>\n",
       "      <th>14048</th>\n",
       "      <td>53</td>\n",
       "      <td>20141201</td>\n",
       "      <td>M</td>\n",
       "      <td>100000.0</td>\n",
       "      <td>offer viewed</td>\n",
       "      <td>7f370edef8ae471bb1e3067f84f5a9d0</td>\n",
       "      <td>0</td>\n",
       "      <td>{'offer id': '4d5c57ea9a6940dd891ad53e9dbe8da0'}</td>\n",
       "      <td>0</td>\n",
       "    </tr>\n",
       "    <tr>\n",
       "      <th>14049</th>\n",
       "      <td>118</td>\n",
       "      <td>20180501</td>\n",
       "      <td>None</td>\n",
       "      <td>NaN</td>\n",
       "      <td>offer viewed</td>\n",
       "      <td>a9c89c0882154db68a99adcf81eac27e</td>\n",
       "      <td>0</td>\n",
       "      <td>{'offer id': '9b98b8c7a33c4b65b9aebfe6a799e6d9'}</td>\n",
       "      <td>0</td>\n",
       "    </tr>\n",
       "    <tr>\n",
       "      <th>14050</th>\n",
       "      <td>78</td>\n",
       "      <td>20131229</td>\n",
       "      <td>M</td>\n",
       "      <td>57000.0</td>\n",
       "      <td>offer viewed</td>\n",
       "      <td>798d915dfb6a4477adf06802ba29477e</td>\n",
       "      <td>0</td>\n",
       "      <td>{'offer id': '2298d6c36e964ae4a3e7e9706d1fb8c2'}</td>\n",
       "      <td>1</td>\n",
       "    </tr>\n",
       "    <tr>\n",
       "      <th>14051</th>\n",
       "      <td>64</td>\n",
       "      <td>20170703</td>\n",
       "      <td>M</td>\n",
       "      <td>98000.0</td>\n",
       "      <td>offer viewed</td>\n",
       "      <td>e4c38c75c12f4bec9fb35546b14c5fd5</td>\n",
       "      <td>0</td>\n",
       "      <td>{'offer id': 'fafdcd668e3743c1bb461111dcafc2a4'}</td>\n",
       "      <td>1</td>\n",
       "    </tr>\n",
       "    <tr>\n",
       "      <th>14052</th>\n",
       "      <td>118</td>\n",
       "      <td>20180409</td>\n",
       "      <td>None</td>\n",
       "      <td>NaN</td>\n",
       "      <td>offer viewed</td>\n",
       "      <td>31bf20236dda4f92b15153c439352a25</td>\n",
       "      <td>0</td>\n",
       "      <td>{'offer id': '2298d6c36e964ae4a3e7e9706d1fb8c2'}</td>\n",
       "      <td>0</td>\n",
       "    </tr>\n",
       "  </tbody>\n",
       "</table>\n",
       "<p>1000 rows × 9 columns</p>\n",
       "</div>"
      ],
      "text/plain": [
       "       age became_member_on gender    income         event  \\\n",
       "12650   65         20180209      M   53000.0  offer viewed   \n",
       "12651   53         20170916      O   52000.0  offer viewed   \n",
       "12652   69         20160814      F   57000.0  offer viewed   \n",
       "12653   20         20160711      F   30000.0  offer viewed   \n",
       "12655   39         20140527      M   51000.0  offer viewed   \n",
       "...    ...              ...    ...       ...           ...   \n",
       "14048   53         20141201      M  100000.0  offer viewed   \n",
       "14049  118         20180501   None       NaN  offer viewed   \n",
       "14050   78         20131229      M   57000.0  offer viewed   \n",
       "14051   64         20170703      M   98000.0  offer viewed   \n",
       "14052  118         20180409   None       NaN  offer viewed   \n",
       "\n",
       "                                 person time  \\\n",
       "12650  389bc3fa690240e798340f5a15918d5c    0   \n",
       "12651  d1ede868e29245ea91818a903fec04c6    0   \n",
       "12652  102e9454054946fda62242d2e176fdce    0   \n",
       "12653  02c083884c7d45b39cc68e1314fec56c    0   \n",
       "12655  be8a5d1981a2458d90b255ddc7e0d174    0   \n",
       "...                                 ...  ...   \n",
       "14048  7f370edef8ae471bb1e3067f84f5a9d0    0   \n",
       "14049  a9c89c0882154db68a99adcf81eac27e    0   \n",
       "14050  798d915dfb6a4477adf06802ba29477e    0   \n",
       "14051  e4c38c75c12f4bec9fb35546b14c5fd5    0   \n",
       "14052  31bf20236dda4f92b15153c439352a25    0   \n",
       "\n",
       "                                                  value offer_used_label  \n",
       "12650  {'offer id': 'f19421c1d4aa40978ebb69ca19b0e20d'}                1  \n",
       "12651  {'offer id': '5a8bc65990b245e5a138643cd4eb9837'}                0  \n",
       "12652  {'offer id': '4d5c57ea9a6940dd891ad53e9dbe8da0'}                1  \n",
       "12653  {'offer id': 'ae264e3637204a6fb9bb56bc8210ddfd'}                0  \n",
       "12655  {'offer id': '5a8bc65990b245e5a138643cd4eb9837'}                0  \n",
       "...                                                 ...              ...  \n",
       "14048  {'offer id': '4d5c57ea9a6940dd891ad53e9dbe8da0'}                0  \n",
       "14049  {'offer id': '9b98b8c7a33c4b65b9aebfe6a799e6d9'}                0  \n",
       "14050  {'offer id': '2298d6c36e964ae4a3e7e9706d1fb8c2'}                1  \n",
       "14051  {'offer id': 'fafdcd668e3743c1bb461111dcafc2a4'}                1  \n",
       "14052  {'offer id': '2298d6c36e964ae4a3e7e9706d1fb8c2'}                0  \n",
       "\n",
       "[1000 rows x 9 columns]"
      ]
     },
     "execution_count": 16,
     "metadata": {},
     "output_type": "execute_result"
    }
   ],
   "source": [
    "# create valid offers and enrich with extra info.\n",
    "valid_offers_df = pd.DataFrame(columns=['age', 'became_member_on', 'gender', 'income', 'event', 'person', 'time', 'value', 'offer_used_label'])\n",
    "for idx, viewed_offer in viewed_offers_df.iterrows():\n",
    "    valid_offers_df.loc[idx] = profile_id_as_index.loc[viewed_offer['person']].append(viewed_offer)\n",
    "valid_offers_df"
   ]
  },
  {
   "cell_type": "markdown",
   "metadata": {},
   "source": [
    "#### cleaning\n",
    "\n",
    "Fill the income values with 0 if it contains null."
   ]
  },
  {
   "cell_type": "code",
   "execution_count": 17,
   "metadata": {
    "scrolled": true
   },
   "outputs": [
    {
     "data": {
      "text/plain": [
       "age                 1000\n",
       "became_member_on    1000\n",
       "gender               840\n",
       "income              1000\n",
       "event               1000\n",
       "person              1000\n",
       "time                1000\n",
       "value               1000\n",
       "offer_used_label    1000\n",
       "dtype: int64"
      ]
     },
     "execution_count": 17,
     "metadata": {},
     "output_type": "execute_result"
    }
   ],
   "source": [
    "# fill 0 for income where its not available\n",
    "valid_offers_df['income'].fillna(0, inplace=True)\n",
    "valid_offers_df.count()"
   ]
  },
  {
   "cell_type": "markdown",
   "metadata": {},
   "source": [
    "Temporarily drop non-converted features\n",
    "\n",
    "To train out model we are going to use only 'age', 'time' and 'offer_used_label'."
   ]
  },
  {
   "cell_type": "code",
   "execution_count": 18,
   "metadata": {
    "scrolled": false
   },
   "outputs": [
    {
     "data": {
      "text/html": [
       "<div>\n",
       "<style scoped>\n",
       "    .dataframe tbody tr th:only-of-type {\n",
       "        vertical-align: middle;\n",
       "    }\n",
       "\n",
       "    .dataframe tbody tr th {\n",
       "        vertical-align: top;\n",
       "    }\n",
       "\n",
       "    .dataframe thead th {\n",
       "        text-align: right;\n",
       "    }\n",
       "</style>\n",
       "<table border=\"1\" class=\"dataframe\">\n",
       "  <thead>\n",
       "    <tr style=\"text-align: right;\">\n",
       "      <th></th>\n",
       "      <th>age</th>\n",
       "      <th>income</th>\n",
       "      <th>time</th>\n",
       "      <th>offer_used_label</th>\n",
       "    </tr>\n",
       "  </thead>\n",
       "  <tbody>\n",
       "    <tr>\n",
       "      <th>12650</th>\n",
       "      <td>65</td>\n",
       "      <td>53000.0</td>\n",
       "      <td>0</td>\n",
       "      <td>1</td>\n",
       "    </tr>\n",
       "    <tr>\n",
       "      <th>12651</th>\n",
       "      <td>53</td>\n",
       "      <td>52000.0</td>\n",
       "      <td>0</td>\n",
       "      <td>0</td>\n",
       "    </tr>\n",
       "    <tr>\n",
       "      <th>12652</th>\n",
       "      <td>69</td>\n",
       "      <td>57000.0</td>\n",
       "      <td>0</td>\n",
       "      <td>1</td>\n",
       "    </tr>\n",
       "    <tr>\n",
       "      <th>12653</th>\n",
       "      <td>20</td>\n",
       "      <td>30000.0</td>\n",
       "      <td>0</td>\n",
       "      <td>0</td>\n",
       "    </tr>\n",
       "    <tr>\n",
       "      <th>12655</th>\n",
       "      <td>39</td>\n",
       "      <td>51000.0</td>\n",
       "      <td>0</td>\n",
       "      <td>0</td>\n",
       "    </tr>\n",
       "    <tr>\n",
       "      <th>...</th>\n",
       "      <td>...</td>\n",
       "      <td>...</td>\n",
       "      <td>...</td>\n",
       "      <td>...</td>\n",
       "    </tr>\n",
       "    <tr>\n",
       "      <th>14048</th>\n",
       "      <td>53</td>\n",
       "      <td>100000.0</td>\n",
       "      <td>0</td>\n",
       "      <td>0</td>\n",
       "    </tr>\n",
       "    <tr>\n",
       "      <th>14049</th>\n",
       "      <td>118</td>\n",
       "      <td>0.0</td>\n",
       "      <td>0</td>\n",
       "      <td>0</td>\n",
       "    </tr>\n",
       "    <tr>\n",
       "      <th>14050</th>\n",
       "      <td>78</td>\n",
       "      <td>57000.0</td>\n",
       "      <td>0</td>\n",
       "      <td>1</td>\n",
       "    </tr>\n",
       "    <tr>\n",
       "      <th>14051</th>\n",
       "      <td>64</td>\n",
       "      <td>98000.0</td>\n",
       "      <td>0</td>\n",
       "      <td>1</td>\n",
       "    </tr>\n",
       "    <tr>\n",
       "      <th>14052</th>\n",
       "      <td>118</td>\n",
       "      <td>0.0</td>\n",
       "      <td>0</td>\n",
       "      <td>0</td>\n",
       "    </tr>\n",
       "  </tbody>\n",
       "</table>\n",
       "<p>1000 rows × 4 columns</p>\n",
       "</div>"
      ],
      "text/plain": [
       "       age    income time offer_used_label\n",
       "12650   65   53000.0    0                1\n",
       "12651   53   52000.0    0                0\n",
       "12652   69   57000.0    0                1\n",
       "12653   20   30000.0    0                0\n",
       "12655   39   51000.0    0                0\n",
       "...    ...       ...  ...              ...\n",
       "14048   53  100000.0    0                0\n",
       "14049  118       0.0    0                0\n",
       "14050   78   57000.0    0                1\n",
       "14051   64   98000.0    0                1\n",
       "14052  118       0.0    0                0\n",
       "\n",
       "[1000 rows x 4 columns]"
      ]
     },
     "execution_count": 18,
     "metadata": {},
     "output_type": "execute_result"
    }
   ],
   "source": [
    "# Temporarily drop non-converted features\n",
    "valid_offers_df.drop(['became_member_on', 'gender', 'event', 'person', 'value'], axis=1, inplace=True)\n",
    "valid_offers_df"
   ]
  },
  {
   "cell_type": "markdown",
   "metadata": {},
   "source": [
    "### Create Training and testing data"
   ]
  },
  {
   "cell_type": "code",
   "execution_count": 19,
   "metadata": {},
   "outputs": [],
   "source": [
    "# Split data into labels and features\n",
    "#valid_offers_used = valid_offers_df['offer_used_label'].copy()\n",
    "valid_offers_used_label = valid_offers_df['offer_used_label'].copy()\n",
    "valid_offers_used_features = valid_offers_df.drop(['offer_used_label'], axis=1)\n"
   ]
  },
  {
   "cell_type": "markdown",
   "metadata": {},
   "source": [
    "#### Split training and testing data in 80 to 20 ration respectively"
   ]
  },
  {
   "cell_type": "code",
   "execution_count": 20,
   "metadata": {},
   "outputs": [],
   "source": [
    "# Split data into train and test sets\n",
    "X_train, X_test, y_train, y_test = train_test_split(valid_offers_used_features, \n",
    "                                                    valid_offers_used_label, \n",
    "                                                    test_size = 0.2, \n",
    "                                                    random_state = 0)\n"
   ]
  },
  {
   "cell_type": "markdown",
   "metadata": {},
   "source": [
    "#### Verification of train and test data"
   ]
  },
  {
   "cell_type": "code",
   "execution_count": 21,
   "metadata": {
    "scrolled": true
   },
   "outputs": [
    {
     "name": "stdout",
     "output_type": "stream",
     "text": [
      "Training features and it's count: 800\n",
      "\n"
     ]
    },
    {
     "data": {
      "text/html": [
       "<div>\n",
       "<style scoped>\n",
       "    .dataframe tbody tr th:only-of-type {\n",
       "        vertical-align: middle;\n",
       "    }\n",
       "\n",
       "    .dataframe tbody tr th {\n",
       "        vertical-align: top;\n",
       "    }\n",
       "\n",
       "    .dataframe thead th {\n",
       "        text-align: right;\n",
       "    }\n",
       "</style>\n",
       "<table border=\"1\" class=\"dataframe\">\n",
       "  <thead>\n",
       "    <tr style=\"text-align: right;\">\n",
       "      <th></th>\n",
       "      <th>age</th>\n",
       "      <th>income</th>\n",
       "      <th>time</th>\n",
       "    </tr>\n",
       "  </thead>\n",
       "  <tbody>\n",
       "    <tr>\n",
       "      <th>13593</th>\n",
       "      <td>20</td>\n",
       "      <td>66000.0</td>\n",
       "      <td>0</td>\n",
       "    </tr>\n",
       "    <tr>\n",
       "      <th>13318</th>\n",
       "      <td>30</td>\n",
       "      <td>55000.0</td>\n",
       "      <td>0</td>\n",
       "    </tr>\n",
       "    <tr>\n",
       "      <th>13094</th>\n",
       "      <td>53</td>\n",
       "      <td>74000.0</td>\n",
       "      <td>0</td>\n",
       "    </tr>\n",
       "    <tr>\n",
       "      <th>14027</th>\n",
       "      <td>42</td>\n",
       "      <td>89000.0</td>\n",
       "      <td>0</td>\n",
       "    </tr>\n",
       "    <tr>\n",
       "      <th>13774</th>\n",
       "      <td>42</td>\n",
       "      <td>71000.0</td>\n",
       "      <td>0</td>\n",
       "    </tr>\n",
       "    <tr>\n",
       "      <th>...</th>\n",
       "      <td>...</td>\n",
       "      <td>...</td>\n",
       "      <td>...</td>\n",
       "    </tr>\n",
       "    <tr>\n",
       "      <th>13800</th>\n",
       "      <td>77</td>\n",
       "      <td>83000.0</td>\n",
       "      <td>0</td>\n",
       "    </tr>\n",
       "    <tr>\n",
       "      <th>12909</th>\n",
       "      <td>33</td>\n",
       "      <td>42000.0</td>\n",
       "      <td>0</td>\n",
       "    </tr>\n",
       "    <tr>\n",
       "      <th>13499</th>\n",
       "      <td>57</td>\n",
       "      <td>91000.0</td>\n",
       "      <td>0</td>\n",
       "    </tr>\n",
       "    <tr>\n",
       "      <th>13399</th>\n",
       "      <td>53</td>\n",
       "      <td>67000.0</td>\n",
       "      <td>0</td>\n",
       "    </tr>\n",
       "    <tr>\n",
       "      <th>13588</th>\n",
       "      <td>25</td>\n",
       "      <td>72000.0</td>\n",
       "      <td>0</td>\n",
       "    </tr>\n",
       "  </tbody>\n",
       "</table>\n",
       "<p>800 rows × 3 columns</p>\n",
       "</div>"
      ],
      "text/plain": [
       "      age   income time\n",
       "13593  20  66000.0    0\n",
       "13318  30  55000.0    0\n",
       "13094  53  74000.0    0\n",
       "14027  42  89000.0    0\n",
       "13774  42  71000.0    0\n",
       "...    ..      ...  ...\n",
       "13800  77  83000.0    0\n",
       "12909  33  42000.0    0\n",
       "13499  57  91000.0    0\n",
       "13399  53  67000.0    0\n",
       "13588  25  72000.0    0\n",
       "\n",
       "[800 rows x 3 columns]"
      ]
     },
     "execution_count": 21,
     "metadata": {},
     "output_type": "execute_result"
    }
   ],
   "source": [
    "print(\"Training features and it's count: \" + str(X_train.count()['time']))\n",
    "print(\"\")\n",
    "X_train\n"
   ]
  },
  {
   "cell_type": "code",
   "execution_count": 22,
   "metadata": {},
   "outputs": [
    {
     "name": "stdout",
     "output_type": "stream",
     "text": [
      "Training lables and it's count: 800\n",
      "\n"
     ]
    },
    {
     "data": {
      "text/plain": [
       "13593    1\n",
       "13318    0\n",
       "13094    1\n",
       "14027    0\n",
       "13774    1\n",
       "        ..\n",
       "13800    1\n",
       "12909    0\n",
       "13499    1\n",
       "13399    0\n",
       "13588    1\n",
       "Name: offer_used_label, Length: 800, dtype: object"
      ]
     },
     "execution_count": 22,
     "metadata": {},
     "output_type": "execute_result"
    }
   ],
   "source": [
    "print(\"Training lables and it's count: \" + str(y_train.count()))\n",
    "print(\"\")\n",
    "y_train\n"
   ]
  },
  {
   "cell_type": "code",
   "execution_count": 23,
   "metadata": {},
   "outputs": [
    {
     "name": "stdout",
     "output_type": "stream",
     "text": [
      "Test features and it's count: 200\n",
      "\n"
     ]
    },
    {
     "data": {
      "text/html": [
       "<div>\n",
       "<style scoped>\n",
       "    .dataframe tbody tr th:only-of-type {\n",
       "        vertical-align: middle;\n",
       "    }\n",
       "\n",
       "    .dataframe tbody tr th {\n",
       "        vertical-align: top;\n",
       "    }\n",
       "\n",
       "    .dataframe thead th {\n",
       "        text-align: right;\n",
       "    }\n",
       "</style>\n",
       "<table border=\"1\" class=\"dataframe\">\n",
       "  <thead>\n",
       "    <tr style=\"text-align: right;\">\n",
       "      <th></th>\n",
       "      <th>age</th>\n",
       "      <th>income</th>\n",
       "      <th>time</th>\n",
       "    </tr>\n",
       "  </thead>\n",
       "  <tbody>\n",
       "    <tr>\n",
       "      <th>14044</th>\n",
       "      <td>118</td>\n",
       "      <td>0.0</td>\n",
       "      <td>0</td>\n",
       "    </tr>\n",
       "    <tr>\n",
       "      <th>13843</th>\n",
       "      <td>42</td>\n",
       "      <td>54000.0</td>\n",
       "      <td>0</td>\n",
       "    </tr>\n",
       "    <tr>\n",
       "      <th>13051</th>\n",
       "      <td>51</td>\n",
       "      <td>90000.0</td>\n",
       "      <td>0</td>\n",
       "    </tr>\n",
       "    <tr>\n",
       "      <th>13391</th>\n",
       "      <td>66</td>\n",
       "      <td>73000.0</td>\n",
       "      <td>0</td>\n",
       "    </tr>\n",
       "    <tr>\n",
       "      <th>13567</th>\n",
       "      <td>52</td>\n",
       "      <td>41000.0</td>\n",
       "      <td>0</td>\n",
       "    </tr>\n",
       "  </tbody>\n",
       "</table>\n",
       "</div>"
      ],
      "text/plain": [
       "       age   income time\n",
       "14044  118      0.0    0\n",
       "13843   42  54000.0    0\n",
       "13051   51  90000.0    0\n",
       "13391   66  73000.0    0\n",
       "13567   52  41000.0    0"
      ]
     },
     "execution_count": 23,
     "metadata": {},
     "output_type": "execute_result"
    }
   ],
   "source": [
    "print(\"Test features and it's count: \" + str(X_test.count()['time']))\n",
    "print(\"\")\n",
    "X_test.head()\n"
   ]
  },
  {
   "cell_type": "code",
   "execution_count": 24,
   "metadata": {
    "scrolled": true
   },
   "outputs": [
    {
     "name": "stdout",
     "output_type": "stream",
     "text": [
      "Test labels and it's count: 200\n",
      "\n"
     ]
    },
    {
     "data": {
      "text/plain": [
       "14044    0\n",
       "13843    1\n",
       "13051    0\n",
       "13391    1\n",
       "13567    0\n",
       "Name: offer_used_label, dtype: object"
      ]
     },
     "execution_count": 24,
     "metadata": {},
     "output_type": "execute_result"
    }
   ],
   "source": [
    "print(\"Test labels and it's count: \" + str(y_test.count()))\n",
    "print(\"\")\n",
    "y_test.head()\n"
   ]
  },
  {
   "cell_type": "markdown",
   "metadata": {},
   "source": [
    "#### Write training data to a csv"
   ]
  },
  {
   "cell_type": "code",
   "execution_count": 25,
   "metadata": {},
   "outputs": [],
   "source": [
    "import os\n",
    "\n",
    "def make_csv(x, y, filename, data_dir):\n",
    "    '''Merges features and labels and converts them into one csv file with labels in the first column.\n",
    "       :param x: Data features\n",
    "       :param y: Data labels\n",
    "       :param file_name: Name of csv file, ex. 'train.csv'\n",
    "       :param data_dir: The directory where files will be saved\n",
    "       '''\n",
    "    # make data dir, if it does not exist\n",
    "    if not os.path.exists(data_dir):\n",
    "        os.makedirs(data_dir)\n",
    "    \n",
    "    # combine labels and features \n",
    "    pd.concat([y, x], axis=1)\\\n",
    "        .to_csv(os.path.join(data_dir, filename), header=False, index=False)\n",
    "    \n",
    "    # indicate function has run\n",
    "    print('Path created: '+str(data_dir)+'/'+str(filename))"
   ]
  },
  {
   "cell_type": "markdown",
   "metadata": {},
   "source": [
    "Write training data in data_starbucks/train.csv"
   ]
  },
  {
   "cell_type": "code",
   "execution_count": 26,
   "metadata": {},
   "outputs": [
    {
     "name": "stdout",
     "output_type": "stream",
     "text": [
      "Path created: data_starbucks/train.csv\n"
     ]
    }
   ],
   "source": [
    "data_dir = 'data_starbucks' # the folder I will use for storing data in notebook\n",
    "name = 'train.csv'\n",
    "\n",
    "# create 'train.csv'\n",
    "make_csv(X_train, y_train, name, data_dir)"
   ]
  },
  {
   "cell_type": "markdown",
   "metadata": {},
   "source": [
    "## 2. Model training\n",
    "\n",
    "### Upload training data to S3\n",
    "\n",
    "Create Sagemaker session and get its role."
   ]
  },
  {
   "cell_type": "code",
   "execution_count": 29,
   "metadata": {
    "scrolled": true
   },
   "outputs": [
    {
     "data": {
      "text/plain": [
       "'arn:aws:iam::186768347586:role/service-role/AmazonSageMaker-ExecutionRole-20200514T122821'"
      ]
     },
     "execution_count": 29,
     "metadata": {},
     "output_type": "execute_result"
    }
   ],
   "source": [
    "# upload data to s3\n",
    "# session and role\n",
    "sagemaker_session = sagemaker.Session()\n",
    "role = sagemaker.get_execution_role()\n",
    "role"
   ]
  },
  {
   "cell_type": "markdown",
   "metadata": {},
   "source": [
    "#### Get the S3 bucket"
   ]
  },
  {
   "cell_type": "code",
   "execution_count": 30,
   "metadata": {},
   "outputs": [
    {
     "data": {
      "text/plain": [
       "'sagemaker-eu-north-1-186768347586'"
      ]
     },
     "execution_count": 30,
     "metadata": {},
     "output_type": "execute_result"
    }
   ],
   "source": [
    "# create an S3 bucket\n",
    "bucket = sagemaker_session.default_bucket()\n",
    "bucket"
   ]
  },
  {
   "cell_type": "markdown",
   "metadata": {},
   "source": [
    "#### upload the training data"
   ]
  },
  {
   "cell_type": "code",
   "execution_count": 31,
   "metadata": {
    "scrolled": true
   },
   "outputs": [
    {
     "name": "stdout",
     "output_type": "stream",
     "text": [
      "s3://sagemaker-eu-north-1-186768347586/starbucks-capstone/offer-data\n"
     ]
    }
   ],
   "source": [
    "# directory for features data\n",
    "data_dir = 'data_starbucks'\n",
    "\n",
    "# prefix: description name for directory in S3\n",
    "prefix = 'starbucks-capstone/offer-data'\n",
    "\n",
    "# upload all data to S3\n",
    "uploaded_data_s3 = sagemaker_session.upload_data(path=data_dir, bucket=bucket, key_prefix=prefix)\n",
    "print(uploaded_data_s3)"
   ]
  },
  {
   "cell_type": "markdown",
   "metadata": {},
   "source": [
    "#### Test if data is in S3 bucket"
   ]
  },
  {
   "cell_type": "code",
   "execution_count": 32,
   "metadata": {
    "scrolled": false
   },
   "outputs": [
    {
     "name": "stdout",
     "output_type": "stream",
     "text": [
      "sagemaker-pytorch-2021-04-11-09-15-09-542/source/sourcedir.tar.gz\n",
      "sagemaker-pytorch-2021-04-11-09-15-34-989/source/sourcedir.tar.gz\n",
      "sagemaker-pytorch-2021-04-11-09-21-20-383/sourcedir.tar.gz\n",
      "sagemaker-pytorch-2021-04-11-09-21-20-571/sourcedir.tar.gz\n",
      "sagemaker-pytorch-2021-04-11-10-24-44-299/source/sourcedir.tar.gz\n",
      "sagemaker-pytorch-2021-04-11-10-33-00-692/sourcedir.tar.gz\n",
      "sagemaker-scikit-learn-2021-04-11-08-22-07-540/profiler-output/system/incremental/2021041108/1618129440.algo-1.json\n",
      "sagemaker-scikit-learn-2021-04-11-08-22-07-540/source/sourcedir.tar.gz\n",
      "sagemaker-scikit-learn-2021-04-11-08-35-46-311/profiler-output/system/incremental/2021041108/1618130220.algo-1.json\n",
      "sagemaker-scikit-learn-2021-04-11-08-35-46-311/profiler-output/system/incremental/2021041108/1618130280.algo-1.json\n",
      "sagemaker-scikit-learn-2021-04-11-08-35-46-311/rule-output/ProfilerReport-1618130146/profiler-output/profiler-report.html\n",
      "sagemaker-scikit-learn-2021-04-11-08-35-46-311/rule-output/ProfilerReport-1618130146/profiler-output/profiler-report.ipynb\n",
      "sagemaker-scikit-learn-2021-04-11-08-35-46-311/rule-output/ProfilerReport-1618130146/profiler-output/profiler-reports/BatchSize.json\n",
      "sagemaker-scikit-learn-2021-04-11-08-35-46-311/rule-output/ProfilerReport-1618130146/profiler-output/profiler-reports/CPUBottleneck.json\n",
      "sagemaker-scikit-learn-2021-04-11-08-35-46-311/rule-output/ProfilerReport-1618130146/profiler-output/profiler-reports/Dataloader.json\n",
      "sagemaker-scikit-learn-2021-04-11-08-35-46-311/rule-output/ProfilerReport-1618130146/profiler-output/profiler-reports/GPUMemoryIncrease.json\n",
      "sagemaker-scikit-learn-2021-04-11-08-35-46-311/rule-output/ProfilerReport-1618130146/profiler-output/profiler-reports/IOBottleneck.json\n",
      "sagemaker-scikit-learn-2021-04-11-08-35-46-311/rule-output/ProfilerReport-1618130146/profiler-output/profiler-reports/LoadBalancing.json\n",
      "sagemaker-scikit-learn-2021-04-11-08-35-46-311/rule-output/ProfilerReport-1618130146/profiler-output/profiler-reports/LowGPUUtilization.json\n",
      "sagemaker-scikit-learn-2021-04-11-08-35-46-311/rule-output/ProfilerReport-1618130146/profiler-output/profiler-reports/MaxInitializationTime.json\n",
      "sagemaker-scikit-learn-2021-04-11-08-35-46-311/rule-output/ProfilerReport-1618130146/profiler-output/profiler-reports/OverallFrameworkMetrics.json\n",
      "sagemaker-scikit-learn-2021-04-11-08-35-46-311/rule-output/ProfilerReport-1618130146/profiler-output/profiler-reports/OverallSystemUsage.json\n",
      "sagemaker-scikit-learn-2021-04-11-08-35-46-311/rule-output/ProfilerReport-1618130146/profiler-output/profiler-reports/StepOutlier.json\n",
      "sagemaker-scikit-learn-2021-04-11-08-35-46-311/source/sourcedir.tar.gz\n",
      "sagemaker-scikit-learn-2021-04-11-08-44-40-362/profiler-output/system/incremental/2021041108/1618130760.algo-1.json\n",
      "sagemaker-scikit-learn-2021-04-11-08-44-40-362/profiler-output/system/incremental/2021041108/1618130820.algo-1.json\n",
      "sagemaker-scikit-learn-2021-04-11-08-44-40-362/source/sourcedir.tar.gz\n",
      "sagemaker-scikit-learn-2021-04-11-08-49-59-745/debug-output/training_job_end.ts\n",
      "sagemaker-scikit-learn-2021-04-11-08-49-59-745/output/model.tar.gz\n",
      "sagemaker-scikit-learn-2021-04-11-08-49-59-745/profiler-output/framework/training_job_end.ts\n",
      "sagemaker-scikit-learn-2021-04-11-08-49-59-745/profiler-output/system/incremental/2021041108/1618131120.algo-1.json\n",
      "sagemaker-scikit-learn-2021-04-11-08-49-59-745/profiler-output/system/incremental/2021041108/1618131180.algo-1.json\n",
      "sagemaker-scikit-learn-2021-04-11-08-49-59-745/profiler-output/system/training_job_end.ts\n",
      "sagemaker-scikit-learn-2021-04-11-08-49-59-745/rule-output/ProfilerReport-1618130999/profiler-output/profiler-report.html\n",
      "sagemaker-scikit-learn-2021-04-11-08-49-59-745/rule-output/ProfilerReport-1618130999/profiler-output/profiler-report.ipynb\n",
      "sagemaker-scikit-learn-2021-04-11-08-49-59-745/rule-output/ProfilerReport-1618130999/profiler-output/profiler-reports/BatchSize.json\n",
      "sagemaker-scikit-learn-2021-04-11-08-49-59-745/rule-output/ProfilerReport-1618130999/profiler-output/profiler-reports/CPUBottleneck.json\n",
      "sagemaker-scikit-learn-2021-04-11-08-49-59-745/rule-output/ProfilerReport-1618130999/profiler-output/profiler-reports/Dataloader.json\n",
      "sagemaker-scikit-learn-2021-04-11-08-49-59-745/rule-output/ProfilerReport-1618130999/profiler-output/profiler-reports/GPUMemoryIncrease.json\n",
      "sagemaker-scikit-learn-2021-04-11-08-49-59-745/rule-output/ProfilerReport-1618130999/profiler-output/profiler-reports/IOBottleneck.json\n",
      "sagemaker-scikit-learn-2021-04-11-08-49-59-745/rule-output/ProfilerReport-1618130999/profiler-output/profiler-reports/LoadBalancing.json\n",
      "sagemaker-scikit-learn-2021-04-11-08-49-59-745/rule-output/ProfilerReport-1618130999/profiler-output/profiler-reports/LowGPUUtilization.json\n",
      "sagemaker-scikit-learn-2021-04-11-08-49-59-745/rule-output/ProfilerReport-1618130999/profiler-output/profiler-reports/MaxInitializationTime.json\n",
      "sagemaker-scikit-learn-2021-04-11-08-49-59-745/rule-output/ProfilerReport-1618130999/profiler-output/profiler-reports/OverallFrameworkMetrics.json\n",
      "sagemaker-scikit-learn-2021-04-11-08-49-59-745/rule-output/ProfilerReport-1618130999/profiler-output/profiler-reports/OverallSystemUsage.json\n",
      "sagemaker-scikit-learn-2021-04-11-08-49-59-745/rule-output/ProfilerReport-1618130999/profiler-output/profiler-reports/StepOutlier.json\n",
      "sagemaker-scikit-learn-2021-04-11-08-49-59-745/source/sourcedir.tar.gz\n",
      "sagemaker-scikit-learn-2021-04-11-10-08-44-861/debug-output/training_job_end.ts\n",
      "sagemaker-scikit-learn-2021-04-11-10-08-44-861/output/model.tar.gz\n",
      "sagemaker-scikit-learn-2021-04-11-10-08-44-861/profiler-output/framework/training_job_end.ts\n",
      "sagemaker-scikit-learn-2021-04-11-10-08-44-861/profiler-output/system/incremental/2021041110/1618135860.algo-1.json\n",
      "sagemaker-scikit-learn-2021-04-11-10-08-44-861/profiler-output/system/incremental/2021041110/1618135920.algo-1.json\n",
      "sagemaker-scikit-learn-2021-04-11-10-08-44-861/profiler-output/system/training_job_end.ts\n",
      "sagemaker-scikit-learn-2021-04-11-10-08-44-861/rule-output/ProfilerReport-1618135724/profiler-output/profiler-report.html\n",
      "sagemaker-scikit-learn-2021-04-11-10-08-44-861/rule-output/ProfilerReport-1618135724/profiler-output/profiler-report.ipynb\n",
      "sagemaker-scikit-learn-2021-04-11-10-08-44-861/rule-output/ProfilerReport-1618135724/profiler-output/profiler-reports/BatchSize.json\n",
      "sagemaker-scikit-learn-2021-04-11-10-08-44-861/rule-output/ProfilerReport-1618135724/profiler-output/profiler-reports/CPUBottleneck.json\n",
      "sagemaker-scikit-learn-2021-04-11-10-08-44-861/rule-output/ProfilerReport-1618135724/profiler-output/profiler-reports/Dataloader.json\n",
      "sagemaker-scikit-learn-2021-04-11-10-08-44-861/rule-output/ProfilerReport-1618135724/profiler-output/profiler-reports/GPUMemoryIncrease.json\n",
      "sagemaker-scikit-learn-2021-04-11-10-08-44-861/rule-output/ProfilerReport-1618135724/profiler-output/profiler-reports/IOBottleneck.json\n",
      "sagemaker-scikit-learn-2021-04-11-10-08-44-861/rule-output/ProfilerReport-1618135724/profiler-output/profiler-reports/LoadBalancing.json\n",
      "sagemaker-scikit-learn-2021-04-11-10-08-44-861/rule-output/ProfilerReport-1618135724/profiler-output/profiler-reports/LowGPUUtilization.json\n",
      "sagemaker-scikit-learn-2021-04-11-10-08-44-861/rule-output/ProfilerReport-1618135724/profiler-output/profiler-reports/MaxInitializationTime.json\n",
      "sagemaker-scikit-learn-2021-04-11-10-08-44-861/rule-output/ProfilerReport-1618135724/profiler-output/profiler-reports/OverallFrameworkMetrics.json\n",
      "sagemaker-scikit-learn-2021-04-11-10-08-44-861/rule-output/ProfilerReport-1618135724/profiler-output/profiler-reports/OverallSystemUsage.json\n",
      "sagemaker-scikit-learn-2021-04-11-10-08-44-861/rule-output/ProfilerReport-1618135724/profiler-output/profiler-reports/StepOutlier.json\n",
      "sagemaker-scikit-learn-2021-04-11-10-08-44-861/source/sourcedir.tar.gz\n",
      "sagemaker-scikit-learn-2021-04-14-12-05-42-294/debug-output/training_job_end.ts\n",
      "sagemaker-scikit-learn-2021-04-14-12-05-42-294/output/model.tar.gz\n",
      "sagemaker-scikit-learn-2021-04-14-12-05-42-294/profiler-output/framework/training_job_end.ts\n",
      "sagemaker-scikit-learn-2021-04-14-12-05-42-294/profiler-output/system/incremental/2021041412/1618402080.algo-1.json\n",
      "sagemaker-scikit-learn-2021-04-14-12-05-42-294/profiler-output/system/incremental/2021041412/1618402140.algo-1.json\n",
      "sagemaker-scikit-learn-2021-04-14-12-05-42-294/profiler-output/system/training_job_end.ts\n",
      "sagemaker-scikit-learn-2021-04-14-12-05-42-294/rule-output/ProfilerReport-1618401942/profiler-output/profiler-report.html\n",
      "sagemaker-scikit-learn-2021-04-14-12-05-42-294/rule-output/ProfilerReport-1618401942/profiler-output/profiler-report.ipynb\n",
      "sagemaker-scikit-learn-2021-04-14-12-05-42-294/rule-output/ProfilerReport-1618401942/profiler-output/profiler-reports/BatchSize.json\n",
      "sagemaker-scikit-learn-2021-04-14-12-05-42-294/rule-output/ProfilerReport-1618401942/profiler-output/profiler-reports/CPUBottleneck.json\n",
      "sagemaker-scikit-learn-2021-04-14-12-05-42-294/rule-output/ProfilerReport-1618401942/profiler-output/profiler-reports/Dataloader.json\n",
      "sagemaker-scikit-learn-2021-04-14-12-05-42-294/rule-output/ProfilerReport-1618401942/profiler-output/profiler-reports/GPUMemoryIncrease.json\n",
      "sagemaker-scikit-learn-2021-04-14-12-05-42-294/rule-output/ProfilerReport-1618401942/profiler-output/profiler-reports/IOBottleneck.json\n",
      "sagemaker-scikit-learn-2021-04-14-12-05-42-294/rule-output/ProfilerReport-1618401942/profiler-output/profiler-reports/LoadBalancing.json\n",
      "sagemaker-scikit-learn-2021-04-14-12-05-42-294/rule-output/ProfilerReport-1618401942/profiler-output/profiler-reports/LowGPUUtilization.json\n",
      "sagemaker-scikit-learn-2021-04-14-12-05-42-294/rule-output/ProfilerReport-1618401942/profiler-output/profiler-reports/MaxInitializationTime.json\n",
      "sagemaker-scikit-learn-2021-04-14-12-05-42-294/rule-output/ProfilerReport-1618401942/profiler-output/profiler-reports/OverallFrameworkMetrics.json\n",
      "sagemaker-scikit-learn-2021-04-14-12-05-42-294/rule-output/ProfilerReport-1618401942/profiler-output/profiler-reports/OverallSystemUsage.json\n",
      "sagemaker-scikit-learn-2021-04-14-12-05-42-294/rule-output/ProfilerReport-1618401942/profiler-output/profiler-reports/StepOutlier.json\n",
      "sagemaker-scikit-learn-2021-04-14-12-05-42-294/source/sourcedir.tar.gz\n",
      "starbucks-capstone/offer-data/sagemaker-pytorch-2021-04-11-09-15-34-989/debug-output/training_job_end.ts\n",
      "starbucks-capstone/offer-data/sagemaker-pytorch-2021-04-11-09-15-34-989/output/model.tar.gz\n",
      "starbucks-capstone/offer-data/sagemaker-pytorch-2021-04-11-09-15-34-989/profiler-output/framework/training_job_end.ts\n",
      "starbucks-capstone/offer-data/sagemaker-pytorch-2021-04-11-09-15-34-989/profiler-output/system/incremental/2021041109/1618132620.algo-1.json\n",
      "starbucks-capstone/offer-data/sagemaker-pytorch-2021-04-11-09-15-34-989/profiler-output/system/incremental/2021041109/1618132680.algo-1.json\n",
      "starbucks-capstone/offer-data/sagemaker-pytorch-2021-04-11-09-15-34-989/profiler-output/system/training_job_end.ts\n",
      "starbucks-capstone/offer-data/sagemaker-pytorch-2021-04-11-09-15-34-989/rule-output/ProfilerReport-1618132534/profiler-output/profiler-report.html\n",
      "starbucks-capstone/offer-data/sagemaker-pytorch-2021-04-11-09-15-34-989/rule-output/ProfilerReport-1618132534/profiler-output/profiler-report.ipynb\n",
      "starbucks-capstone/offer-data/sagemaker-pytorch-2021-04-11-09-15-34-989/rule-output/ProfilerReport-1618132534/profiler-output/profiler-reports/BatchSize.json\n",
      "starbucks-capstone/offer-data/sagemaker-pytorch-2021-04-11-09-15-34-989/rule-output/ProfilerReport-1618132534/profiler-output/profiler-reports/CPUBottleneck.json\n",
      "starbucks-capstone/offer-data/sagemaker-pytorch-2021-04-11-09-15-34-989/rule-output/ProfilerReport-1618132534/profiler-output/profiler-reports/Dataloader.json\n",
      "starbucks-capstone/offer-data/sagemaker-pytorch-2021-04-11-09-15-34-989/rule-output/ProfilerReport-1618132534/profiler-output/profiler-reports/GPUMemoryIncrease.json\n",
      "starbucks-capstone/offer-data/sagemaker-pytorch-2021-04-11-09-15-34-989/rule-output/ProfilerReport-1618132534/profiler-output/profiler-reports/IOBottleneck.json\n",
      "starbucks-capstone/offer-data/sagemaker-pytorch-2021-04-11-09-15-34-989/rule-output/ProfilerReport-1618132534/profiler-output/profiler-reports/LoadBalancing.json\n",
      "starbucks-capstone/offer-data/sagemaker-pytorch-2021-04-11-09-15-34-989/rule-output/ProfilerReport-1618132534/profiler-output/profiler-reports/LowGPUUtilization.json\n",
      "starbucks-capstone/offer-data/sagemaker-pytorch-2021-04-11-09-15-34-989/rule-output/ProfilerReport-1618132534/profiler-output/profiler-reports/MaxInitializationTime.json\n",
      "starbucks-capstone/offer-data/sagemaker-pytorch-2021-04-11-09-15-34-989/rule-output/ProfilerReport-1618132534/profiler-output/profiler-reports/OverallFrameworkMetrics.json\n",
      "starbucks-capstone/offer-data/sagemaker-pytorch-2021-04-11-09-15-34-989/rule-output/ProfilerReport-1618132534/profiler-output/profiler-reports/OverallSystemUsage.json\n",
      "starbucks-capstone/offer-data/sagemaker-pytorch-2021-04-11-09-15-34-989/rule-output/ProfilerReport-1618132534/profiler-output/profiler-reports/StepOutlier.json\n",
      "starbucks-capstone/offer-data/sagemaker-pytorch-2021-04-11-10-24-44-299/debug-output/training_job_end.ts\n",
      "starbucks-capstone/offer-data/sagemaker-pytorch-2021-04-11-10-24-44-299/output/model.tar.gz\n",
      "starbucks-capstone/offer-data/sagemaker-pytorch-2021-04-11-10-24-44-299/profiler-output/framework/training_job_end.ts\n",
      "starbucks-capstone/offer-data/sagemaker-pytorch-2021-04-11-10-24-44-299/profiler-output/system/incremental/2021041110/1618136760.algo-1.json\n",
      "starbucks-capstone/offer-data/sagemaker-pytorch-2021-04-11-10-24-44-299/profiler-output/system/incremental/2021041110/1618136820.algo-1.json\n",
      "starbucks-capstone/offer-data/sagemaker-pytorch-2021-04-11-10-24-44-299/profiler-output/system/incremental/2021041110/1618136880.algo-1.json\n",
      "starbucks-capstone/offer-data/sagemaker-pytorch-2021-04-11-10-24-44-299/profiler-output/system/incremental/2021041110/1618136940.algo-1.json\n",
      "starbucks-capstone/offer-data/sagemaker-pytorch-2021-04-11-10-24-44-299/profiler-output/system/incremental/2021041110/1618137000.algo-1.json\n",
      "starbucks-capstone/offer-data/sagemaker-pytorch-2021-04-11-10-24-44-299/profiler-output/system/incremental/2021041110/1618137060.algo-1.json\n",
      "starbucks-capstone/offer-data/sagemaker-pytorch-2021-04-11-10-24-44-299/profiler-output/system/incremental/2021041110/1618137120.algo-1.json\n",
      "starbucks-capstone/offer-data/sagemaker-pytorch-2021-04-11-10-24-44-299/profiler-output/system/training_job_end.ts\n",
      "starbucks-capstone/offer-data/sagemaker-pytorch-2021-04-11-10-24-44-299/rule-output/ProfilerReport-1618136684/profiler-output/profiler-report.html\n",
      "starbucks-capstone/offer-data/sagemaker-pytorch-2021-04-11-10-24-44-299/rule-output/ProfilerReport-1618136684/profiler-output/profiler-report.ipynb\n",
      "starbucks-capstone/offer-data/sagemaker-pytorch-2021-04-11-10-24-44-299/rule-output/ProfilerReport-1618136684/profiler-output/profiler-reports/BatchSize.json\n",
      "starbucks-capstone/offer-data/sagemaker-pytorch-2021-04-11-10-24-44-299/rule-output/ProfilerReport-1618136684/profiler-output/profiler-reports/CPUBottleneck.json\n",
      "starbucks-capstone/offer-data/sagemaker-pytorch-2021-04-11-10-24-44-299/rule-output/ProfilerReport-1618136684/profiler-output/profiler-reports/Dataloader.json\n",
      "starbucks-capstone/offer-data/sagemaker-pytorch-2021-04-11-10-24-44-299/rule-output/ProfilerReport-1618136684/profiler-output/profiler-reports/GPUMemoryIncrease.json\n",
      "starbucks-capstone/offer-data/sagemaker-pytorch-2021-04-11-10-24-44-299/rule-output/ProfilerReport-1618136684/profiler-output/profiler-reports/IOBottleneck.json\n",
      "starbucks-capstone/offer-data/sagemaker-pytorch-2021-04-11-10-24-44-299/rule-output/ProfilerReport-1618136684/profiler-output/profiler-reports/LoadBalancing.json\n",
      "starbucks-capstone/offer-data/sagemaker-pytorch-2021-04-11-10-24-44-299/rule-output/ProfilerReport-1618136684/profiler-output/profiler-reports/LowGPUUtilization.json\n",
      "starbucks-capstone/offer-data/sagemaker-pytorch-2021-04-11-10-24-44-299/rule-output/ProfilerReport-1618136684/profiler-output/profiler-reports/MaxInitializationTime.json\n",
      "starbucks-capstone/offer-data/sagemaker-pytorch-2021-04-11-10-24-44-299/rule-output/ProfilerReport-1618136684/profiler-output/profiler-reports/OverallFrameworkMetrics.json\n",
      "starbucks-capstone/offer-data/sagemaker-pytorch-2021-04-11-10-24-44-299/rule-output/ProfilerReport-1618136684/profiler-output/profiler-reports/OverallSystemUsage.json\n",
      "starbucks-capstone/offer-data/sagemaker-pytorch-2021-04-11-10-24-44-299/rule-output/ProfilerReport-1618136684/profiler-output/profiler-reports/StepOutlier.json\n",
      "starbucks-capstone/offer-data/train.csv\n",
      "Test passed!\n"
     ]
    }
   ],
   "source": [
    "# confirm that data is in S3 bucket\n",
    "empty_check = []\n",
    "for obj in boto3.resource('s3').Bucket(bucket).objects.all():\n",
    "    empty_check.append(obj.key)\n",
    "    print(obj.key)\n",
    "\n",
    "assert len(empty_check) !=0, 'S3 bucket is empty.'\n",
    "print('Test passed!')"
   ]
  },
  {
   "cell_type": "markdown",
   "metadata": {},
   "source": [
    "## Model 1: Linear SVC from sklearn\n",
    "\n",
    "Load the training code"
   ]
  },
  {
   "cell_type": "code",
   "execution_count": 33,
   "metadata": {
    "scrolled": true
   },
   "outputs": [
    {
     "name": "stdout",
     "output_type": "stream",
     "text": [
      "\u001b[34mfrom\u001b[39;49;00m \u001b[04m\u001b[36m__future__\u001b[39;49;00m \u001b[34mimport\u001b[39;49;00m print_function\r\n",
      "\r\n",
      "\u001b[34mimport\u001b[39;49;00m \u001b[04m\u001b[36margparse\u001b[39;49;00m\r\n",
      "\u001b[34mimport\u001b[39;49;00m \u001b[04m\u001b[36mos\u001b[39;49;00m\r\n",
      "\u001b[34mimport\u001b[39;49;00m \u001b[04m\u001b[36mpandas\u001b[39;49;00m \u001b[34mas\u001b[39;49;00m \u001b[04m\u001b[36mpd\u001b[39;49;00m\r\n",
      "\r\n",
      "\u001b[37m# sklearn.externals.joblib is deprecated in 0.21 and will be removed in 0.23. \u001b[39;49;00m\r\n",
      "\u001b[37m# from sklearn.externals import joblib\u001b[39;49;00m\r\n",
      "\u001b[37m# Import joblib package directly\u001b[39;49;00m\r\n",
      "\u001b[34mimport\u001b[39;49;00m \u001b[04m\u001b[36mjoblib\u001b[39;49;00m\r\n",
      "\r\n",
      "\u001b[37m## TODO: Import any additional libraries you need to define a model\u001b[39;49;00m\r\n",
      "\u001b[34mfrom\u001b[39;49;00m \u001b[04m\u001b[36msklearn\u001b[39;49;00m\u001b[04m\u001b[36m.\u001b[39;49;00m\u001b[04m\u001b[36msvm\u001b[39;49;00m \u001b[34mimport\u001b[39;49;00m LinearSVC\r\n",
      "\r\n",
      "\r\n",
      "\u001b[37m# Provided model load function\u001b[39;49;00m\r\n",
      "\u001b[34mdef\u001b[39;49;00m \u001b[32mmodel_fn\u001b[39;49;00m(model_dir):\r\n",
      "    \u001b[33m\"\"\"Load model from the model_dir. This is the same model that is saved\u001b[39;49;00m\r\n",
      "\u001b[33m    in the main if statement.\u001b[39;49;00m\r\n",
      "\u001b[33m    \"\"\"\u001b[39;49;00m\r\n",
      "    \u001b[36mprint\u001b[39;49;00m(\u001b[33m\"\u001b[39;49;00m\u001b[33mLoading model.\u001b[39;49;00m\u001b[33m\"\u001b[39;49;00m)\r\n",
      "    \r\n",
      "    \u001b[37m# load using joblib\u001b[39;49;00m\r\n",
      "    model = joblib.load(os.path.join(model_dir, \u001b[33m\"\u001b[39;49;00m\u001b[33mmodel.joblib\u001b[39;49;00m\u001b[33m\"\u001b[39;49;00m))\r\n",
      "    \u001b[36mprint\u001b[39;49;00m(\u001b[33m\"\u001b[39;49;00m\u001b[33mDone loading model.\u001b[39;49;00m\u001b[33m\"\u001b[39;49;00m)\r\n",
      "    \r\n",
      "    \u001b[34mreturn\u001b[39;49;00m model\r\n",
      "\r\n",
      "\r\n",
      "\u001b[37m## TODO: Complete the main code\u001b[39;49;00m\r\n",
      "\u001b[34mif\u001b[39;49;00m \u001b[31m__name__\u001b[39;49;00m == \u001b[33m'\u001b[39;49;00m\u001b[33m__main__\u001b[39;49;00m\u001b[33m'\u001b[39;49;00m:\r\n",
      "    \r\n",
      "    \u001b[37m# All of the model parameters and training parameters are sent as arguments\u001b[39;49;00m\r\n",
      "    \u001b[37m# when this script is executed, during a training job\u001b[39;49;00m\r\n",
      "    \r\n",
      "    \u001b[37m# Here we set up an argument parser to easily access the parameters\u001b[39;49;00m\r\n",
      "    parser = argparse.ArgumentParser()\r\n",
      "\r\n",
      "    \u001b[37m# SageMaker parameters, like the directories for training data and saving models; set automatically\u001b[39;49;00m\r\n",
      "    \u001b[37m# Do not need to change\u001b[39;49;00m\r\n",
      "    parser.add_argument(\u001b[33m'\u001b[39;49;00m\u001b[33m--output-data-dir\u001b[39;49;00m\u001b[33m'\u001b[39;49;00m, \u001b[36mtype\u001b[39;49;00m=\u001b[36mstr\u001b[39;49;00m, default=os.environ[\u001b[33m'\u001b[39;49;00m\u001b[33mSM_OUTPUT_DATA_DIR\u001b[39;49;00m\u001b[33m'\u001b[39;49;00m])\r\n",
      "    parser.add_argument(\u001b[33m'\u001b[39;49;00m\u001b[33m--model-dir\u001b[39;49;00m\u001b[33m'\u001b[39;49;00m, \u001b[36mtype\u001b[39;49;00m=\u001b[36mstr\u001b[39;49;00m, default=os.environ[\u001b[33m'\u001b[39;49;00m\u001b[33mSM_MODEL_DIR\u001b[39;49;00m\u001b[33m'\u001b[39;49;00m])\r\n",
      "    parser.add_argument(\u001b[33m'\u001b[39;49;00m\u001b[33m--data-dir\u001b[39;49;00m\u001b[33m'\u001b[39;49;00m, \u001b[36mtype\u001b[39;49;00m=\u001b[36mstr\u001b[39;49;00m, default=os.environ[\u001b[33m'\u001b[39;49;00m\u001b[33mSM_CHANNEL_TRAIN\u001b[39;49;00m\u001b[33m'\u001b[39;49;00m])\r\n",
      "    \r\n",
      "    \u001b[37m## TODO: Add any additional arguments that you will need to pass into your model\u001b[39;49;00m\r\n",
      "    \r\n",
      "    \u001b[37m# args holds all passed-in arguments\u001b[39;49;00m\r\n",
      "    args = parser.parse_args()\r\n",
      "\r\n",
      "    \u001b[37m# Read in csv training file\u001b[39;49;00m\r\n",
      "    training_dir = args.data_dir\r\n",
      "    train_data = pd.read_csv(os.path.join(training_dir, \u001b[33m\"\u001b[39;49;00m\u001b[33mtrain.csv\u001b[39;49;00m\u001b[33m\"\u001b[39;49;00m), header=\u001b[34mNone\u001b[39;49;00m, names=\u001b[34mNone\u001b[39;49;00m)\r\n",
      "\r\n",
      "    \u001b[37m# Labels are in the first column\u001b[39;49;00m\r\n",
      "    train_y = train_data.iloc[:,\u001b[34m0\u001b[39;49;00m]\r\n",
      "    train_x = train_data.iloc[:,\u001b[34m1\u001b[39;49;00m:]\r\n",
      "    \r\n",
      "    \r\n",
      "    \u001b[37m## --- Your code here --- ##\u001b[39;49;00m\r\n",
      "    \r\n",
      "\r\n",
      "    \u001b[37m## TODO: Define a model \u001b[39;49;00m\r\n",
      "    model = LinearSVC()\r\n",
      "    \r\n",
      "    \r\n",
      "    \r\n",
      "    \u001b[37m## TODO: Train the model\u001b[39;49;00m\r\n",
      "    model.fit(train_x, train_y)\r\n",
      "    \r\n",
      "    \r\n",
      "    \u001b[37m## --- End of your code  --- ##\u001b[39;49;00m\r\n",
      "    \r\n",
      "\r\n",
      "    \u001b[37m# Save the trained model\u001b[39;49;00m\r\n",
      "    joblib.dump(model, os.path.join(args.model_dir, \u001b[33m\"\u001b[39;49;00m\u001b[33mmodel.joblib\u001b[39;49;00m\u001b[33m\"\u001b[39;49;00m))\r\n"
     ]
    }
   ],
   "source": [
    "!pygmentize source_sklearn/train.py"
   ]
  },
  {
   "cell_type": "markdown",
   "metadata": {},
   "source": [
    "### Create Estimator object"
   ]
  },
  {
   "cell_type": "code",
   "execution_count": 34,
   "metadata": {
    "collapsed": true
   },
   "outputs": [
    {
     "name": "stderr",
     "output_type": "stream",
     "text": [
      "train_instance_type has been renamed in sagemaker>=2.\n",
      "See: https://sagemaker.readthedocs.io/en/stable/v2.html for details.\n",
      "train_instance_count has been renamed in sagemaker>=2.\n",
      "See: https://sagemaker.readthedocs.io/en/stable/v2.html for details.\n",
      "train_instance_count has been renamed in sagemaker>=2.\n",
      "See: https://sagemaker.readthedocs.io/en/stable/v2.html for details.\n",
      "train_instance_type has been renamed in sagemaker>=2.\n",
      "See: https://sagemaker.readthedocs.io/en/stable/v2.html for details.\n"
     ]
    }
   ],
   "source": [
    "# Define and train model\n",
    "from sagemaker.sklearn.estimator import SKLearn\n",
    "\n",
    "estimator = SKLearn(entry_point='train.py',\n",
    "                    source_dir='/home/ec2-user/SageMaker/Capstone-Starbucks-Project/source_sklearn',\n",
    "                    role=role,\n",
    "                    py_version=\"py3\",\n",
    "                    framework_version='0.23-1',\n",
    "                    train_instance_count=1,\n",
    "                    train_instance_type='ml.m5.large')"
   ]
  },
  {
   "cell_type": "markdown",
   "metadata": {},
   "source": [
    "### Train Linear SVC model"
   ]
  },
  {
   "cell_type": "code",
   "execution_count": 35,
   "metadata": {
    "scrolled": false
   },
   "outputs": [
    {
     "name": "stdout",
     "output_type": "stream",
     "text": [
      "CPU times: user 3 µs, sys: 0 ns, total: 3 µs\n",
      "Wall time: 5.72 µs\n",
      "2021-04-14 12:23:35 Starting - Starting the training job...\n",
      "2021-04-14 12:23:37 Starting - Launching requested ML instancesProfilerReport-1618403015: InProgress\n",
      "......\n",
      "2021-04-14 12:25:00 Starting - Preparing the instances for training.........\n",
      "2021-04-14 12:26:33 Downloading - Downloading input data...\n",
      "2021-04-14 12:26:54 Training - Downloading the training image\u001b[34m2021-04-14 12:26:55,448 sagemaker-containers INFO     Imported framework sagemaker_sklearn_container.training\u001b[0m\n",
      "\u001b[34m2021-04-14 12:26:55,450 sagemaker-training-toolkit INFO     No GPUs detected (normal if no gpus installed)\u001b[0m\n",
      "\u001b[34m2021-04-14 12:26:55,459 sagemaker_sklearn_container.training INFO     Invoking user training script.\u001b[0m\n",
      "\u001b[34m2021-04-14 12:26:55,755 sagemaker-training-toolkit INFO     No GPUs detected (normal if no gpus installed)\u001b[0m\n",
      "\u001b[34m2021-04-14 12:26:55,767 sagemaker-training-toolkit INFO     No GPUs detected (normal if no gpus installed)\u001b[0m\n",
      "\u001b[34m2021-04-14 12:26:55,778 sagemaker-training-toolkit INFO     No GPUs detected (normal if no gpus installed)\u001b[0m\n",
      "\u001b[34m2021-04-14 12:26:55,787 sagemaker-training-toolkit INFO     Invoking user script\n",
      "\u001b[0m\n",
      "\u001b[34mTraining Env:\n",
      "\u001b[0m\n",
      "\u001b[34m{\n",
      "    \"additional_framework_parameters\": {},\n",
      "    \"channel_input_dirs\": {\n",
      "        \"train\": \"/opt/ml/input/data/train\"\n",
      "    },\n",
      "    \"current_host\": \"algo-1\",\n",
      "    \"framework_module\": \"sagemaker_sklearn_container.training:main\",\n",
      "    \"hosts\": [\n",
      "        \"algo-1\"\n",
      "    ],\n",
      "    \"hyperparameters\": {},\n",
      "    \"input_config_dir\": \"/opt/ml/input/config\",\n",
      "    \"input_data_config\": {\n",
      "        \"train\": {\n",
      "            \"TrainingInputMode\": \"File\",\n",
      "            \"S3DistributionType\": \"FullyReplicated\",\n",
      "            \"RecordWrapperType\": \"None\"\n",
      "        }\n",
      "    },\n",
      "    \"input_dir\": \"/opt/ml/input\",\n",
      "    \"is_master\": true,\n",
      "    \"job_name\": \"sagemaker-scikit-learn-2021-04-14-12-23-35-255\",\n",
      "    \"log_level\": 20,\n",
      "    \"master_hostname\": \"algo-1\",\n",
      "    \"model_dir\": \"/opt/ml/model\",\n",
      "    \"module_dir\": \"s3://sagemaker-eu-north-1-186768347586/sagemaker-scikit-learn-2021-04-14-12-23-35-255/source/sourcedir.tar.gz\",\n",
      "    \"module_name\": \"train\",\n",
      "    \"network_interface_name\": \"eth0\",\n",
      "    \"num_cpus\": 2,\n",
      "    \"num_gpus\": 0,\n",
      "    \"output_data_dir\": \"/opt/ml/output/data\",\n",
      "    \"output_dir\": \"/opt/ml/output\",\n",
      "    \"output_intermediate_dir\": \"/opt/ml/output/intermediate\",\n",
      "    \"resource_config\": {\n",
      "        \"current_host\": \"algo-1\",\n",
      "        \"hosts\": [\n",
      "            \"algo-1\"\n",
      "        ],\n",
      "        \"network_interface_name\": \"eth0\"\n",
      "    },\n",
      "    \"user_entry_point\": \"train.py\"\u001b[0m\n",
      "\u001b[34m}\n",
      "\u001b[0m\n",
      "\u001b[34mEnvironment variables:\n",
      "\u001b[0m\n",
      "\u001b[34mSM_HOSTS=[\"algo-1\"]\u001b[0m\n",
      "\u001b[34mSM_NETWORK_INTERFACE_NAME=eth0\u001b[0m\n",
      "\u001b[34mSM_HPS={}\u001b[0m\n",
      "\u001b[34mSM_USER_ENTRY_POINT=train.py\u001b[0m\n",
      "\u001b[34mSM_FRAMEWORK_PARAMS={}\u001b[0m\n",
      "\u001b[34mSM_RESOURCE_CONFIG={\"current_host\":\"algo-1\",\"hosts\":[\"algo-1\"],\"network_interface_name\":\"eth0\"}\u001b[0m\n",
      "\u001b[34mSM_INPUT_DATA_CONFIG={\"train\":{\"RecordWrapperType\":\"None\",\"S3DistributionType\":\"FullyReplicated\",\"TrainingInputMode\":\"File\"}}\u001b[0m\n",
      "\u001b[34mSM_OUTPUT_DATA_DIR=/opt/ml/output/data\u001b[0m\n",
      "\u001b[34mSM_CHANNELS=[\"train\"]\u001b[0m\n",
      "\u001b[34mSM_CURRENT_HOST=algo-1\u001b[0m\n",
      "\u001b[34mSM_MODULE_NAME=train\u001b[0m\n",
      "\u001b[34mSM_LOG_LEVEL=20\u001b[0m\n",
      "\u001b[34mSM_FRAMEWORK_MODULE=sagemaker_sklearn_container.training:main\u001b[0m\n",
      "\u001b[34mSM_INPUT_DIR=/opt/ml/input\u001b[0m\n",
      "\u001b[34mSM_INPUT_CONFIG_DIR=/opt/ml/input/config\u001b[0m\n",
      "\u001b[34mSM_OUTPUT_DIR=/opt/ml/output\u001b[0m\n",
      "\u001b[34mSM_NUM_CPUS=2\u001b[0m\n",
      "\u001b[34mSM_NUM_GPUS=0\u001b[0m\n",
      "\u001b[34mSM_MODEL_DIR=/opt/ml/model\u001b[0m\n",
      "\u001b[34mSM_MODULE_DIR=s3://sagemaker-eu-north-1-186768347586/sagemaker-scikit-learn-2021-04-14-12-23-35-255/source/sourcedir.tar.gz\u001b[0m\n",
      "\u001b[34mSM_TRAINING_ENV={\"additional_framework_parameters\":{},\"channel_input_dirs\":{\"train\":\"/opt/ml/input/data/train\"},\"current_host\":\"algo-1\",\"framework_module\":\"sagemaker_sklearn_container.training:main\",\"hosts\":[\"algo-1\"],\"hyperparameters\":{},\"input_config_dir\":\"/opt/ml/input/config\",\"input_data_config\":{\"train\":{\"RecordWrapperType\":\"None\",\"S3DistributionType\":\"FullyReplicated\",\"TrainingInputMode\":\"File\"}},\"input_dir\":\"/opt/ml/input\",\"is_master\":true,\"job_name\":\"sagemaker-scikit-learn-2021-04-14-12-23-35-255\",\"log_level\":20,\"master_hostname\":\"algo-1\",\"model_dir\":\"/opt/ml/model\",\"module_dir\":\"s3://sagemaker-eu-north-1-186768347586/sagemaker-scikit-learn-2021-04-14-12-23-35-255/source/sourcedir.tar.gz\",\"module_name\":\"train\",\"network_interface_name\":\"eth0\",\"num_cpus\":2,\"num_gpus\":0,\"output_data_dir\":\"/opt/ml/output/data\",\"output_dir\":\"/opt/ml/output\",\"output_intermediate_dir\":\"/opt/ml/output/intermediate\",\"resource_config\":{\"current_host\":\"algo-1\",\"hosts\":[\"algo-1\"],\"network_interface_name\":\"eth0\"},\"user_entry_point\":\"train.py\"}\u001b[0m\n",
      "\u001b[34mSM_USER_ARGS=[]\u001b[0m\n",
      "\u001b[34mSM_OUTPUT_INTERMEDIATE_DIR=/opt/ml/output/intermediate\u001b[0m\n",
      "\u001b[34mSM_CHANNEL_TRAIN=/opt/ml/input/data/train\u001b[0m\n",
      "\u001b[34mPYTHONPATH=/opt/ml/code:/miniconda3/bin:/miniconda3/lib/python37.zip:/miniconda3/lib/python3.7:/miniconda3/lib/python3.7/lib-dynload:/miniconda3/lib/python3.7/site-packages\n",
      "\u001b[0m\n",
      "\u001b[34mInvoking script with the following command:\n",
      "\u001b[0m\n",
      "\u001b[34m/miniconda3/bin/python train.py\n",
      "\n",
      "\u001b[0m\n",
      "\u001b[34m/miniconda3/lib/python3.7/site-packages/sklearn/svm/_base.py:977: ConvergenceWarning: Liblinear failed to converge, increase the number of iterations.\n",
      "  \"the number of iterations.\", ConvergenceWarning)\u001b[0m\n",
      "\u001b[34m2021-04-14 12:26:56,931 sagemaker-containers INFO     Reporting training SUCCESS\u001b[0m\n",
      "\n",
      "2021-04-14 12:27:34 Uploading - Uploading generated training model\n",
      "2021-04-14 12:27:54 Completed - Training job completed\n",
      "Training seconds: 83\n",
      "Billable seconds: 83\n"
     ]
    }
   ],
   "source": [
    "%time\n",
    "# Train estimator on S3 training data\n",
    "estimator.fit({'train': uploaded_data_s3})"
   ]
  },
  {
   "cell_type": "markdown",
   "metadata": {},
   "source": [
    "### Deploy the model to an Endpoint"
   ]
  },
  {
   "cell_type": "code",
   "execution_count": 36,
   "metadata": {},
   "outputs": [
    {
     "name": "stdout",
     "output_type": "stream",
     "text": [
      "-------------!CPU times: user 189 ms, sys: 23.3 ms, total: 213 ms\n",
      "Wall time: 6min 31s\n"
     ]
    }
   ],
   "source": [
    "%%time\n",
    "\n",
    "# deploy model to create a predictor\n",
    "predictor = estimator.deploy(initial_instance_count=1, instance_type='ml.m5.large')"
   ]
  },
  {
   "cell_type": "markdown",
   "metadata": {},
   "source": [
    "### Get predicted labels using test features"
   ]
  },
  {
   "cell_type": "code",
   "execution_count": 38,
   "metadata": {
    "scrolled": true
   },
   "outputs": [
    {
     "data": {
      "text/plain": [
       "array([0, 1, 1, 1, 1, 0, 1, 0, 1, 1, 1, 1, 1, 1, 1, 0, 0, 1, 0, 0, 1, 1,\n",
       "       0, 0, 1, 1, 1, 1, 1, 1, 0, 0, 1, 1, 1, 1, 1, 1, 1, 1, 1, 0, 1, 0,\n",
       "       1, 1, 1, 0, 1, 0, 0, 1, 1, 1, 1, 1, 0, 1, 1, 1, 1, 1, 1, 1, 1, 0,\n",
       "       1, 1, 1, 0, 1, 1, 1, 1, 1, 1, 1, 1, 1, 1, 0, 1, 1, 1, 0, 1, 1, 1,\n",
       "       1, 1, 1, 1, 1, 1, 1, 1, 0, 0, 0, 1, 1, 1, 1, 0, 1, 1, 1, 1, 1, 1,\n",
       "       1, 1, 1, 1, 1, 1, 1, 1, 1, 1, 1, 1, 1, 1, 1, 1, 1, 1, 0, 0, 1, 1,\n",
       "       1, 1, 1, 0, 1, 1, 1, 1, 1, 0, 1, 1, 1, 0, 1, 1, 1, 1, 0, 0, 1, 1,\n",
       "       0, 1, 1, 0, 1, 1, 0, 1, 1, 1, 1, 0, 1, 1, 1, 0, 1, 0, 1, 1, 1, 1,\n",
       "       1, 1, 1, 1, 1, 0, 0, 1, 1, 1, 1, 1, 1, 1, 1, 1, 1, 1, 1, 1, 1, 1,\n",
       "       1, 0])"
      ]
     },
     "execution_count": 38,
     "metadata": {},
     "output_type": "execute_result"
    }
   ],
   "source": [
    "# Determine accuracy of model\n",
    "# First: generate predicted, class labels\n",
    "test_y_preds = predictor.predict(X_test)\n",
    "test_y_preds"
   ]
  },
  {
   "cell_type": "markdown",
   "metadata": {},
   "source": [
    "#### Test if size of prediction label is equal to original test labels"
   ]
  },
  {
   "cell_type": "code",
   "execution_count": 39,
   "metadata": {},
   "outputs": [
    {
     "name": "stdout",
     "output_type": "stream",
     "text": [
      "Test passed!\n"
     ]
    }
   ],
   "source": [
    "# test that model generates the correct number of labels\n",
    "assert len(test_y_preds)==len(y_test), 'Unexpected number of predictions.'\n",
    "print('Test passed!')"
   ]
  },
  {
   "cell_type": "code",
   "execution_count": 42,
   "metadata": {
    "scrolled": true
   },
   "outputs": [
    {
     "data": {
      "text/plain": [
       "array([0, 1, 0, 1, 0, 0, 1, 0, 0, 1, 1, 1, 0, 0, 1, 0, 1, 0, 0, 0, 1, 0,\n",
       "       0, 0, 0, 0, 1, 1, 1, 0, 0, 0, 1, 0, 1, 1, 0, 0, 0, 0, 1, 0, 0, 0,\n",
       "       1, 0, 0, 0, 1, 1, 0, 1, 1, 0, 0, 1, 0, 0, 1, 0, 0, 1, 1, 1, 0, 0,\n",
       "       1, 0, 0, 0, 1, 0, 1, 1, 0, 0, 1, 1, 0, 1, 0, 0, 1, 0, 0, 1, 0, 1,\n",
       "       1, 0, 0, 1, 1, 0, 1, 0, 0, 0, 1, 0, 0, 1, 0, 0, 1, 0, 1, 1, 1, 0,\n",
       "       0, 1, 0, 1, 1, 0, 1, 1, 1, 0, 0, 1, 1, 0, 0, 0, 1, 1, 0, 0, 0, 0,\n",
       "       1, 0, 1, 0, 1, 0, 0, 1, 1, 0, 0, 1, 1, 0, 1, 1, 1, 0, 0, 0, 0, 0,\n",
       "       1, 1, 1, 0, 1, 1, 0, 1, 1, 1, 1, 0, 1, 0, 0, 1, 0, 0, 1, 0, 1, 0,\n",
       "       1, 1, 0, 0, 1, 0, 1, 0, 1, 1, 1, 1, 1, 0, 1, 1, 1, 1, 0, 1, 1, 1,\n",
       "       1, 0])"
      ]
     },
     "execution_count": 42,
     "metadata": {},
     "output_type": "execute_result"
    }
   ],
   "source": [
    "test_y = pd.DataFrame(y_test).iloc[:,0]\n",
    "converted_test_y = test_y.reset_index(drop=True).values.astype(int)\n",
    "converted_test_y"
   ]
  },
  {
   "cell_type": "markdown",
   "metadata": {},
   "source": [
    "### Check Accuracy"
   ]
  },
  {
   "cell_type": "code",
   "execution_count": 43,
   "metadata": {},
   "outputs": [],
   "source": [
    "from sklearn.metrics import accuracy_score\n",
    "\n",
    "# Second: calculate the test accuracy\n",
    "accuracy = accuracy_score(converted_test_y, test_y_preds.round())"
   ]
  },
  {
   "cell_type": "markdown",
   "metadata": {},
   "source": [
    "### Linear SVC accuracy : 0.625"
   ]
  },
  {
   "cell_type": "code",
   "execution_count": 203,
   "metadata": {
    "scrolled": true
   },
   "outputs": [
    {
     "name": "stdout",
     "output_type": "stream",
     "text": [
      "0.625\n",
      "\n",
      "Predicted class labels: \n",
      "[0 1 1 1 1 0 1 0 1 1 1 1 1 1 1 0 0 1 0 0 1 1 0 0 1 1 1 1 1 1 0 0 1 1 1 1 1\n",
      " 1 1 1 1 0 1 0 1 1 1 0 1 0 0 1 1 1 1 1 0 1 1 1 1 1 1 1 1 0 1 1 1 0 1 1 1 1\n",
      " 1 1 1 1 1 1 0 1 1 1 0 1 1 1 1 1 1 1 1 1 1 1 0 0 0 1 1 1 1 0 1 1 1 1 1 1 1\n",
      " 1 1 1 1 1 1 1 1 1 1 1 1 1 1 1 1 1 0 0 1 1 1 1 1 0 1 1 1 1 1 0 1 1 1 0 1 1\n",
      " 1 1 0 0 1 1 0 1 1 0 1 1 0 1 1 1 1 0 1 1 1 0 1 0 1 1 1 1 1 1 1 1 1 0 0 1 1\n",
      " 1 1 1 1 1 1 1 1 1 1 1 1 1 1 0]\n",
      "\n",
      "True class labels: \n",
      "[0 1 0 1 0 0 1 0 0 1 1 1 0 0 1 0 1 0 0 0 1 0 0 0 0 0 1 1 1 0 0 0 1 0 1 1 0\n",
      " 0 0 0 1 0 0 0 1 0 0 0 1 1 0 1 1 0 0 1 0 0 1 0 0 1 1 1 0 0 1 0 0 0 1 0 1 1\n",
      " 0 0 1 1 0 1 0 0 1 0 0 1 0 1 1 0 0 1 1 0 1 0 0 0 1 0 0 1 0 0 1 0 1 1 1 0 0\n",
      " 1 0 1 1 0 1 1 1 0 0 1 1 0 0 0 1 1 0 0 0 0 1 0 1 0 1 0 0 1 1 0 0 1 1 0 1 1\n",
      " 1 0 0 0 0 0 1 1 1 0 1 1 0 1 1 1 1 0 1 0 0 1 0 0 1 0 1 0 1 1 0 0 1 0 1 0 1\n",
      " 1 1 1 1 0 1 1 1 1 0 1 1 1 1 0]\n"
     ]
    }
   ],
   "source": [
    "print(accuracy)\n",
    "\n",
    "## print out the array of predicted and true labels, if you want\n",
    "print('\\nPredicted class labels: ')\n",
    "print(test_y_preds)\n",
    "print('\\nTrue class labels: ')\n",
    "print(test_y.values)"
   ]
  },
  {
   "cell_type": "markdown",
   "metadata": {},
   "source": [
    "### Linear SVC precision : 0.56"
   ]
  },
  {
   "cell_type": "code",
   "execution_count": 93,
   "metadata": {
    "scrolled": true
   },
   "outputs": [
    {
     "name": "stdout",
     "output_type": "stream",
     "text": [
      "linearSVC precision score: 0.56\n"
     ]
    }
   ],
   "source": [
    "# Compute the average precision score\n",
    "from sklearn.metrics import recall_score\n",
    "from sklearn.metrics import average_precision_score\n",
    "linearSVC_precision = average_precision_score(test_y.astype('int'), test_y_preds.astype('int'))\n",
    "\n",
    "print('linearSVC precision score: {0:0.2f}'.format(\n",
    "      average_precision))"
   ]
  },
  {
   "cell_type": "markdown",
   "metadata": {},
   "source": [
    "### Linear SVC recall : 0.94"
   ]
  },
  {
   "cell_type": "code",
   "execution_count": 94,
   "metadata": {
    "scrolled": true
   },
   "outputs": [
    {
     "name": "stdout",
     "output_type": "stream",
     "text": [
      "linearSVC recall score: 0.94\n"
     ]
    }
   ],
   "source": [
    "from sklearn.metrics import average_precision_score\n",
    "linearSVC_recall = recall_score(test_y.astype('int'), test_y_preds.astype('int'))\n",
    "print('linearSVC recall score: {0:0.2f}'.format(\n",
    "      recall)) "
   ]
  },
  {
   "cell_type": "markdown",
   "metadata": {},
   "source": [
    "### Confusion matrix : Linear SVC"
   ]
  },
  {
   "cell_type": "code",
   "execution_count": 165,
   "metadata": {},
   "outputs": [],
   "source": [
    "def build_cmatrix(c_matrix, ax):\n",
    "    ax.matshow(c_matrix, cmap='YlGn')\n",
    "    ax.set_xlabel('Confusion Matrix')\n",
    "    ax.text(0, 0, f'TN\\n{c_matrix[0,0]}',\n",
    "            ha=\"center\", va=\"center\", color=\"k\")\n",
    "    ax.text(0, 1, f'FN\\n{c_matrix[1,0]}',\n",
    "            ha=\"center\", va=\"center\", color=\"k\")\n",
    "    ax.text(1, 0, f'FP\\n{c_matrix[0,1]}',\n",
    "            ha=\"center\", va=\"center\", color=\"w\")\n",
    "    ax.text(1, 1, f'TP\\n{c_matrix[1,1]}',\n",
    "            ha=\"center\", va=\"center\", color=\"w\")"
   ]
  },
  {
   "cell_type": "code",
   "execution_count": 166,
   "metadata": {
    "scrolled": true
   },
   "outputs": [
    {
     "name": "stdout",
     "output_type": "stream",
     "text": [
      "[[35 69]\n",
      " [ 6 90]]\n"
     ]
    },
    {
     "data": {
      "text/plain": [
       "Text(0.5, 1.0, 'sklearn linearSVC\\n')"
      ]
     },
     "execution_count": 166,
     "metadata": {},
     "output_type": "execute_result"
    },
    {
     "data": {
      "image/png": "[encoded data removed]",
      "text/plain": [
       "<Figure size 432x288 with 1 Axes>"
      ]
     },
     "metadata": {
      "needs_background": "light"
     },
     "output_type": "display_data"
    }
   ],
   "source": [
    "import sklearn.metrics as metrics\n",
    "c_matrix = metrics.confusion_matrix(test_y.astype('int'), test_y_preds.astype('int'))\n",
    "\n",
    "print(c_matrix)\n",
    "\n",
    "# Build the confusion matrix\n",
    "fig, axs = plt.subplots(nrows=1, ncols=1)\n",
    "\n",
    "build_cmatrix(c_matrix, axs)\n",
    "axs.set_title('sklearn linearSVC\\n')"
   ]
  },
  {
   "cell_type": "markdown",
   "metadata": {},
   "source": [
    "### Normalized confusion matrix: Linear SVC"
   ]
  },
  {
   "cell_type": "code",
   "execution_count": 149,
   "metadata": {},
   "outputs": [
    {
     "data": {
      "image/png": "[encoded data removed]",
      "text/plain": [
       "<Figure size 432x288 with 2 Axes>"
      ]
     },
     "metadata": {
      "needs_background": "light"
     },
     "output_type": "display_data"
    }
   ],
   "source": [
    "# Normalized\n",
    "import scikitplot as skplt\n",
    "skplt.metrics.plot_confusion_matrix(test_y.astype('int'), test_y_preds.astype('int'), normalize=True)\n",
    "plt.show()"
   ]
  },
  {
   "cell_type": "code",
   "execution_count": 144,
   "metadata": {},
   "outputs": [
    {
     "name": "stdout",
     "output_type": "stream",
     "text": [
      "Collecting scikit-plot\n",
      "  Using cached scikit_plot-0.3.7-py3-none-any.whl (33 kB)\n",
      "Requirement already satisfied: scipy>=0.9 in /home/ec2-user/anaconda3/envs/pytorch_p36/lib/python3.6/site-packages (from scikit-plot) (1.5.3)\n",
      "Requirement already satisfied: matplotlib>=1.4.0 in /home/ec2-user/anaconda3/envs/pytorch_p36/lib/python3.6/site-packages (from scikit-plot) (3.3.4)\n",
      "Requirement already satisfied: scikit-learn>=0.18 in /home/ec2-user/anaconda3/envs/pytorch_p36/lib/python3.6/site-packages (from scikit-plot) (0.24.1)\n",
      "Requirement already satisfied: joblib>=0.10 in /home/ec2-user/anaconda3/envs/pytorch_p36/lib/python3.6/site-packages (from scikit-plot) (1.0.1)\n",
      "Requirement already satisfied: pillow>=6.2.0 in /home/ec2-user/anaconda3/envs/pytorch_p36/lib/python3.6/site-packages (from matplotlib>=1.4.0->scikit-plot) (8.1.0)\n",
      "Requirement already satisfied: pyparsing!=2.0.4,!=2.1.2,!=2.1.6,>=2.0.3 in /home/ec2-user/anaconda3/envs/pytorch_p36/lib/python3.6/site-packages (from matplotlib>=1.4.0->scikit-plot) (2.4.7)\n",
      "Requirement already satisfied: kiwisolver>=1.0.1 in /home/ec2-user/anaconda3/envs/pytorch_p36/lib/python3.6/site-packages (from matplotlib>=1.4.0->scikit-plot) (1.3.1)\n",
      "Requirement already satisfied: python-dateutil>=2.1 in /home/ec2-user/anaconda3/envs/pytorch_p36/lib/python3.6/site-packages (from matplotlib>=1.4.0->scikit-plot) (2.8.1)\n",
      "Requirement already satisfied: numpy>=1.15 in /home/ec2-user/anaconda3/envs/pytorch_p36/lib/python3.6/site-packages (from matplotlib>=1.4.0->scikit-plot) (1.19.5)\n",
      "Requirement already satisfied: cycler>=0.10 in /home/ec2-user/anaconda3/envs/pytorch_p36/lib/python3.6/site-packages (from matplotlib>=1.4.0->scikit-plot) (0.10.0)\n",
      "Requirement already satisfied: six in /home/ec2-user/anaconda3/envs/pytorch_p36/lib/python3.6/site-packages (from cycler>=0.10->matplotlib>=1.4.0->scikit-plot) (1.15.0)\n",
      "Requirement already satisfied: threadpoolctl>=2.0.0 in /home/ec2-user/anaconda3/envs/pytorch_p36/lib/python3.6/site-packages (from scikit-learn>=0.18->scikit-plot) (2.1.0)\n",
      "Installing collected packages: scikit-plot\n",
      "Successfully installed scikit-plot-0.3.7\n",
      "Note: you may need to restart the kernel to use updated packages.\n"
     ]
    }
   ],
   "source": [
    "pip install scikit-plot"
   ]
  },
  {
   "cell_type": "markdown",
   "metadata": {},
   "source": [
    "## Model 2:  PyTorch - Feed Forward Neural Network"
   ]
  },
  {
   "cell_type": "code",
   "execution_count": 150,
   "metadata": {},
   "outputs": [
    {
     "name": "stdout",
     "output_type": "stream",
     "text": [
      "\u001b[34mimport\u001b[39;49;00m \u001b[04m\u001b[36margparse\u001b[39;49;00m\r\n",
      "\u001b[34mimport\u001b[39;49;00m \u001b[04m\u001b[36mjson\u001b[39;49;00m\r\n",
      "\u001b[34mimport\u001b[39;49;00m \u001b[04m\u001b[36mos\u001b[39;49;00m\r\n",
      "\u001b[34mimport\u001b[39;49;00m \u001b[04m\u001b[36mtorch\u001b[39;49;00m\r\n",
      "\u001b[34mimport\u001b[39;49;00m \u001b[04m\u001b[36mpandas\u001b[39;49;00m \u001b[34mas\u001b[39;49;00m \u001b[04m\u001b[36mpd\u001b[39;49;00m\r\n",
      "\u001b[34mimport\u001b[39;49;00m \u001b[04m\u001b[36mtorch\u001b[39;49;00m\u001b[04m\u001b[36m.\u001b[39;49;00m\u001b[04m\u001b[36mnn\u001b[39;49;00m \u001b[34mas\u001b[39;49;00m \u001b[04m\u001b[36mnn\u001b[39;49;00m\r\n",
      "\u001b[34mimport\u001b[39;49;00m \u001b[04m\u001b[36mtorch\u001b[39;49;00m\u001b[04m\u001b[36m.\u001b[39;49;00m\u001b[04m\u001b[36moptim\u001b[39;49;00m \u001b[34mas\u001b[39;49;00m \u001b[04m\u001b[36moptim\u001b[39;49;00m\r\n",
      "\u001b[34mimport\u001b[39;49;00m \u001b[04m\u001b[36mtorch\u001b[39;49;00m\u001b[04m\u001b[36m.\u001b[39;49;00m\u001b[04m\u001b[36mutils\u001b[39;49;00m\u001b[04m\u001b[36m.\u001b[39;49;00m\u001b[04m\u001b[36mdata\u001b[39;49;00m\r\n",
      "\r\n",
      "\u001b[34mfrom\u001b[39;49;00m \u001b[04m\u001b[36mmodel\u001b[39;49;00m \u001b[34mimport\u001b[39;49;00m BinaryClassifier\r\n",
      "\r\n",
      "\u001b[34mdef\u001b[39;49;00m \u001b[32mmodel_fn\u001b[39;49;00m(model_dir):\r\n",
      "    \u001b[33m\"\"\"Load the PyTorch model from the `model_dir` directory.\"\"\"\u001b[39;49;00m\r\n",
      "    \u001b[36mprint\u001b[39;49;00m(\u001b[33m\"\u001b[39;49;00m\u001b[33mLoading model.\u001b[39;49;00m\u001b[33m\"\u001b[39;49;00m)\r\n",
      "\r\n",
      "    \u001b[37m# Load the parameters used to create the model\u001b[39;49;00m\r\n",
      "    model_info = {}\r\n",
      "    model_info_path = os.path.join(model_dir, \u001b[33m'\u001b[39;49;00m\u001b[33mmodel_info.pth\u001b[39;49;00m\u001b[33m'\u001b[39;49;00m)\r\n",
      "    \u001b[34mwith\u001b[39;49;00m \u001b[36mopen\u001b[39;49;00m(model_info_path, \u001b[33m'\u001b[39;49;00m\u001b[33mrb\u001b[39;49;00m\u001b[33m'\u001b[39;49;00m) \u001b[34mas\u001b[39;49;00m f:\r\n",
      "        model_info = torch.load(f)\r\n",
      "\r\n",
      "    \u001b[36mprint\u001b[39;49;00m(\u001b[33m\"\u001b[39;49;00m\u001b[33mmodel_info: \u001b[39;49;00m\u001b[33m{}\u001b[39;49;00m\u001b[33m\"\u001b[39;49;00m.format(model_info))\r\n",
      "\r\n",
      "    \u001b[37m# Determine the device and construct the model\u001b[39;49;00m\r\n",
      "    device = torch.device(\u001b[33m\"\u001b[39;49;00m\u001b[33mcuda\u001b[39;49;00m\u001b[33m\"\u001b[39;49;00m \u001b[34mif\u001b[39;49;00m torch.cuda.is_available() \u001b[34melse\u001b[39;49;00m \u001b[33m\"\u001b[39;49;00m\u001b[33mcpu\u001b[39;49;00m\u001b[33m\"\u001b[39;49;00m)\r\n",
      "    model = BinaryClassifier(model_info[\u001b[33m'\u001b[39;49;00m\u001b[33minput_features\u001b[39;49;00m\u001b[33m'\u001b[39;49;00m], model_info[\u001b[33m'\u001b[39;49;00m\u001b[33mhidden_dim\u001b[39;49;00m\u001b[33m'\u001b[39;49;00m], model_info[\u001b[33m'\u001b[39;49;00m\u001b[33moutput_dim\u001b[39;49;00m\u001b[33m'\u001b[39;49;00m])\r\n",
      "\r\n",
      "    \u001b[37m# Load the stored model parameters\u001b[39;49;00m\r\n",
      "    model_path = os.path.join(model_dir, \u001b[33m'\u001b[39;49;00m\u001b[33mmodel.pth\u001b[39;49;00m\u001b[33m'\u001b[39;49;00m)\r\n",
      "    \u001b[34mwith\u001b[39;49;00m \u001b[36mopen\u001b[39;49;00m(model_path, \u001b[33m'\u001b[39;49;00m\u001b[33mrb\u001b[39;49;00m\u001b[33m'\u001b[39;49;00m) \u001b[34mas\u001b[39;49;00m f:\r\n",
      "        model.load_state_dict(torch.load(f))\r\n",
      "\r\n",
      "    \u001b[37m# Set to eval mode, could use no_grad\u001b[39;49;00m\r\n",
      "    model.to(device).eval()\r\n",
      "\r\n",
      "    \u001b[36mprint\u001b[39;49;00m(\u001b[33m\"\u001b[39;49;00m\u001b[33mDone loading model.\u001b[39;49;00m\u001b[33m\"\u001b[39;49;00m)\r\n",
      "    \u001b[34mreturn\u001b[39;49;00m model\r\n",
      "\r\n",
      "\u001b[37m# Gets training data in batches from the train.csv file\u001b[39;49;00m\r\n",
      "\u001b[34mdef\u001b[39;49;00m \u001b[32m_get_train_data_loader\u001b[39;49;00m(batch_size, training_dir):\r\n",
      "    \u001b[36mprint\u001b[39;49;00m(\u001b[33m\"\u001b[39;49;00m\u001b[33mGet train data loader.\u001b[39;49;00m\u001b[33m\"\u001b[39;49;00m)\r\n",
      "\r\n",
      "    train_data = pd.read_csv(os.path.join(training_dir, \u001b[33m\"\u001b[39;49;00m\u001b[33mtrain.csv\u001b[39;49;00m\u001b[33m\"\u001b[39;49;00m), header=\u001b[34mNone\u001b[39;49;00m, names=\u001b[34mNone\u001b[39;49;00m)\r\n",
      "    \r\n",
      "    \u001b[37m# Labels are in the first column\u001b[39;49;00m\r\n",
      "    train_y = torch.from_numpy(train_data[[\u001b[34m0\u001b[39;49;00m]].values).float().squeeze()\r\n",
      "    \u001b[37m# Features are in the remaining columns\u001b[39;49;00m\r\n",
      "    train_x = torch.from_numpy(train_data.drop([\u001b[34m0\u001b[39;49;00m], axis=\u001b[34m1\u001b[39;49;00m).values).float()\r\n",
      "\r\n",
      "    \u001b[37m# Create the dataset\u001b[39;49;00m\r\n",
      "    train_ds = torch.utils.data.TensorDataset(train_x, train_y)\r\n",
      "\r\n",
      "    \u001b[34mreturn\u001b[39;49;00m torch.utils.data.DataLoader(train_ds, batch_size=batch_size)\r\n",
      "\r\n",
      "\r\n",
      "\u001b[37m# Provided training function\u001b[39;49;00m\r\n",
      "\u001b[34mdef\u001b[39;49;00m \u001b[32mtrain\u001b[39;49;00m(model, train_loader, epochs, criterion, optimizer, device):\r\n",
      "    \u001b[33m\"\"\"\u001b[39;49;00m\r\n",
      "\u001b[33m    This is the training method that is called by the PyTorch training script. The parameters\u001b[39;49;00m\r\n",
      "\u001b[33m    passed are as follows:\u001b[39;49;00m\r\n",
      "\u001b[33m    model        - The PyTorch model to be trained.\u001b[39;49;00m\r\n",
      "\u001b[33m    train_loader - The PyTorch DataLoader used during training.\u001b[39;49;00m\r\n",
      "\u001b[33m    epochs       - The total number of epochs to train for.\u001b[39;49;00m\r\n",
      "\u001b[33m    criterion    - The loss function used for training. \u001b[39;49;00m\r\n",
      "\u001b[33m    optimizer    - The optimizer to use during training.\u001b[39;49;00m\r\n",
      "\u001b[33m    device       - Where the model and data should be loaded (gpu or cpu).\u001b[39;49;00m\r\n",
      "\u001b[33m    \"\"\"\u001b[39;49;00m\r\n",
      "\r\n",
      "    \u001b[37m# Training loop\u001b[39;49;00m\r\n",
      "    \u001b[34mfor\u001b[39;49;00m epoch \u001b[35min\u001b[39;49;00m \u001b[36mrange\u001b[39;49;00m(\u001b[34m1\u001b[39;49;00m, epochs + \u001b[34m1\u001b[39;49;00m):\r\n",
      "        model.train() \u001b[37m# Make sure that the model is in training mode.\u001b[39;49;00m\r\n",
      "\r\n",
      "        total_loss = \u001b[34m0\u001b[39;49;00m\r\n",
      "\r\n",
      "        \u001b[34mfor\u001b[39;49;00m batch \u001b[35min\u001b[39;49;00m train_loader:\r\n",
      "            \u001b[37m# Get data\u001b[39;49;00m\r\n",
      "            batch_x, batch_y = batch\r\n",
      "\r\n",
      "            batch_x = batch_x.to(device)\r\n",
      "            batch_y = batch_y.to(device)\r\n",
      "\r\n",
      "            optimizer.zero_grad()\r\n",
      "\r\n",
      "            \u001b[37m# Get predictions from model\u001b[39;49;00m\r\n",
      "            y_pred = model(batch_x)\r\n",
      "            \r\n",
      "            \u001b[37m# Perform backprop\u001b[39;49;00m\r\n",
      "            loss = criterion(y_pred, batch_y)\r\n",
      "            loss.backward()\r\n",
      "            optimizer.step()\r\n",
      "            \r\n",
      "            total_loss += loss.data.item()\r\n",
      "\r\n",
      "        \u001b[36mprint\u001b[39;49;00m(\u001b[33m\"\u001b[39;49;00m\u001b[33mEpoch: \u001b[39;49;00m\u001b[33m{}\u001b[39;49;00m\u001b[33m, Loss: \u001b[39;49;00m\u001b[33m{}\u001b[39;49;00m\u001b[33m\"\u001b[39;49;00m.format(epoch, total_loss / \u001b[36mlen\u001b[39;49;00m(train_loader)))\r\n",
      "\r\n",
      "\r\n",
      "\u001b[34mif\u001b[39;49;00m \u001b[31m__name__\u001b[39;49;00m == \u001b[33m'\u001b[39;49;00m\u001b[33m__main__\u001b[39;49;00m\u001b[33m'\u001b[39;49;00m:\r\n",
      "    \r\n",
      "    \u001b[37m# All of the model paramaters and training parameters are sent as arguments\u001b[39;49;00m\r\n",
      "    \u001b[37m# when this script is executed during a training job.\u001b[39;49;00m\r\n",
      "\r\n",
      "    \u001b[37m# Set up argument parser to access parameters\u001b[39;49;00m\r\n",
      "    parser = argparse.ArgumentParser()\r\n",
      "\r\n",
      "    \u001b[37m# SageMaker parameters, like the directories for training data/saving models; automatically set\u001b[39;49;00m\r\n",
      "    parser.add_argument(\u001b[33m'\u001b[39;49;00m\u001b[33m--output-data-dir\u001b[39;49;00m\u001b[33m'\u001b[39;49;00m, \u001b[36mtype\u001b[39;49;00m=\u001b[36mstr\u001b[39;49;00m, default=os.environ[\u001b[33m'\u001b[39;49;00m\u001b[33mSM_OUTPUT_DATA_DIR\u001b[39;49;00m\u001b[33m'\u001b[39;49;00m])\r\n",
      "    parser.add_argument(\u001b[33m'\u001b[39;49;00m\u001b[33m--model-dir\u001b[39;49;00m\u001b[33m'\u001b[39;49;00m, \u001b[36mtype\u001b[39;49;00m=\u001b[36mstr\u001b[39;49;00m, default=os.environ[\u001b[33m'\u001b[39;49;00m\u001b[33mSM_MODEL_DIR\u001b[39;49;00m\u001b[33m'\u001b[39;49;00m])\r\n",
      "    parser.add_argument(\u001b[33m'\u001b[39;49;00m\u001b[33m--data-dir\u001b[39;49;00m\u001b[33m'\u001b[39;49;00m, \u001b[36mtype\u001b[39;49;00m=\u001b[36mstr\u001b[39;49;00m, default=os.environ[\u001b[33m'\u001b[39;49;00m\u001b[33mSM_CHANNEL_TRAIN\u001b[39;49;00m\u001b[33m'\u001b[39;49;00m])\r\n",
      "    \r\n",
      "    \u001b[37m# Training Parameters\u001b[39;49;00m\r\n",
      "    parser.add_argument(\u001b[33m'\u001b[39;49;00m\u001b[33m--batch-size\u001b[39;49;00m\u001b[33m'\u001b[39;49;00m, \u001b[36mtype\u001b[39;49;00m=\u001b[36mint\u001b[39;49;00m, default=\u001b[34m10\u001b[39;49;00m, metavar=\u001b[33m'\u001b[39;49;00m\u001b[33mN\u001b[39;49;00m\u001b[33m'\u001b[39;49;00m,\r\n",
      "                        help=\u001b[33m'\u001b[39;49;00m\u001b[33minput batch size for training (default: 10)\u001b[39;49;00m\u001b[33m'\u001b[39;49;00m)\r\n",
      "    parser.add_argument(\u001b[33m'\u001b[39;49;00m\u001b[33m--epochs\u001b[39;49;00m\u001b[33m'\u001b[39;49;00m, \u001b[36mtype\u001b[39;49;00m=\u001b[36mint\u001b[39;49;00m, default=\u001b[34m10\u001b[39;49;00m, metavar=\u001b[33m'\u001b[39;49;00m\u001b[33mN\u001b[39;49;00m\u001b[33m'\u001b[39;49;00m,\r\n",
      "                        help=\u001b[33m'\u001b[39;49;00m\u001b[33mnumber of epochs to train (default: 10)\u001b[39;49;00m\u001b[33m'\u001b[39;49;00m)\r\n",
      "    parser.add_argument(\u001b[33m'\u001b[39;49;00m\u001b[33m--seed\u001b[39;49;00m\u001b[33m'\u001b[39;49;00m, \u001b[36mtype\u001b[39;49;00m=\u001b[36mint\u001b[39;49;00m, default=\u001b[34m1\u001b[39;49;00m, metavar=\u001b[33m'\u001b[39;49;00m\u001b[33mS\u001b[39;49;00m\u001b[33m'\u001b[39;49;00m,\r\n",
      "                        help=\u001b[33m'\u001b[39;49;00m\u001b[33mrandom seed (default: 1)\u001b[39;49;00m\u001b[33m'\u001b[39;49;00m)\r\n",
      "    parser.add_argument(\u001b[33m'\u001b[39;49;00m\u001b[33m--lr\u001b[39;49;00m\u001b[33m'\u001b[39;49;00m, \u001b[36mtype\u001b[39;49;00m=\u001b[36mfloat\u001b[39;49;00m, default=\u001b[34m0.001\u001b[39;49;00m, metavar=\u001b[33m'\u001b[39;49;00m\u001b[33mLR\u001b[39;49;00m\u001b[33m'\u001b[39;49;00m,\r\n",
      "                        help=\u001b[33m'\u001b[39;49;00m\u001b[33mlearning rate (default: 0.001)\u001b[39;49;00m\u001b[33m'\u001b[39;49;00m)\r\n",
      "    \r\n",
      "    \u001b[37m# Model Parameters\u001b[39;49;00m\r\n",
      "    \u001b[37m# Args for model parameters: input_features, hidden_dim, output_dim\u001b[39;49;00m\r\n",
      "    parser.add_argument(\u001b[33m'\u001b[39;49;00m\u001b[33m--input_features\u001b[39;49;00m\u001b[33m'\u001b[39;49;00m, \u001b[36mtype\u001b[39;49;00m=\u001b[36mint\u001b[39;49;00m, default=\u001b[34m2\u001b[39;49;00m, metavar=\u001b[33m'\u001b[39;49;00m\u001b[33mIN\u001b[39;49;00m\u001b[33m'\u001b[39;49;00m,\r\n",
      "                        help=\u001b[33m'\u001b[39;49;00m\u001b[33mnumber of input features to model (default: 2)\u001b[39;49;00m\u001b[33m'\u001b[39;49;00m)\r\n",
      "    parser.add_argument(\u001b[33m'\u001b[39;49;00m\u001b[33m--hidden_dim\u001b[39;49;00m\u001b[33m'\u001b[39;49;00m, \u001b[36mtype\u001b[39;49;00m=\u001b[36mint\u001b[39;49;00m, default=\u001b[34m10\u001b[39;49;00m, metavar=\u001b[33m'\u001b[39;49;00m\u001b[33mH\u001b[39;49;00m\u001b[33m'\u001b[39;49;00m,\r\n",
      "                        help=\u001b[33m'\u001b[39;49;00m\u001b[33mhidden dim of model (default: 10)\u001b[39;49;00m\u001b[33m'\u001b[39;49;00m)\r\n",
      "    parser.add_argument(\u001b[33m'\u001b[39;49;00m\u001b[33m--output_dim\u001b[39;49;00m\u001b[33m'\u001b[39;49;00m, \u001b[36mtype\u001b[39;49;00m=\u001b[36mint\u001b[39;49;00m, default=\u001b[34m1\u001b[39;49;00m, metavar=\u001b[33m'\u001b[39;49;00m\u001b[33mOUT\u001b[39;49;00m\u001b[33m'\u001b[39;49;00m,\r\n",
      "                        help=\u001b[33m'\u001b[39;49;00m\u001b[33moutput dim of model (default: 1)\u001b[39;49;00m\u001b[33m'\u001b[39;49;00m)\r\n",
      "    \r\n",
      "    \u001b[37m# args holds all passed-in arguments\u001b[39;49;00m\r\n",
      "    args = parser.parse_args()\r\n",
      "\r\n",
      "    device = torch.device(\u001b[33m\"\u001b[39;49;00m\u001b[33mcuda\u001b[39;49;00m\u001b[33m\"\u001b[39;49;00m \u001b[34mif\u001b[39;49;00m torch.cuda.is_available() \u001b[34melse\u001b[39;49;00m \u001b[33m\"\u001b[39;49;00m\u001b[33mcpu\u001b[39;49;00m\u001b[33m\"\u001b[39;49;00m)\r\n",
      "    \u001b[36mprint\u001b[39;49;00m(\u001b[33m\"\u001b[39;49;00m\u001b[33mUsing device \u001b[39;49;00m\u001b[33m{}\u001b[39;49;00m\u001b[33m.\u001b[39;49;00m\u001b[33m\"\u001b[39;49;00m.format(device))\r\n",
      "\r\n",
      "    \u001b[37m# Set seed for generating random numbers\u001b[39;49;00m\r\n",
      "    torch.manual_seed(args.seed)\r\n",
      "    \u001b[34mif\u001b[39;49;00m torch.cuda.is_available():\r\n",
      "        torch.cuda.manual_seed(args.seed)\r\n",
      "\r\n",
      "    \u001b[37m# Load the training data\u001b[39;49;00m\r\n",
      "    train_loader = _get_train_data_loader(args.batch_size, args.data_dir)\r\n",
      "\r\n",
      "    \u001b[37m# Build the model with input params.\u001b[39;49;00m\r\n",
      "    \u001b[37m# Model moved to designated device (gpu/cpu).\u001b[39;49;00m\r\n",
      "    model = BinaryClassifier(args.input_features, args.hidden_dim, args.output_dim).to(device)\r\n",
      "\r\n",
      "    \u001b[37m# Define an optimizer and loss function for training\u001b[39;49;00m\r\n",
      "    optimizer = optim.Adam(model.parameters(), lr=args.lr)\r\n",
      "    criterion = nn.BCELoss()\r\n",
      "\r\n",
      "    \u001b[37m# Train the model\u001b[39;49;00m\r\n",
      "    train(model, train_loader, args.epochs, criterion, optimizer, device)\r\n",
      "\r\n",
      "    \u001b[37m# Save model params\u001b[39;49;00m\r\n",
      "    model_info_path = os.path.join(args.model_dir, \u001b[33m'\u001b[39;49;00m\u001b[33mmodel_info.pth\u001b[39;49;00m\u001b[33m'\u001b[39;49;00m)\r\n",
      "    \u001b[34mwith\u001b[39;49;00m \u001b[36mopen\u001b[39;49;00m(model_info_path, \u001b[33m'\u001b[39;49;00m\u001b[33mwb\u001b[39;49;00m\u001b[33m'\u001b[39;49;00m) \u001b[34mas\u001b[39;49;00m f:\r\n",
      "        model_info = {\r\n",
      "            \u001b[33m'\u001b[39;49;00m\u001b[33minput_features\u001b[39;49;00m\u001b[33m'\u001b[39;49;00m: args.input_features,\r\n",
      "            \u001b[33m'\u001b[39;49;00m\u001b[33mhidden_dim\u001b[39;49;00m\u001b[33m'\u001b[39;49;00m: args.hidden_dim,\r\n",
      "            \u001b[33m'\u001b[39;49;00m\u001b[33moutput_dim\u001b[39;49;00m\u001b[33m'\u001b[39;49;00m: args.output_dim,\r\n",
      "        }\r\n",
      "        torch.save(model_info, f)\r\n",
      "\r\n",
      "\t\u001b[37m# Save the model \u001b[39;49;00m\r\n",
      "    model_path = os.path.join(args.model_dir, \u001b[33m'\u001b[39;49;00m\u001b[33mmodel.pth\u001b[39;49;00m\u001b[33m'\u001b[39;49;00m)\r\n",
      "    \u001b[34mwith\u001b[39;49;00m \u001b[36mopen\u001b[39;49;00m(model_path, \u001b[33m'\u001b[39;49;00m\u001b[33mwb\u001b[39;49;00m\u001b[33m'\u001b[39;49;00m) \u001b[34mas\u001b[39;49;00m f:\r\n",
      "        torch.save(model.cpu().state_dict(), f)\r\n"
     ]
    }
   ],
   "source": [
    "#PyTorch: Feed Forward Neural Network \n",
    "!pygmentize source_pytorch/train.py"
   ]
  },
  {
   "cell_type": "markdown",
   "metadata": {},
   "source": [
    "## Create PyTorch Estimator"
   ]
  },
  {
   "cell_type": "code",
   "execution_count": 152,
   "metadata": {
    "scrolled": true
   },
   "outputs": [
    {
     "name": "stderr",
     "output_type": "stream",
     "text": [
      "train_instance_count has been renamed in sagemaker>=2.\n",
      "See: https://sagemaker.readthedocs.io/en/stable/v2.html for details.\n",
      "train_instance_type has been renamed in sagemaker>=2.\n",
      "See: https://sagemaker.readthedocs.io/en/stable/v2.html for details.\n"
     ]
    }
   ],
   "source": [
    "# import a PyTorch wrapper\n",
    "from sagemaker.pytorch import PyTorch\n",
    "\n",
    "# specify an output path\n",
    "output_path = 's3://{}/{}'.format(bucket, prefix)\n",
    "\n",
    "# instantiate a pytorch estimator\n",
    "estimator = PyTorch(entry_point='train.py',\n",
    "                    source_dir='source_pytorch',\n",
    "                    role=role,\n",
    "                    py_version=\"py3\",\n",
    "                    framework_version='1.0',\n",
    "                    train_instance_count=1,\n",
    "                    train_instance_type='ml.m5.large',\n",
    "                    output_path=output_path,\n",
    "                    sagemaker_session=sagemaker_session,\n",
    "                    hyperparameters={\n",
    "                        'input_features': 3, # number of features\n",
    "                        'hidden_dim': 2,\n",
    "                        'output_dim': 1,\n",
    "                        'epochs': 80\n",
    "                    })"
   ]
  },
  {
   "cell_type": "markdown",
   "metadata": {},
   "source": [
    "### Train neural network model"
   ]
  },
  {
   "cell_type": "code",
   "execution_count": 153,
   "metadata": {},
   "outputs": [
    {
     "name": "stdout",
     "output_type": "stream",
     "text": [
      "2021-04-14 16:29:28 Starting - Starting the training job...\n",
      "2021-04-14 16:29:30 Starting - Launching requested ML instancesProfilerReport-1618417768: InProgress\n",
      "......\n",
      "2021-04-14 16:30:35 Starting - Preparing the instances for training......\n",
      "2021-04-14 16:31:56 Downloading - Downloading input data\n",
      "2021-04-14 16:31:56 Training - Downloading the training image...\n",
      "2021-04-14 16:32:27 Uploading - Uploading generated training model\u001b[34mbash: cannot set terminal process group (-1): Inappropriate ioctl for device\u001b[0m\n",
      "\u001b[34mbash: no job control in this shell\u001b[0m\n",
      "\u001b[34m2021-04-14 16:32:12,968 sagemaker-containers INFO     Imported framework sagemaker_pytorch_container.training\u001b[0m\n",
      "\u001b[34m2021-04-14 16:32:12,971 sagemaker-containers INFO     No GPUs detected (normal if no gpus installed)\u001b[0m\n",
      "\u001b[34m2021-04-14 16:32:12,982 sagemaker_pytorch_container.training INFO     Block until all host DNS lookups succeed.\u001b[0m\n",
      "\u001b[34m2021-04-14 16:32:12,983 sagemaker_pytorch_container.training INFO     Invoking user training script.\u001b[0m\n",
      "\u001b[34m2021-04-14 16:32:13,206 sagemaker-containers INFO     Module train does not provide a setup.py. \u001b[0m\n",
      "\u001b[34mGenerating setup.py\u001b[0m\n",
      "\u001b[34m2021-04-14 16:32:13,207 sagemaker-containers INFO     Generating setup.cfg\u001b[0m\n",
      "\u001b[34m2021-04-14 16:32:13,207 sagemaker-containers INFO     Generating MANIFEST.in\u001b[0m\n",
      "\u001b[34m2021-04-14 16:32:13,207 sagemaker-containers INFO     Installing module with the following command:\u001b[0m\n",
      "\u001b[34m/usr/bin/python -m pip install -U . \u001b[0m\n",
      "\u001b[34mProcessing /opt/ml/code\u001b[0m\n",
      "\u001b[34mBuilding wheels for collected packages: train\n",
      "  Running setup.py bdist_wheel for train: started\n",
      "  Running setup.py bdist_wheel for train: finished with status 'done'\n",
      "  Stored in directory: /tmp/pip-ephem-wheel-cache-qxrdyqxn/wheels/35/24/16/37574d11bf9bde50616c67372a334f94fa8356bc7164af8ca3\u001b[0m\n",
      "\u001b[34mSuccessfully built train\u001b[0m\n",
      "\u001b[34mInstalling collected packages: train\u001b[0m\n",
      "\u001b[34mSuccessfully installed train-1.0.0\u001b[0m\n",
      "\u001b[34mYou are using pip version 18.1, however version 21.0.1 is available.\u001b[0m\n",
      "\u001b[34mYou should consider upgrading via the 'pip install --upgrade pip' command.\u001b[0m\n",
      "\u001b[34m2021-04-14 16:32:14,609 sagemaker-containers INFO     No GPUs detected (normal if no gpus installed)\u001b[0m\n",
      "\u001b[34m2021-04-14 16:32:14,621 sagemaker-containers INFO     Invoking user script\n",
      "\u001b[0m\n",
      "\u001b[34mTraining Env:\n",
      "\u001b[0m\n",
      "\u001b[34m{\n",
      "    \"additional_framework_parameters\": {},\n",
      "    \"channel_input_dirs\": {\n",
      "        \"train\": \"/opt/ml/input/data/train\"\n",
      "    },\n",
      "    \"current_host\": \"algo-1\",\n",
      "    \"framework_module\": \"sagemaker_pytorch_container.training:main\",\n",
      "    \"hosts\": [\n",
      "        \"algo-1\"\n",
      "    ],\n",
      "    \"hyperparameters\": {\n",
      "        \"hidden_dim\": 2,\n",
      "        \"input_features\": 3,\n",
      "        \"epochs\": 80,\n",
      "        \"output_dim\": 1\n",
      "    },\n",
      "    \"input_config_dir\": \"/opt/ml/input/config\",\n",
      "    \"input_data_config\": {\n",
      "        \"train\": {\n",
      "            \"TrainingInputMode\": \"File\",\n",
      "            \"S3DistributionType\": \"FullyReplicated\",\n",
      "            \"RecordWrapperType\": \"None\"\n",
      "        }\n",
      "    },\n",
      "    \"input_dir\": \"/opt/ml/input\",\n",
      "    \"is_master\": true,\n",
      "    \"job_name\": \"sagemaker-pytorch-2021-04-14-16-29-28-335\",\n",
      "    \"log_level\": 20,\n",
      "    \"master_hostname\": \"algo-1\",\n",
      "    \"model_dir\": \"/opt/ml/model\",\n",
      "    \"module_dir\": \"s3://sagemaker-eu-north-1-186768347586/sagemaker-pytorch-2021-04-14-16-29-28-335/source/sourcedir.tar.gz\",\n",
      "    \"module_name\": \"train\",\n",
      "    \"network_interface_name\": \"eth0\",\n",
      "    \"num_cpus\": 2,\n",
      "    \"num_gpus\": 0,\n",
      "    \"output_data_dir\": \"/opt/ml/output/data\",\n",
      "    \"output_dir\": \"/opt/ml/output\",\n",
      "    \"output_intermediate_dir\": \"/opt/ml/output/intermediate\",\n",
      "    \"resource_config\": {\n",
      "        \"current_host\": \"algo-1\",\n",
      "        \"hosts\": [\n",
      "            \"algo-1\"\n",
      "        ],\n",
      "        \"network_interface_name\": \"eth0\"\n",
      "    },\n",
      "    \"user_entry_point\": \"train.py\"\u001b[0m\n",
      "\u001b[34m}\n",
      "\u001b[0m\n",
      "\u001b[34mEnvironment variables:\n",
      "\u001b[0m\n",
      "\u001b[34mSM_HOSTS=[\"algo-1\"]\u001b[0m\n",
      "\u001b[34mSM_NETWORK_INTERFACE_NAME=eth0\u001b[0m\n",
      "\u001b[34mSM_HPS={\"epochs\":80,\"hidden_dim\":2,\"input_features\":3,\"output_dim\":1}\u001b[0m\n",
      "\u001b[34mSM_USER_ENTRY_POINT=train.py\u001b[0m\n",
      "\u001b[34mSM_FRAMEWORK_PARAMS={}\u001b[0m\n",
      "\u001b[34mSM_RESOURCE_CONFIG={\"current_host\":\"algo-1\",\"hosts\":[\"algo-1\"],\"network_interface_name\":\"eth0\"}\u001b[0m\n",
      "\u001b[34mSM_INPUT_DATA_CONFIG={\"train\":{\"RecordWrapperType\":\"None\",\"S3DistributionType\":\"FullyReplicated\",\"TrainingInputMode\":\"File\"}}\u001b[0m\n",
      "\u001b[34mSM_OUTPUT_DATA_DIR=/opt/ml/output/data\u001b[0m\n",
      "\u001b[34mSM_CHANNELS=[\"train\"]\u001b[0m\n",
      "\u001b[34mSM_CURRENT_HOST=algo-1\u001b[0m\n",
      "\u001b[34mSM_MODULE_NAME=train\u001b[0m\n",
      "\u001b[34mSM_LOG_LEVEL=20\u001b[0m\n",
      "\u001b[34mSM_FRAMEWORK_MODULE=sagemaker_pytorch_container.training:main\u001b[0m\n",
      "\u001b[34mSM_INPUT_DIR=/opt/ml/input\u001b[0m\n",
      "\u001b[34mSM_INPUT_CONFIG_DIR=/opt/ml/input/config\u001b[0m\n",
      "\u001b[34mSM_OUTPUT_DIR=/opt/ml/output\u001b[0m\n",
      "\u001b[34mSM_NUM_CPUS=2\u001b[0m\n",
      "\u001b[34mSM_NUM_GPUS=0\u001b[0m\n",
      "\u001b[34mSM_MODEL_DIR=/opt/ml/model\u001b[0m\n",
      "\u001b[34mSM_MODULE_DIR=s3://sagemaker-eu-north-1-186768347586/sagemaker-pytorch-2021-04-14-16-29-28-335/source/sourcedir.tar.gz\u001b[0m\n",
      "\u001b[34mSM_TRAINING_ENV={\"additional_framework_parameters\":{},\"channel_input_dirs\":{\"train\":\"/opt/ml/input/data/train\"},\"current_host\":\"algo-1\",\"framework_module\":\"sagemaker_pytorch_container.training:main\",\"hosts\":[\"algo-1\"],\"hyperparameters\":{\"epochs\":80,\"hidden_dim\":2,\"input_features\":3,\"output_dim\":1},\"input_config_dir\":\"/opt/ml/input/config\",\"input_data_config\":{\"train\":{\"RecordWrapperType\":\"None\",\"S3DistributionType\":\"FullyReplicated\",\"TrainingInputMode\":\"File\"}},\"input_dir\":\"/opt/ml/input\",\"is_master\":true,\"job_name\":\"sagemaker-pytorch-2021-04-14-16-29-28-335\",\"log_level\":20,\"master_hostname\":\"algo-1\",\"model_dir\":\"/opt/ml/model\",\"module_dir\":\"s3://sagemaker-eu-north-1-186768347586/sagemaker-pytorch-2021-04-14-16-29-28-335/source/sourcedir.tar.gz\",\"module_name\":\"train\",\"network_interface_name\":\"eth0\",\"num_cpus\":2,\"num_gpus\":0,\"output_data_dir\":\"/opt/ml/output/data\",\"output_dir\":\"/opt/ml/output\",\"output_intermediate_dir\":\"/opt/ml/output/intermediate\",\"resource_config\":{\"current_host\":\"algo-1\",\"hosts\":[\"algo-1\"],\"network_interface_name\":\"eth0\"},\"user_entry_point\":\"train.py\"}\u001b[0m\n",
      "\u001b[34mSM_USER_ARGS=[\"--epochs\",\"80\",\"--hidden_dim\",\"2\",\"--input_features\",\"3\",\"--output_dim\",\"1\"]\u001b[0m\n",
      "\u001b[34mSM_OUTPUT_INTERMEDIATE_DIR=/opt/ml/output/intermediate\u001b[0m\n",
      "\u001b[34mSM_CHANNEL_TRAIN=/opt/ml/input/data/train\u001b[0m\n",
      "\u001b[34mSM_HP_HIDDEN_DIM=2\u001b[0m\n",
      "\u001b[34mSM_HP_INPUT_FEATURES=3\u001b[0m\n",
      "\u001b[34mSM_HP_EPOCHS=80\u001b[0m\n",
      "\u001b[34mSM_HP_OUTPUT_DIM=1\u001b[0m\n",
      "\u001b[34mPYTHONPATH=/usr/local/bin:/usr/lib/python36.zip:/usr/lib/python3.6:/usr/lib/python3.6/lib-dynload:/usr/local/lib/python3.6/dist-packages:/usr/lib/python3/dist-packages\n",
      "\u001b[0m\n",
      "\u001b[34mInvoking script with the following command:\n",
      "\u001b[0m\n",
      "\u001b[34m/usr/bin/python -m train --epochs 80 --hidden_dim 2 --input_features 3 --output_dim 1\n",
      "\n",
      "\u001b[0m\n",
      "\u001b[34mUsing device cpu.\u001b[0m\n",
      "\u001b[34mGet train data loader.\u001b[0m\n",
      "\u001b[34mEpoch: 1, Loss: 0.7409974582493305\u001b[0m\n",
      "\u001b[34mEpoch: 2, Loss: 0.7210735954344273\u001b[0m\n",
      "\u001b[34mEpoch: 3, Loss: 0.6863133743405342\u001b[0m\n",
      "\u001b[34mEpoch: 4, Loss: 0.6825820952653885\u001b[0m\n",
      "\u001b[34mEpoch: 5, Loss: 0.6672697767615319\u001b[0m\n",
      "\u001b[34mEpoch: 6, Loss: 0.6626736655831337\u001b[0m\n",
      "\u001b[34mEpoch: 7, Loss: 0.6578768469393254\u001b[0m\n",
      "\u001b[34mEpoch: 8, Loss: 0.6571781419217586\u001b[0m\n",
      "\u001b[34mEpoch: 9, Loss: 0.6630887217819691\u001b[0m\n",
      "\u001b[34mEpoch: 10, Loss: 0.663642343878746\u001b[0m\n",
      "\u001b[34mEpoch: 11, Loss: 0.6562722533941269\u001b[0m\n",
      "\u001b[34mEpoch: 12, Loss: 0.6552920408546925\u001b[0m\n",
      "\u001b[34mEpoch: 13, Loss: 0.6602026961743832\u001b[0m\n",
      "\u001b[34mEpoch: 14, Loss: 0.6548587299883366\u001b[0m\n",
      "\u001b[34mEpoch: 15, Loss: 0.6526322294026613\u001b[0m\n",
      "\u001b[34mEpoch: 16, Loss: 0.6585125222802162\u001b[0m\n",
      "\u001b[34mEpoch: 17, Loss: 0.6581652455031872\u001b[0m\n",
      "\u001b[34mEpoch: 18, Loss: 0.6600281275808811\u001b[0m\n",
      "\u001b[34mEpoch: 19, Loss: 0.6605540797114372\u001b[0m\n",
      "\u001b[34mEpoch: 20, Loss: 0.6565803244709969\u001b[0m\n",
      "\u001b[34mEpoch: 21, Loss: 0.6559301070868969\u001b[0m\n",
      "\u001b[34mEpoch: 22, Loss: 0.6607657343149185\u001b[0m\n",
      "\u001b[34mEpoch: 23, Loss: 0.6538636088371277\u001b[0m\n",
      "\u001b[34mEpoch: 24, Loss: 0.6609018549323082\u001b[0m\n",
      "\u001b[34mEpoch: 25, Loss: 0.6557842060923577\u001b[0m\n",
      "\u001b[34mEpoch: 26, Loss: 0.6649760738015175\u001b[0m\n",
      "\u001b[34mEpoch: 27, Loss: 0.6646411582827568\u001b[0m\n",
      "\u001b[34mEpoch: 28, Loss: 0.6604719415307045\u001b[0m\n",
      "\u001b[34mEpoch: 29, Loss: 0.658128672093153\u001b[0m\n",
      "\u001b[34mEpoch: 30, Loss: 0.6621547237038612\u001b[0m\n",
      "\u001b[34mEpoch: 31, Loss: 0.6623470146209002\u001b[0m\n",
      "\u001b[34mEpoch: 32, Loss: 0.6580827455967665\u001b[0m\n",
      "\u001b[34mEpoch: 33, Loss: 0.6621331542730331\u001b[0m\n",
      "\u001b[34mEpoch: 34, Loss: 0.656681702286005\u001b[0m\n",
      "\u001b[34mEpoch: 35, Loss: 0.6580805856734514\u001b[0m\n",
      "\u001b[34mEpoch: 36, Loss: 0.6578128606081008\u001b[0m\n",
      "\u001b[34mEpoch: 37, Loss: 0.6586968101561069\u001b[0m\n",
      "\u001b[34mEpoch: 38, Loss: 0.658199093490839\u001b[0m\n",
      "\u001b[34mEpoch: 39, Loss: 0.6654771886765957\u001b[0m\n",
      "\u001b[34mEpoch: 40, Loss: 0.658401657640934\u001b[0m\n",
      "\u001b[34mEpoch: 41, Loss: 0.659476874768734\u001b[0m\n",
      "\u001b[34mEpoch: 42, Loss: 0.6568270973861218\u001b[0m\n",
      "\u001b[34mEpoch: 43, Loss: 0.6588307447731495\u001b[0m\n",
      "\u001b[34mEpoch: 44, Loss: 0.6620755180716514\u001b[0m\n",
      "\u001b[34mEpoch: 45, Loss: 0.6643134258687496\u001b[0m\n",
      "\u001b[34mEpoch: 46, Loss: 0.6539838775992394\u001b[0m\n",
      "\u001b[34mEpoch: 47, Loss: 0.6615077160298825\u001b[0m\n",
      "\u001b[34mEpoch: 48, Loss: 0.6602334313094615\u001b[0m\n",
      "\u001b[34mEpoch: 49, Loss: 0.6603220276534557\u001b[0m\n",
      "\u001b[34mEpoch: 50, Loss: 0.6601611256599427\u001b[0m\n",
      "\u001b[34mEpoch: 51, Loss: 0.6566050373017788\u001b[0m\n",
      "\u001b[34mEpoch: 52, Loss: 0.6529056958854198\u001b[0m\n",
      "\u001b[34mEpoch: 53, Loss: 0.6596822954714299\u001b[0m\n",
      "\u001b[34mEpoch: 54, Loss: 0.6615379109978676\u001b[0m\n",
      "\u001b[34mEpoch: 55, Loss: 0.6598561100661755\u001b[0m\n",
      "\u001b[34mEpoch: 56, Loss: 0.6620803013443947\u001b[0m\n",
      "\u001b[34mEpoch: 57, Loss: 0.6577839002013206\u001b[0m\n",
      "\u001b[34mEpoch: 58, Loss: 0.6512479245662689\u001b[0m\n",
      "\u001b[34mEpoch: 59, Loss: 0.6661778330802918\u001b[0m\n",
      "\u001b[34mEpoch: 60, Loss: 0.6660881742835045\u001b[0m\n",
      "\u001b[34mEpoch: 61, Loss: 0.6617325432598591\u001b[0m\n",
      "\u001b[34mEpoch: 62, Loss: 0.6571382768452168\u001b[0m\n",
      "\u001b[34mEpoch: 63, Loss: 0.6612297482788563\u001b[0m\n",
      "\u001b[34mEpoch: 64, Loss: 0.6605166010558605\u001b[0m\n",
      "\u001b[34mEpoch: 65, Loss: 0.6640573583543301\u001b[0m\n",
      "\u001b[34mEpoch: 66, Loss: 0.6620374597609043\u001b[0m\n",
      "\u001b[34mEpoch: 67, Loss: 0.6598999537527561\u001b[0m\n",
      "\u001b[34mEpoch: 68, Loss: 0.6653980374336242\u001b[0m\n",
      "\u001b[34mEpoch: 69, Loss: 0.6613503254950046\u001b[0m\n",
      "\u001b[34mEpoch: 70, Loss: 0.6579188495874405\u001b[0m\n",
      "\u001b[34mEpoch: 71, Loss: 0.6592492431402206\u001b[0m\n",
      "\u001b[34mEpoch: 72, Loss: 0.6594824880361557\u001b[0m\n",
      "\u001b[34mEpoch: 73, Loss: 0.6553712986409664\u001b[0m\n",
      "\u001b[34mEpoch: 74, Loss: 0.6504708014428615\u001b[0m\n",
      "\u001b[34mEpoch: 75, Loss: 0.6645108252763748\u001b[0m\n",
      "\u001b[34mEpoch: 76, Loss: 0.6644274234771729\u001b[0m\n",
      "\u001b[34mEpoch: 77, Loss: 0.6627187430858612\u001b[0m\n",
      "\u001b[34mEpoch: 78, Loss: 0.6638977319002152\u001b[0m\n",
      "\u001b[34mEpoch: 79, Loss: 0.6590852998197079\u001b[0m\n",
      "\u001b[34mEpoch: 80, Loss: 0.6600277327001095\u001b[0m\n",
      "\u001b[34m2021-04-14 16:32:19,650 sagemaker-containers INFO     Reporting training SUCCESS\u001b[0m\n",
      "\n",
      "2021-04-14 16:32:47 Completed - Training job completed\n",
      "Training seconds: 46\n",
      "Billable seconds: 46\n",
      "CPU times: user 596 ms, sys: 55.8 ms, total: 652 ms\n",
      "Wall time: 3min 42s\n"
     ]
    }
   ],
   "source": [
    "%%time \n",
    "# train the estimator on S3 training data\n",
    "estimator.fit({'train': uploaded_data_s3})"
   ]
  },
  {
   "cell_type": "markdown",
   "metadata": {},
   "source": [
    "## Instantiate a PyTorchModel"
   ]
  },
  {
   "cell_type": "code",
   "execution_count": 154,
   "metadata": {},
   "outputs": [],
   "source": [
    "from sagemaker.pytorch import PyTorchModel\n",
    "\n",
    "# Create a model from the trained estimator data\n",
    "# And point to the prediction script\n",
    "model = PyTorchModel(model_data=estimator.model_data,\n",
    "                     role=role,\n",
    "                     py_version=\"py3\",\n",
    "                     framework_version='1.0',\n",
    "                     entry_point='predict.py',\n",
    "                     source_dir='source_pytorch')"
   ]
  },
  {
   "cell_type": "markdown",
   "metadata": {},
   "source": [
    "## Deploy Model"
   ]
  },
  {
   "cell_type": "code",
   "execution_count": 155,
   "metadata": {},
   "outputs": [
    {
     "name": "stdout",
     "output_type": "stream",
     "text": [
      "-------------!CPU times: user 289 ms, sys: 10.7 ms, total: 300 ms\n",
      "Wall time: 6min 32s\n"
     ]
    }
   ],
   "source": [
    "%%time\n",
    "# deploy and create a predictor\n",
    "predictor = model.deploy(initial_instance_count=1, instance_type='ml.m5.large')"
   ]
  },
  {
   "cell_type": "code",
   "execution_count": 169,
   "metadata": {},
   "outputs": [],
   "source": [
    "# Convert test data\n",
    "X_test_converted = X_test.reset_index(drop=True).values.astype(int)\n",
    "y_test_converted = test_y.reset_index(drop=True).values.astype(int)\n"
   ]
  },
  {
   "cell_type": "code",
   "execution_count": 159,
   "metadata": {},
   "outputs": [],
   "source": [
    "# Evaluate the model\n",
    "def evaluate(predictor, test_features, test_labels, verbose=True):\n",
    "    \"\"\"\n",
    "    Evaluate a model on a test set given the prediction endpoint.  \n",
    "    Return binary classification metrics.\n",
    "    :param predictor: A prediction endpoint\n",
    "    :param test_features: Test features\n",
    "    :param test_labels: Class labels for test data\n",
    "    :param verbose: If True, prints a table of all performance metrics\n",
    "    :return: A dictionary of performance metrics.\n",
    "    \"\"\"\n",
    "    \n",
    "    # rounding and squeezing array\n",
    "    test_preds = np.squeeze(np.round(predictor.predict(test_features)))\n",
    "    \n",
    "    # calculate true positives, false positives, true negatives, false negatives\n",
    "    tp = np.logical_and(test_labels, test_preds).sum()\n",
    "    fp = np.logical_and(1-test_labels, test_preds).sum()\n",
    "    tn = np.logical_and(1-test_labels, 1-test_preds).sum()\n",
    "    fn = np.logical_and(test_labels, 1-test_preds).sum()\n",
    "    \n",
    "    # calculate binary classification metrics\n",
    "    recall = tp / (tp + fn)\n",
    "    precision = tp / (tp + fp)\n",
    "    accuracy = (tp + tn) / (tp + fp + tn + fn)\n",
    "    \n",
    "    # print metrics\n",
    "    if verbose:\n",
    "        print(pd.crosstab(test_labels, test_preds, rownames=['actuals'], colnames=['predictions']))\n",
    "        print(\"\\n{:<11} {:.3f}\".format('Recall:', recall))\n",
    "        print(\"{:<11} {:.3f}\".format('Precision:', precision))\n",
    "        print(\"{:<11} {:.3f}\".format('Accuracy:', accuracy))\n",
    "        print()\n",
    "        \n",
    "    return {'TP': tp, 'FP': fp, 'FN': fn, 'TN': tn, \n",
    "            'Precision': precision, 'Recall': recall, 'Accuracy': accuracy}"
   ]
  },
  {
   "cell_type": "markdown",
   "metadata": {},
   "source": [
    "### Predicted and true labels"
   ]
  },
  {
   "cell_type": "code",
   "execution_count": 177,
   "metadata": {
    "scrolled": true
   },
   "outputs": [
    {
     "name": "stdout",
     "output_type": "stream",
     "text": [
      "\n",
      "Predicted class labels: \n",
      "[0 1 1 1 1 0 1 0 1 1 1 1 1 1 1 0 1 1 0 0 1 1 0 0 1 1 1 1 1 1 0 0 1 1 1 1 1\n",
      " 1 1 1 1 0 1 0 1 1 1 0 1 0 0 1 1 1 1 1 0 1 1 1 1 1 1 1 1 0 1 1 1 0 1 1 1 1\n",
      " 1 1 1 1 1 1 0 1 1 1 1 1 1 1 1 1 1 1 1 1 1 1 0 0 0 1 1 1 1 0 1 1 1 1 1 1 1\n",
      " 1 1 1 1 1 1 1 1 1 1 1 1 1 1 1 1 1 0 0 1 1 1 1 1 0 1 1 1 1 1 0 1 1 1 0 1 1\n",
      " 1 1 0 0 1 1 0 1 1 0 1 1 1 1 1 1 1 0 1 1 1 1 1 0 1 1 1 1 1 1 1 1 1 0 0 1 1\n",
      " 1 1 1 1 1 1 1 1 1 1 1 1 1 1 0]\n",
      "\n",
      "True class labels: \n",
      "[0 1 0 1 0 0 1 0 0 1 1 1 0 0 1 0 1 0 0 0 1 0 0 0 0 0 1 1 1 0 0 0 1 0 1 1 0\n",
      " 0 0 0 1 0 0 0 1 0 0 0 1 1 0 1 1 0 0 1 0 0 1 0 0 1 1 1 0 0 1 0 0 0 1 0 1 1\n",
      " 0 0 1 1 0 1 0 0 1 0 0 1 0 1 1 0 0 1 1 0 1 0 0 0 1 0 0 1 0 0 1 0 1 1 1 0 0\n",
      " 1 0 1 1 0 1 1 1 0 0 1 1 0 0 0 1 1 0 0 0 0 1 0 1 0 1 0 0 1 1 0 0 1 1 0 1 1\n",
      " 1 0 0 0 0 0 1 1 1 0 1 1 0 1 1 1 1 0 1 0 0 1 0 0 1 0 1 0 1 1 0 0 1 0 1 0 1\n",
      " 1 1 1 1 0 1 1 1 1 0 1 1 1 1 0]\n"
     ]
    }
   ],
   "source": [
    "test_preds = np.squeeze(np.round(predictor.predict(X_test_converted)))\n",
    "\n",
    "## print out the array of predicted and true labels, if you want\n",
    "print('\\nPredicted class labels: ')\n",
    "print(test_preds.astype('int'))\n",
    "print('\\nTrue class labels: ')\n",
    "print(test_y.values)"
   ]
  },
  {
   "cell_type": "markdown",
   "metadata": {},
   "source": [
    "### Get metrics for custom predictor"
   ]
  },
  {
   "cell_type": "code",
   "execution_count": 178,
   "metadata": {
    "scrolled": true
   },
   "outputs": [
    {
     "name": "stdout",
     "output_type": "stream",
     "text": [
      "predictions  0.0  1.0\n",
      "actuals              \n",
      "0             33   71\n",
      "1              4   92\n",
      "\n",
      "Recall:     0.958\n",
      "Precision:  0.564\n",
      "Accuracy:   0.625\n",
      "\n"
     ]
    }
   ],
   "source": [
    "# get metrics for custom predictor\n",
    "metrics = evaluate(predictor, X_test_converted, y_test_converted, True)"
   ]
  },
  {
   "cell_type": "markdown",
   "metadata": {},
   "source": [
    "### Confusion matrix : Feed Forward Neural Network"
   ]
  },
  {
   "cell_type": "code",
   "execution_count": 179,
   "metadata": {
    "scrolled": true
   },
   "outputs": [
    {
     "name": "stdout",
     "output_type": "stream",
     "text": [
      "[[33 71]\n",
      " [ 4 92]]\n"
     ]
    },
    {
     "data": {
      "text/plain": [
       "Text(0.5, 1.0, 'Feed Forward Neural Network\\n')"
      ]
     },
     "execution_count": 179,
     "metadata": {},
     "output_type": "execute_result"
    },
    {
     "data": {
      "image/png": "[encoded data removed]",
      "text/plain": [
       "<Figure size 432x288 with 1 Axes>"
      ]
     },
     "metadata": {
      "needs_background": "light"
     },
     "output_type": "display_data"
    }
   ],
   "source": [
    "import sklearn.metrics as metrics\n",
    "c_matrix = metrics.confusion_matrix(test_y.astype('int'), test_preds.astype('int'))\n",
    "\n",
    "print(c_matrix)\n",
    "\n",
    "# Build the confusion matrix\n",
    "fig1, axs1 = plt.subplots(nrows=1, ncols=1)\n",
    "\n",
    "build_cmatrix(c_matrix, axs1)\n",
    "axs1.set_title('Feed Forward Neural Network\\n')"
   ]
  },
  {
   "cell_type": "markdown",
   "metadata": {},
   "source": [
    "### Normalized Confusion matrix : Feed Forward Neural Network"
   ]
  },
  {
   "cell_type": "code",
   "execution_count": 180,
   "metadata": {
    "scrolled": false
   },
   "outputs": [
    {
     "data": {
      "image/png": "[encoded data removed]",
      "text/plain": [
       "<Figure size 432x288 with 2 Axes>"
      ]
     },
     "metadata": {
      "needs_background": "light"
     },
     "output_type": "display_data"
    }
   ],
   "source": [
    "# Normalized\n",
    "import scikitplot as skplt\n",
    "skplt.metrics.plot_confusion_matrix(test_y.astype('int'), test_preds.astype('int'), normalize=True)\n",
    "plt.show()"
   ]
  },
  {
   "cell_type": "markdown",
   "metadata": {},
   "source": [
    "## Compare : Linear SVC and Feed Forward Neural Netwrok\n"
   ]
  },
  {
   "cell_type": "code",
   "execution_count": 196,
   "metadata": {
    "scrolled": true
   },
   "outputs": [
    {
     "data": {
      "text/html": [
       "<div>\n",
       "<style scoped>\n",
       "    .dataframe tbody tr th:only-of-type {\n",
       "        vertical-align: middle;\n",
       "    }\n",
       "\n",
       "    .dataframe tbody tr th {\n",
       "        vertical-align: top;\n",
       "    }\n",
       "\n",
       "    .dataframe thead th {\n",
       "        text-align: right;\n",
       "    }\n",
       "</style>\n",
       "<table border=\"1\" class=\"dataframe\">\n",
       "  <thead>\n",
       "    <tr style=\"text-align: right;\">\n",
       "      <th></th>\n",
       "      <th>Linear Classifier</th>\n",
       "      <th>Recurrent Classifier</th>\n",
       "    </tr>\n",
       "  </thead>\n",
       "  <tbody>\n",
       "    <tr>\n",
       "      <th>accuracy (%)</th>\n",
       "      <td>62.50%</td>\n",
       "      <td>62.50%</td>\n",
       "    </tr>\n",
       "    <tr>\n",
       "      <th>precision</th>\n",
       "      <td>0.564</td>\n",
       "      <td>0.56</td>\n",
       "    </tr>\n",
       "    <tr>\n",
       "      <th>recall</th>\n",
       "      <td>0.958</td>\n",
       "      <td>0.94</td>\n",
       "    </tr>\n",
       "  </tbody>\n",
       "</table>\n",
       "</div>"
      ],
      "text/plain": [
       "             Linear Classifier Recurrent Classifier\n",
       "accuracy (%)            62.50%               62.50%\n",
       "precision                0.564                 0.56\n",
       "recall                   0.958                 0.94"
      ]
     },
     "execution_count": 196,
     "metadata": {},
     "output_type": "execute_result"
    }
   ],
   "source": [
    "# Comparison\n",
    "\n",
    "# Table of results\n",
    "result_df = pd.DataFrame(\n",
    "    [[f'{0.625*100:.2f}%', 0.564, 0.958],\n",
    "     [f'{0.625*100:.2f}%', 0.56, 0.94]],\n",
    "    columns=['accuracy (%)', 'precision', 'recall'],\n",
    "    index=['Linear Classifier',\n",
    "         'Recurrent Classifier']).T\n",
    "\n",
    "result_df"
   ]
  },
  {
   "cell_type": "markdown",
   "metadata": {},
   "source": [
    "### Compare Confusion Matrix between two models"
   ]
  },
  {
   "cell_type": "code",
   "execution_count": 191,
   "metadata": {},
   "outputs": [
    {
     "name": "stdout",
     "output_type": "stream",
     "text": [
      "Feed Forward Neral Network\n",
      "[[33 71]\n",
      " [ 4 92]]\n",
      "\n",
      "Linear SVC\n",
      "[[35 69]\n",
      " [ 6 90]]\n"
     ]
    },
    {
     "data": {
      "text/plain": [
       "Text(0.5, 1.0, 'Linear SVE\\n')"
      ]
     },
     "execution_count": 191,
     "metadata": {},
     "output_type": "execute_result"
    },
    {
     "data": {
      "image/png": "[encoded data removed]",
      "text/plain": [
       "<Figure size 432x288 with 2 Axes>"
      ]
     },
     "metadata": {
      "needs_background": "light"
     },
     "output_type": "display_data"
    }
   ],
   "source": [
    "# Comparison\n",
    "\n",
    "fig, axs = plt.subplots(nrows=1, ncols=2)\n",
    "\n",
    "# Feed Forward Neral Network\n",
    "feed_forward_nuralNetwork_matrix = metrics.confusion_matrix(test_y.astype('int'), test_preds.astype('int'))\n",
    "print(\"Feed Forward Neral Network\")\n",
    "print(feed_forward_nuralNetwork_matrix); print(\"\")\n",
    "# Build the confusion matrix\n",
    "build_cmatrix(feed_forward_nuralNetwork_matrix, axs[0])\n",
    "axs[0].set_title('Feed Forward Neural Network\\n')\n",
    "\n",
    "\n",
    "# LinearSVC from sklearn\n",
    "sklearn_linearSVC_matrix = metrics.confusion_matrix(test_y.astype('int'), test_y_preds.astype('int'))\n",
    "print(\"Linear SVC\")\n",
    "print(sklearn_linearSVC_matrix)\n",
    "# Build the confusion matrix\n",
    "build_cmatrix(sklearn_linearSVC_matrix, axs[1])\n",
    "axs[1].set_title('Linear SVE\\n')"
   ]
  },
  {
   "cell_type": "markdown",
   "metadata": {},
   "source": [
    "## Delete Endpoints"
   ]
  },
  {
   "cell_type": "code",
   "execution_count": null,
   "metadata": {},
   "outputs": [],
   "source": [
    "# Accepts a predictor endpoint as input\n",
    "# And deletes the endpoint by name\n",
    "def delete_endpoint(predictor):\n",
    "        try:\n",
    "            boto3.client('sagemaker').delete_endpoint(EndpointName=predictor.endpoint)\n",
    "            print('Deleted {}'.format(predictor.endpoint))\n",
    "        except:\n",
    "            print('Already deleted: {}'.format(predictor.endpoint))"
   ]
  },
  {
   "cell_type": "code",
   "execution_count": null,
   "metadata": {},
   "outputs": [],
   "source": [
    "# delete the predictor endpoint \n",
    "delete_endpoint(predictor)"
   ]
  }
 ],
 "metadata": {
  "kernelspec": {
   "display_name": "conda_pytorch_p36",
   "language": "python",
   "name": "conda_pytorch_p36"
  },
  "language_info": {
   "codemirror_mode": {
    "name": "ipython",
    "version": 3
   },
   "file_extension": ".py",
   "mimetype": "text/x-python",
   "name": "python",
   "nbconvert_exporter": "python",
   "pygments_lexer": "ipython3",
   "version": "3.6.13"
  }
 },
 "nbformat": 4,
 "nbformat_minor": 4
}
